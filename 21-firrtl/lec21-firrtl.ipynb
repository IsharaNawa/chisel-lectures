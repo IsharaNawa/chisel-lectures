{
 "cells": [
  {
   "cell_type": "markdown",
   "id": "external-thermal",
   "metadata": {
    "slideshow": {
     "slide_type": "slide"
    }
   },
   "source": [
    "## Agile Hardware Design\n",
    "***\n",
    "# FIRRTL\n",
    "\n",
    "## Prof. Scott Beamer\n",
    "### sbeamer@ucsc.edu\n",
    "\n",
    "## [CSE 293](https://classes.soe.ucsc.edu/cse293/Spring21/)"
   ]
  },
  {
   "cell_type": "markdown",
   "id": "nominated-consistency",
   "metadata": {
    "slideshow": {
     "slide_type": "slide"
    }
   },
   "source": [
    "## Plan for Today\n",
    "\n",
    "* Motivation\n",
    "* FIRRTL Overview\n",
    "* Example Design in FIRRTL\n",
    "* Example Optimizations / Transforms\n",
    "* Future of Exposed IRs in Hardware Design"
   ]
  },
  {
   "cell_type": "markdown",
   "id": "regular-reducing",
   "metadata": {
    "slideshow": {
     "slide_type": "slide"
    }
   },
   "source": [
    "## Loading The Chisel Library Into a Notebook"
   ]
  },
  {
   "cell_type": "code",
   "execution_count": null,
   "id": "robust-immigration",
   "metadata": {},
   "outputs": [],
   "source": [
    "val path = System.getProperty(\"user.dir\") + \"/../resource/chisel_deps.sc\"\n",
    "interp.load.module(ammonite.ops.Path(java.nio.file.FileSystems.getDefault().getPath(path)))"
   ]
  },
  {
   "cell_type": "code",
   "execution_count": null,
   "id": "extended-burning",
   "metadata": {
    "slideshow": {
     "slide_type": "-"
    }
   },
   "outputs": [],
   "source": [
    "import chisel3._\n",
    "import chisel3.util._\n",
    "import chisel3.tester._\n",
    "import chisel3.tester.RawTester.test"
   ]
  },
  {
   "cell_type": "markdown",
   "id": "auburn-characterization",
   "metadata": {
    "slideshow": {
     "slide_type": "slide"
    }
   },
   "source": [
    "## What Have We Been Doing with Hardware Generators?\n",
    "\n",
    "* Concretely: use _programming_ (in Scala) to orchestrate _hardware instantiation_ (in Chisel)\n",
    "  * Can think of all of the Chisel commands we have learned as instantiating hardware (including connections)\n",
    "* Hardware generators allow us to _automate_ construction of hardware\n",
    "  * Part of the design is generated when it is needed rather than at the time it is written\n",
    "* Developers need to imagine possible situations and provide parameters (with generator support) to implement them\n",
    "  * Generation capabilities and implementation is specific to that generator"
   ]
  },
  {
   "cell_type": "markdown",
   "id": "imported-welsh",
   "metadata": {
    "slideshow": {
     "slide_type": "slide"
    }
   },
   "source": [
    "## What About Reusing an Optimization?\n",
    "\n",
    "* Imagine for your generator, you make an optimization, and want to generalize it to use in other generators\n",
    "* You could to encapsultate the optimization in clever Scala (use generic types and/or inheritance)\n",
    "  * Everyone that uses the optimization needs to modify code significantly to instantiate that optimization\n",
    "  * As the optimization implementor, will need to figure out a sufficiently flexible pattern to support everyone\n",
    "  * Compatability/composability with similar optimizations will be a challenge\n",
    "* **Q:** _Why is this hard?_\n",
    "  * **A:** because input/interface to optimization is too broad and undefined (arbitrary Scala)"
   ]
  },
  {
   "cell_type": "markdown",
   "id": "genetic-procedure",
   "metadata": {
    "slideshow": {
     "slide_type": "slide"
    }
   },
   "source": [
    "## Is There An Alternate Way to Package an Optimization?\n",
    "\n",
    "* Prior approach (templated Scala) tries to apply optimization while constructing the design\n",
    "* _Alternative:_ write code to optimize an existing design\n",
    "  * Greatly simplifies input/interface - now it is a Chisel design rather than arbitrary Scala\n",
    "  * Compatability/composability with similar optimizations easier because their input & output formats are now the same\n",
    "* _Summary:_ some optimizations/transformations are best implemented in tools rather than manually in design or generator\n",
    "  * More reusable, and may be able to act on more information\n",
    "  * Blurs line between putting automation/smarts in generator or tools"
   ]
  },
  {
   "cell_type": "markdown",
   "id": "parental-blast",
   "metadata": {
    "slideshow": {
     "slide_type": "slide"
    }
   },
   "source": [
    "## Custrom Transformations Ease Complexity-Difficulty Tradeoff\n",
    "\n",
    "* Static design - is easy to get started, but complexity rapidly increases\n",
    "* Generator design increases scope of practical transformations\n",
    "* Generator + custom transformations reduces challenge at top end\n",
    "\n",
    "<img src=\"images/comp-diff.svg\" alt=\"complexity difficulty tradeoffs\" style=\"width:50%;margin-left:auto;margin-right:auto\"/>"
   ]
  },
  {
   "cell_type": "markdown",
   "id": "nutritional-infection",
   "metadata": {
    "slideshow": {
     "slide_type": "slide"
    }
   },
   "source": [
    "## Introducing Hardware Intermediate Representations\n",
    "\n",
    "* _Intermediate representation (IR)_ expresses a design in a well-defined syntax\n",
    "  * Typically think of it as a graph with varying node types\n",
    "  * Using IRs is an establisheed best practice from compliers/PL\n",
    "* Historically, hardware tools kept IRs internal, and did not even formalize/specify them\n",
    "  * Specifying and externalizing IR is a key enabler\n",
    "* IRs make it easy for others to make tools\n",
    "  * _Want an optimization?_ -> add a new _pass_ to the middle of the tool flow\n",
    "  * _Want a new language?_ -> make a new _frontend_ and reuse the rest\n",
    "  * _Want a new target?_ -> make a new _backend_ and reuse the rest"
   ]
  },
  {
   "cell_type": "markdown",
   "id": "conceptual-creature",
   "metadata": {
    "slideshow": {
     "slide_type": "slide"
    }
   },
   "source": [
    "## Introducing Flexible Intermediate Representation for RTL (FIRRTL)\n",
    "\n",
    "* IR for Chisel, but used by other projects too\n",
    "* FIRRTL greatly improved development/reliability of Chisel\n",
    "  * chisel2 (prior version) was complex and monolithically combined data structures\n",
    "    * complexity introduced bugs and discouraged contributions\n",
    "  * Organization with FIRRTL (and IR using passes) much easier to work with\n",
    "* \"FIRRTL\" can be ambiguous, because refers to\n",
    "  * FIRRTL format/spec\n",
    "  * a design in FIRRTL (.fir as a file)\n",
    "  * `firrtl` library (which processes FIRRTL)\n",
    "\n",
    "<img src=\"https://raw.githubusercontent.com/chipsalliance/firrtl/master/doc/images/firrtl_logo.svg\" alt=\"firrtl logo\" style=\"width:40%;margin-left:auto;margin-right:auto\"/>"
   ]
  },
  {
   "cell_type": "markdown",
   "id": "actual-disorder",
   "metadata": {
    "slideshow": {
     "slide_type": "slide"
    }
   },
   "source": [
    "## Chisel Tool Flow\n",
    "\n",
    "<img src=\"images/flow.svg\" alt=\"complexity difficulty tradeoffs\" style=\"width:95%;margin-left:auto;margin-right:auto\"/>"
   ]
  },
  {
   "cell_type": "markdown",
   "id": "gorgeous-hepatitis",
   "metadata": {
    "slideshow": {
     "slide_type": "slide"
    }
   },
   "source": [
    "## The IR Within FIRRTL\n",
    "\n",
    "* Composition of FIRRTL components:\n",
    "  * A hardware design is a _circuit_ composed of _modules_\n",
    "  * A _module_ contains _ports_ and _statements_\n",
    "  * A _statement_ can contain _expressions_ or other _statements_\n",
    "  * An _expression_ can contain _expressions_"
   ]
  },
  {
   "cell_type": "markdown",
   "id": "southern-harvey",
   "metadata": {
    "slideshow": {
     "slide_type": "slide"
    }
   },
   "source": [
    "## IR Node Types in FIRRTL\n",
    "\n",
    "\n",
    "* IR nodes extend abstract classes in FIRRTL\n",
    "  * _Circuit_ - top level of design\n",
    "  * _Module_ - a componentPort - an input or output for a module\n",
    "  * _Type_ - e.g. `UInt`, `SInt`, `Clock`\n",
    "  * _Statement_ - connection, declaration, or instantion (e.g. DefWire, Connect...)\n",
    "  * _Expression_ - reference, literal, or operation (e.g. Ref, Mux, DoPrim...)"
   ]
  },
  {
   "cell_type": "markdown",
   "id": "stainless-century",
   "metadata": {
    "slideshow": {
     "slide_type": "slide"
    }
   },
   "source": [
    "## FIRRTL Example - Simple Delay Module (1/2)"
   ]
  },
  {
   "cell_type": "code",
   "execution_count": null,
   "id": "hispanic-combat",
   "metadata": {},
   "outputs": [],
   "source": [
    "class Delay extends Module {\n",
    "    val io = IO(new Bundle {\n",
    "        val in = Input(UInt(4.W))\n",
    "        val out = Output(UInt(4.W))\n",
    "    })\n",
    "    io.out := RegNext(io.in)\n",
    "}\n",
    "\n",
    "println(getVerilog(new Delay))\n",
    "// println(getFirrtl(new Delay))"
   ]
  },
  {
   "cell_type": "markdown",
   "id": "secondary-enzyme",
   "metadata": {
    "slideshow": {
     "slide_type": "slide"
    }
   },
   "source": [
    "## FIRRTL Example - Simple Delay Module (2/2)"
   ]
  },
  {
   "cell_type": "code",
   "execution_count": null,
   "id": "blank-meditation",
   "metadata": {},
   "outputs": [],
   "source": [
    "import firrtl.Parser\n",
    "val firrtlSerialization = chisel3.Driver.emit(() => new Delay)\n",
    "val firrtlAST = firrtl.Parser.parse(firrtlSerialization.split(\"\\n\").toIterator, Parser.GenInfo(\"file.fir\"))\n",
    "\n",
    "// println(firrtlAST)\n",
    "println(stringifyAST(firrtlAST))"
   ]
  },
  {
   "cell_type": "markdown",
   "id": "disturbed-cleaner",
   "metadata": {
    "slideshow": {
     "slide_type": "slide"
    }
   },
   "source": [
    "## FIRRTL \"Lowers\" Abstractions Gradually\n",
    "\n",
    "* Using a best practice from compiler, FIRRTL librariy uses _passes_ to slowly change IR to desired result\n",
    "  * Goes from high-level abstractions (like Chisel) to low-level concrete things (like Verilog)\n",
    "  * Breaks challenging problem of making a compiler into making many manageable passes or transformations\n",
    "* FIRRTL formalizes abstraction complexity with multiple _levels_\n",
    "  * lower levels are a subset of nodes and values of higher levels\n",
    "  * the _lowering_ process applies passes and transformations to lower the abstraction level\n",
    "* _High FIRRTL_ - all node types available & many bitwidths are unspecified\n",
    "  * like what is emitted by Chisel frontend\n",
    "* _Low FIRRTL_ - like Verilog - subset of node types available & all bitwidths are specified\n",
    "  * easy for Verilog Backend to emit as Verilog\n",
    "* In addition to lowering, transformations can: analyze, optimize, instrument, specialize"
   ]
  },
  {
   "cell_type": "markdown",
   "id": "national-bedroom",
   "metadata": {
    "slideshow": {
     "slide_type": "slide"
    }
   },
   "source": [
    "## Example Lowering Passes in FIRRTL\n",
    "\n",
    "* _Infer Widths_ - iteratively determines what final widths of signals should be\n",
    "* _Pad widths_ - ensure all operators are given operands of the same width\n",
    "* _Expand Whens_ - replaces when statements with appropriate connections and muxes\n",
    "* Many safety checks are performed by FIRRTL library instead of Chisel frontend"
   ]
  },
  {
   "cell_type": "markdown",
   "id": "vietnamese-luxury",
   "metadata": {
    "slideshow": {
     "slide_type": "slide"
    }
   },
   "source": [
    "## Example Optimization Transformations in FIRRTL\n",
    "\n",
    "* _Constant propagation_ - replace references to literals with literals and simplify logic\n",
    "* _Dead code elimination (DCE)_ - remove disconnected statements and modules\n",
    "* _Common subexpression elimination (CSE)_ - deduplicate repeated expressions\n"
   ]
  },
  {
   "cell_type": "markdown",
   "id": "compressed-poetry",
   "metadata": {
    "slideshow": {
     "slide_type": "slide"
    }
   },
   "source": [
    "## Summary\n",
    "\n",
    "### Hardware IRs enable designers to make tool-like transformations\n",
    "\n",
    "### There is a growing landscape of hardware IRs\n",
    "  * [FIRRTL](https://github.com/chipsalliance/firrtl) - today's lecture, supports Chisel\n",
    "  * [RTLIL](http://www.clifford.at/yosys/) - from Yosys\n",
    "  * [CoreIR](https://github.com/rdaly525/coreir) - from Stanford\n",
    "  * [LLHD](http://www.llhd.io) - from ETH\n",
    "  * [CIRCT](https://github.com/llvm/circt) - from LLVM"
   ]
  }
 ],
 "metadata": {
  "celltoolbar": "Slideshow",
  "kernelspec": {
   "display_name": "Scala",
   "language": "scala",
   "name": "scala"
  },
  "language_info": {
   "codemirror_mode": "text/x-scala",
   "file_extension": ".scala",
   "mimetype": "text/x-scala",
   "name": "scala",
   "nbconvert_exporter": "script",
   "version": "2.12.10"
  }
 },
 "nbformat": 4,
 "nbformat_minor": 5
}
