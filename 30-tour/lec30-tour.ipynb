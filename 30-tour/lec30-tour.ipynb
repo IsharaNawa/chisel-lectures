{
 "cells": [
  {
   "cell_type": "markdown",
   "id": "external-thermal",
   "metadata": {
    "slideshow": {
     "slide_type": "slide"
    }
   },
   "source": [
    "## Agile Hardware Design\n",
    "***\n",
    "# Lighting Chisel Tour for Verilog Experts\n",
    "\n",
    "<img src=\"../resource/logo.svg\" alt=\"agile hardware design logo\" style=\"float:right\"/>\n",
    "\n",
    "## Prof. Scott Beamer\n",
    "### sbeamer@ucsc.edu\n",
    "\n",
    "## [CSE 228A](https://classes.soe.ucsc.edu/cse228a/Winter23/)"
   ]
  },
  {
   "cell_type": "markdown",
   "id": "6ee7dc39",
   "metadata": {
    "slideshow": {
     "slide_type": "slide"
    }
   },
   "source": [
    "## Plan for Today\n",
    "\n",
    "* Motivate the need for generators\n",
    "* Chisel Overview\n",
    "* Simple Chisel example\n",
    "* Simple RISC-V in Chisel\n",
    "* More Sophisticated Chisel Example\n",
    "* Surprisingly concise switch in Chisel"
   ]
  },
  {
   "cell_type": "markdown",
   "id": "regular-reducing",
   "metadata": {
    "slideshow": {
     "slide_type": "slide"
    }
   },
   "source": [
    "## Loading The Chisel Library Into a Notebook"
   ]
  },
  {
   "cell_type": "code",
   "execution_count": null,
   "id": "robust-immigration",
   "metadata": {},
   "outputs": [],
   "source": [
    "interp.load.module(os.Path(s\"${System.getProperty(\"user.dir\")}/../resource/chisel_deps.sc\"))"
   ]
  },
  {
   "cell_type": "code",
   "execution_count": null,
   "id": "extended-burning",
   "metadata": {
    "scrolled": true,
    "slideshow": {
     "slide_type": "-"
    }
   },
   "outputs": [],
   "source": [
    "import chisel3._\n",
    "import chisel3.util._\n",
    "import chisel3.tester._\n",
    "import chisel3.tester.RawTester.test"
   ]
  },
  {
   "cell_type": "markdown",
   "id": "colonial-option",
   "metadata": {
    "slideshow": {
     "slide_type": "slide"
    }
   },
   "source": [
    "## Increase Productivity Through Reuse\n",
    "\n",
    "### Q: What is the fastest hardware block to develop?"
   ]
  },
  {
   "cell_type": "markdown",
   "id": "affiliated-visiting",
   "metadata": {
    "slideshow": {
     "slide_type": "fragment"
    }
   },
   "source": [
    "### A: Hardware components you get to reuse!\n",
    "\n",
    "* Don't keep reimplementing similar (or even same) components\n",
    "\n",
    "* Spend your time on what is novel/unique for your design\n",
    "\n",
    "* **Import caveat:** reused component needs to do _right thing_ and be _correct_"
   ]
  },
  {
   "cell_type": "markdown",
   "id": "centered-hawaii",
   "metadata": {
    "slideshow": {
     "slide_type": "slide"
    }
   },
   "source": [
    "## HW Generators Increase Reusability\n",
    "\n",
    "### Why not reuse? Existing component doesn't do what you need\n",
    "\n",
    "* Generators are more _flexible_, and thus more _reusable_\n",
    "* Generator can custom tailor the component for your design\n",
    "* _Open-source_ generators also address when component exists but is proprietary\n",
    "  * Generators make open-source more attractive, since flexibility grows the size of community that benefits from it\n",
    "  * Larger community => larger amortization of design effort\n",
    "\n",
    "### Key Concept: think of design _generation_ as another step in tool flow\n",
    "* Write programs that design hardware for you (under controlled circumstances)\n",
    "* Examples: [Genesys 2](https://github.com/StanfordVLSI/Genesis2/wiki) & [BaseJump STL](https://github.com/bespoke-silicon-group/basejump_stl)"
   ]
  },
  {
   "cell_type": "markdown",
   "id": "necessary-problem",
   "metadata": {
    "slideshow": {
     "slide_type": "slide"
    }
   },
   "source": [
    "### Chisel (Constructing Hardware In a Scala Embedded Language)\n",
    "\n",
    "* Domain-specific language embedded in Scala\n",
    "* Leverage best of object-oriented & functional programming\n",
    "* Enables creation of design generators in a single language\n",
    "* Well matched abstractions to constructable hardware\n",
    "* Of next generation languages, has significant adoption\n",
    "* Other features: abstract data types, bulk connections, width inference, standard library, multi-clock support\n",
    "\n",
    "<img src=\"../01-intro/images/chisel_logo.svg\" alt=\"chisel logo\" style=\"float:right\"/>\n"
   ]
  },
  {
   "cell_type": "markdown",
   "id": "ordered-pattern",
   "metadata": {
    "slideshow": {
     "slide_type": "slide"
    }
   },
   "source": [
    "## Scala Language Summary\n",
    "\n",
    "<img src=\"../01-intro/images/scala-spiral.png\" alt=\"scala logo\" style=\"float:right;width: 100px;\"/>\n",
    "\n",
    "_**Language Features**_\n",
    "* Object oriented with strong static type system\n",
    "* Native support for functional programing\n",
    "* Runs on top of the JVM (and can interoperate with Java binaries)\n",
    "\n",
    "_**Rationale for Using Scala**_\n",
    "* Great support for implementing embedded domain-specific languages (DSL), e.g. Chisel\n",
    "* Object oriented and functional features help make great _generators_\n",
    "* Type system and included standard library’s collections\n",
    "\n",
    "_**Syntax Curiosities**_\n",
    "* No semicolons, declarations are typically immutable (`val`)\n",
    "* Types go second (e.g. `myInt: Int`) and are often inferred\n",
    "* Tries to catch many potential errors at compile time\n"
   ]
  },
  {
   "cell_type": "markdown",
   "id": "configured-victoria",
   "metadata": {
    "slideshow": {
     "slide_type": "slide"
    }
   },
   "source": [
    "## First Chisel Module"
   ]
  },
  {
   "cell_type": "code",
   "execution_count": null,
   "id": "sound-documentation",
   "metadata": {
    "cell_style": "split"
   },
   "outputs": [],
   "source": [
    "class MyXOR extends Module {\n",
    "    val io = IO(new Bundle {\n",
    "        val a   = Input(Bool())\n",
    "        val b   = Input(Bool())\n",
    "        val c   = Output(Bool())\n",
    "    })\n",
    "    io.c := io.a ^ io.b\n",
    "}"
   ]
  },
  {
   "cell_type": "markdown",
   "id": "divided-green",
   "metadata": {
    "cell_style": "split"
   },
   "source": [
    "<img src=\"../02-hello/images/myxor.svg\" alt=\"MyXOR schematic\"  style=\"width:80%;margin:auto\"/>"
   ]
  },
  {
   "cell_type": "markdown",
   "id": "operating-sailing",
   "metadata": {
    "slideshow": {
     "slide_type": "slide"
    }
   },
   "source": [
    "## Looking At Generated Design"
   ]
  },
  {
   "cell_type": "code",
   "execution_count": null,
   "id": "cloudy-suggestion",
   "metadata": {
    "cell_style": "split",
    "slideshow": {
     "slide_type": "fragment"
    }
   },
   "outputs": [],
   "source": [
    "println(getVerilog(new MyXOR))"
   ]
  },
  {
   "cell_type": "code",
   "execution_count": null,
   "id": "duplicate-timber",
   "metadata": {
    "cell_style": "split",
    "slideshow": {
     "slide_type": "fragment"
    }
   },
   "outputs": [],
   "source": [
    "visualize(() => new MyXOR)"
   ]
  },
  {
   "cell_type": "markdown",
   "id": "lesser-terrorist",
   "metadata": {
    "slideshow": {
     "slide_type": "slide"
    }
   },
   "source": [
    "## ChiselTest Execution"
   ]
  },
  {
   "cell_type": "code",
   "execution_count": null,
   "id": "peaceful-daniel",
   "metadata": {},
   "outputs": [],
   "source": [
    "test(new MyXOR()) { x =>\n",
    "    x.io.a.poke(0.B)\n",
    "    x.io.b.poke(0.B)\n",
    "    x.io.c.expect(0.B)  // 0 ^ 0\n",
    "\n",
    "    x.io.a.poke(0.B)\n",
    "    x.io.b.poke(1.B)\n",
    "    x.io.c.expect(1.B)  // 0 ^ 1\n",
    "\n",
    "    x.io.a.poke(1.B)\n",
    "    x.io.b.poke(0.B)\n",
    "    x.io.c.expect(1.B)  // 1 ^ 0\n",
    "\n",
    "    x.io.a.poke(1.B)\n",
    "    x.io.b.poke(1.B)\n",
    "    x.io.c.expect(0.B)  // 1 ^ 1\n",
    "}"
   ]
  },
  {
   "cell_type": "markdown",
   "id": "fiscal-heather",
   "metadata": {
    "slideshow": {
     "slide_type": "slide"
    }
   },
   "source": [
    "## Chisel Tool Flow (Frontend)\n",
    "\n",
    "<img src=\"../02-hello/images/frontend.svg\" alt=\"Chisel frontend\" style=\"width:80%;margin:auto\"/>\n",
    "\n",
    "* The generated Circuit (`.fir` file) is a specific design instance, and it can be passed off to a _backend_ for simulation or implementation"
   ]
  },
  {
   "cell_type": "markdown",
   "id": "automated-logistics",
   "metadata": {
    "slideshow": {
     "slide_type": "slide"
    }
   },
   "source": [
    "## Chisel Tool Flow (Backend)\n",
    "\n",
    "\n",
    "<img src=\"../02-hello/images/backend.svg\" alt=\"Chisel backend\" style=\"width:75%;margin:auto\"/>"
   ]
  },
  {
   "cell_type": "markdown",
   "id": "novel-product",
   "metadata": {
    "slideshow": {
     "slide_type": "slide"
    }
   },
   "source": [
    "## Scala Values Are References to Chisel Objects\n",
    "\n",
    "* Our generators are simply instantiating Chisel objects and connecting them together\n",
    "  * Scala program allows us to control which objects & connections\n",
    "* The connect operator (`:=`) assigns output of right hand side to input of left hand side\n",
    "* Can use Scala references to name intermediate results"
   ]
  },
  {
   "cell_type": "code",
   "execution_count": null,
   "id": "recorded-reducing",
   "metadata": {
    "cell_style": "split",
    "slideshow": {
     "slide_type": "-"
    }
   },
   "outputs": [],
   "source": [
    "class MyXOR extends Module {\n",
    "    val io = IO(new Bundle {\n",
    "        val a   = Input(Bool())\n",
    "        val b   = Input(Bool())\n",
    "        val c   = Output(Bool())\n",
    "    })\n",
    "    val myGate = io.a ^ io.b\n",
    "    io.c := myGate\n",
    "}\n",
    "// println(getVerilog(new MyXOR))"
   ]
  },
  {
   "cell_type": "markdown",
   "id": "nervous-electricity",
   "metadata": {
    "cell_style": "split"
   },
   "source": [
    "<img src=\"../03-combo/images/xorRef.svg\" alt=\"XOR with Scala references\" style=\"width:55%;margin:auto\"/>"
   ]
  },
  {
   "cell_type": "markdown",
   "id": "17666eb2",
   "metadata": {
    "slideshow": {
     "slide_type": "slide"
    }
   },
   "source": [
    "# Implementing Parameterized Counter in Chisel\n",
    "\n",
    "* Simple example, should use Counter from standard library"
   ]
  },
  {
   "cell_type": "code",
   "execution_count": null,
   "id": "317a645b",
   "metadata": {},
   "outputs": [],
   "source": [
    "class MyCounter(maxVal: Int) extends Module {\n",
    "    val io = IO(new Bundle {\n",
    "        val en  = Input(Bool())\n",
    "        val out = Output(UInt())\n",
    "    })\n",
    "    val count = RegInit(0.U(log2Ceil(maxVal+1).W))\n",
    "    when (io.en) {\n",
    "        when (count < maxVal.U) {\n",
    "            count := count + 1.U\n",
    "        } .otherwise {\n",
    "            count := 0.U\n",
    "        }\n",
    "    }\n",
    "    io.out := count\n",
    "}"
   ]
  },
  {
   "cell_type": "markdown",
   "id": "df86ffc1",
   "metadata": {
    "slideshow": {
     "slide_type": "slide"
    }
   },
   "source": [
    "# DinoCPU - Simple RISC-V Core\n",
    "\n",
    "<img src=\"https://github.com/jlpteaching/dinocpu/raw/main/dino-128.png\" alt=\"dinocpu logo\" style=\"float:right;width: 128px;\"/>\n",
    "\n",
    "* **[DinoCPU GitHub](https://github.com/jlpteaching/dinocpu)**\n",
    "* Simple RISC-V core for teaching from UC Davis\n",
    "* Great demonstration of straightforward Chisel\n",
    "* Also contains some parameterization\n",
    "\n",
    "\n",
    "\n"
   ]
  },
  {
   "cell_type": "markdown",
   "id": "catholic-regression",
   "metadata": {
    "slideshow": {
     "slide_type": "slide"
    }
   },
   "source": [
    "## Templated Queue"
   ]
  },
  {
   "cell_type": "code",
   "execution_count": null,
   "id": "occasional-hartford",
   "metadata": {},
   "outputs": [],
   "source": [
    "class MyQueueV7[T <: chisel3.Data](numEntries: Int, gen: T, pipe: Boolean=true) extends Module {\n",
    "    val io = IO(new Bundle {\n",
    "        val enq = Flipped(Decoupled(gen))\n",
    "        val deq = Decoupled(gen)\n",
    "    })\n",
    "    require(numEntries > 1)\n",
    "    val entries = Mem(numEntries, gen)\n",
    "    val enqIndex = Counter(numEntries)\n",
    "    val deqIndex = Counter(numEntries)\n",
    "    val maybeFull = RegInit(false.B)\n",
    "    val indicesEqual = enqIndex.value === deqIndex.value\n",
    "    val empty = indicesEqual && !maybeFull\n",
    "    val full = indicesEqual && maybeFull\n",
    "    if (pipe)\n",
    "        io.enq.ready := !full || io.deq.ready\n",
    "    else\n",
    "        io.enq.ready := !full\n",
    "    io.deq.valid := !empty\n",
    "    io.deq.bits := entries(deqIndex.value)\n",
    "    when (io.deq.fire =/= io.enq.fire) {\n",
    "        maybeFull := io.enq.fire\n",
    "    }\n",
    "    when (io.deq.fire) {\n",
    "        deqIndex.inc()\n",
    "    }\n",
    "    when (io.enq.fire) {\n",
    "        entries(enqIndex.value) := io.enq.bits\n",
    "        enqIndex.inc()\n",
    "    }\n",
    "}"
   ]
  },
  {
   "cell_type": "markdown",
   "id": "missing-pocket",
   "metadata": {
    "slideshow": {
     "slide_type": "slide"
    }
   },
   "source": [
    "## Example Crossbar in Chisel\n",
    "\n",
    "* Connects `numIns` input ports to `numOuts` output ports\n",
    "  * All ports are `Decoupled`\n",
    "\n",
    "<img src=\"../08-arbit/images/xbar.svg\" alt=\"xbar schematic\" style=\"width:30%;margin-left:auto;margin-right:auto\"/>"
   ]
  },
  {
   "cell_type": "markdown",
   "id": "electronic-helena",
   "metadata": {
    "slideshow": {
     "slide_type": "slide"
    }
   },
   "source": [
    "## Example Crossbar Implementation (1/2)"
   ]
  },
  {
   "cell_type": "code",
   "execution_count": null,
   "id": "obvious-attack",
   "metadata": {
    "cell_style": "center"
   },
   "outputs": [],
   "source": [
    "class Message(numOuts: Int, length: Int) extends Bundle {\n",
    "    val addr = UInt(log2Ceil(numOuts+1).W)\n",
    "    val data = UInt(length.W)\n",
    "}\n",
    "\n",
    "class XBarIO(numIns: Int, numOuts: Int, length: Int) extends Bundle {\n",
    "    val in  = Vec(numIns, Flipped(Decoupled(new Message(numOuts, length))))\n",
    "    val out = Vec(numOuts, Decoupled(new Message(numOuts, length)))\n",
    "}"
   ]
  },
  {
   "cell_type": "markdown",
   "id": "clean-porter",
   "metadata": {
    "slideshow": {
     "slide_type": "slide"
    }
   },
   "source": [
    "## Example Crossbar Implementation (2/2)"
   ]
  },
  {
   "cell_type": "code",
   "execution_count": null,
   "id": "nearby-linux",
   "metadata": {
    "scrolled": true
   },
   "outputs": [],
   "source": [
    "class XBar(numIns: Int, numOuts: Int, length: Int) extends Module {\n",
    "    val io = IO(new XBarIO(numIns, numOuts, length))\n",
    "    val arbs = Seq.fill(numOuts)(Module(new RRArbiter(new Message(numOuts, length), numIns)))\n",
    "    for (ip <- 0 until numIns) {\n",
    "        val inReadys = Wire(Vec(numOuts, Bool()))\n",
    "        for (op <- 0 until numOuts) {\n",
    "            inReadys(op) := arbs(op).io.in(ip).ready\n",
    "        }\n",
    "        io.in(ip).ready := inReadys.asUInt.orR\n",
    "    }\n",
    "    for (op <- 0 until numOuts) {\n",
    "        for (ip <- 0 until numIns) {\n",
    "            arbs(op).io.in(ip).bits <> io.in(ip).bits\n",
    "            arbs(op).io.in(ip).valid := io.in(ip).valid && (io.in(ip).bits.addr === op.U)\n",
    "        }\n",
    "        io.out(op) <> arbs(op).io.out\n",
    "    }\n",
    "}\n",
    "\n",
    "// println(getVerilog(new XBar(2,1,8)))"
   ]
  },
  {
   "cell_type": "markdown",
   "id": "9522fa1b",
   "metadata": {
    "slideshow": {
     "slide_type": "slide"
    }
   },
   "source": [
    "# Succinct Combinational Switch"
   ]
  },
  {
   "cell_type": "code",
   "execution_count": null,
   "id": "836e7c15",
   "metadata": {},
   "outputs": [],
   "source": [
    "class CombSwitch(numIns: Int, numOuts: Int, w: Int) extends Module {\n",
    "    val io = IO(new Bundle {\n",
    "        val ins = Input(Vec(numIns, UInt(w.W)))\n",
    "        val selects = Input(Vec(numOuts, UInt(w.W)))\n",
    "        val outs = Output(Vec(numOuts, UInt(w.W)))\n",
    "    })\n",
    "    val cases = (0 until numIns).map(_.U).zip(io.ins)\n",
    "    io.outs.zip(io.selects) foreach {\n",
    "        case(o,s) => o := MuxLookup(s,DontCare,cases)\n",
    "    }\n",
    "}\n",
    "// println(getVerilog(new CombSwitch(2,2,8)))"
   ]
  },
  {
   "cell_type": "markdown",
   "id": "68701a24",
   "metadata": {
    "slideshow": {
     "slide_type": "slide"
    }
   },
   "source": [
    "## Where to Go for More\n",
    "\n",
    "* [Agile Hardware Design course](https://classes.soe.ucsc.edu/cse228a/Winter23/)\n",
    "* [Chisel Homepage](https://www.chisel-lang.org)\n",
    "* [Chisel Bootcamp](https://github.com/freechipsproject/chisel-bootcamp)\n",
    "* [Hardware Systems Collective (at UCSC)](https://hsc.ucsc.edu)\n",
    "* [Awesome Hardware Description Languages](https://github.com/drom/awesome-hdl)\n",
    "* [Pyrope guest lecture by Prof. Jose Renau](https://www.youtube.com/watch?v=U4OX2tfiobE)"
   ]
  }
 ],
 "metadata": {
  "celltoolbar": "Slideshow",
  "kernelspec": {
   "display_name": "Scala",
   "language": "scala",
   "name": "scala"
  },
  "language_info": {
   "codemirror_mode": "text/x-scala",
   "file_extension": ".sc",
   "mimetype": "text/x-scala",
   "name": "scala",
   "nbconvert_exporter": "script",
   "version": "2.13.10"
  }
 },
 "nbformat": 4,
 "nbformat_minor": 5
}
