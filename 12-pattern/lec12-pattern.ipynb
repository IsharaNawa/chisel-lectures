{
 "cells": [
  {
   "cell_type": "markdown",
   "id": "external-thermal",
   "metadata": {
    "slideshow": {
     "slide_type": "slide"
    }
   },
   "source": [
    "## Agile Hardware Design\n",
    "***\n",
    "# FP Conclusion + Pattern Matching\n",
    "\n",
    "## Prof. Scott Beamer\n",
    "### sbeamer@ucsc.edu\n",
    "\n",
    "## [CSE 293](https://classes.soe.ucsc.edu/cse293/Spring21/)"
   ]
  },
  {
   "cell_type": "markdown",
   "id": "nominated-consistency",
   "metadata": {
    "slideshow": {
     "slide_type": "slide"
    }
   },
   "source": [
    "## Plan for Today\n",
    "\n",
    "* FP conclusion: flatMap, filter, sum\n",
    "* Pattern matching\n",
    "* Gracefully handling Option"
   ]
  },
  {
   "cell_type": "markdown",
   "id": "regular-reducing",
   "metadata": {
    "slideshow": {
     "slide_type": "slide"
    }
   },
   "source": [
    "## Loading The Chisel Library Into a Notebook"
   ]
  },
  {
   "cell_type": "code",
   "execution_count": null,
   "id": "robust-immigration",
   "metadata": {},
   "outputs": [],
   "source": [
    "val path = System.getProperty(\"user.dir\") + \"/../resource/chisel_deps.sc\"\n",
    "interp.load.module(ammonite.ops.Path(java.nio.file.FileSystems.getDefault().getPath(path)))"
   ]
  },
  {
   "cell_type": "code",
   "execution_count": null,
   "id": "extended-burning",
   "metadata": {
    "slideshow": {
     "slide_type": "-"
    }
   },
   "outputs": [],
   "source": [
    "import chisel3._\n",
    "import chisel3.util._\n",
    "import chisel3.tester._\n",
    "import chisel3.tester.RawTester.test"
   ]
  },
  {
   "cell_type": "markdown",
   "id": "lesbian-server",
   "metadata": {
    "slideshow": {
     "slide_type": "slide"
    }
   },
   "source": [
    "## Scala `flatMap`\n",
    "\n",
    "* Like `map`, but concatenates output of function's\n",
    "  * More direct than calling `map` and then `flatten`\n",
    "* Helpful for aggregating results of map when they are a collection"
   ]
  },
  {
   "cell_type": "code",
   "execution_count": null,
   "id": "better-think",
   "metadata": {
    "scrolled": false
   },
   "outputs": [],
   "source": [
    "val l = 0 until 5\n",
    "Seq.fill(2)(3)\n",
    "l map { i => Seq.fill(i)(i) }\n",
    "// l map { i => Seq.fill(i)(i) } flatten\n",
    "// l flatMap { i => Seq.fill(i)(i) }"
   ]
  },
  {
   "cell_type": "markdown",
   "id": "arbitrary-sunday",
   "metadata": {
    "slideshow": {
     "slide_type": "slide"
    }
   },
   "source": [
    "## Applying Predicates in Scala\n",
    "\n",
    "* A _predicate_ is a function that given a single element returns a `Boolean`\n",
    "* `filter` - elements persists to output collection only if predicate returns true\n",
    "* `forall` - true if and only if predicate is true for all elements\n",
    "* `exists` - true if predicate is true for at least one element"
   ]
  },
  {
   "cell_type": "code",
   "execution_count": null,
   "id": "confidential-clearance",
   "metadata": {
    "scrolled": true
   },
   "outputs": [],
   "source": [
    "def isEven(x: Int): Boolean = x % 2 == 0\n",
    "val l = 0 until 5\n",
    "l filter isEven\n",
    "l filterNot isEven\n",
    "l forall isEven\n",
    "l exists isEven"
   ]
  },
  {
   "cell_type": "markdown",
   "id": "answering-singles",
   "metadata": {
    "slideshow": {
     "slide_type": "slide"
    }
   },
   "source": [
    "## Example: Prime Seive in Scala"
   ]
  },
  {
   "cell_type": "code",
   "execution_count": null,
   "id": "extensive-baseline",
   "metadata": {
    "slideshow": {
     "slide_type": "-"
    }
   },
   "outputs": [],
   "source": [
    "def multipleOf(a: Int)(b: Int): Boolean = (a != b) && (b % a == 0)\n",
    "\n",
    "def removeX(l: Seq[Int], x: Int) = l filterNot multipleOf(x)\n",
    "\n",
    "val allNums = 2 until 100\n",
    "\n",
    "// allNums filterNot multipleOf(5)\n",
    "// removeX(allNums, 5)\n",
    "\n",
    "def seive(s: Seq[Int]): Seq[Int] = {\n",
    "    if (s.isEmpty) Seq()\n",
    "    else Seq(s.head) ++ seive(removeX(s.tail, s.head))\n",
    "}\n",
    "\n",
    "println(seive(allNums))"
   ]
  },
  {
   "cell_type": "markdown",
   "id": "orange-kernel",
   "metadata": {
    "slideshow": {
     "slide_type": "slide"
    }
   },
   "source": [
    "## Scala Has Common Reductions Built-in\n",
    "\n",
    "* `sum`, `product`, `min`, `max`"
   ]
  },
  {
   "cell_type": "code",
   "execution_count": null,
   "id": "satellite-flesh",
   "metadata": {},
   "outputs": [],
   "source": [
    "val l = 0 until 5\n",
    "l reduce { _ + _ }\n",
    "l.sum\n",
    "l reduce { _ * _ }\n",
    "l.product\n",
    "l reduce { _ min _ }\n",
    "l.min\n",
    "l reduce { _ max _ }\n",
    "l.max"
   ]
  },
  {
   "cell_type": "markdown",
   "id": "fifth-venice",
   "metadata": {
    "slideshow": {
     "slide_type": "slide"
    }
   },
   "source": [
    "## Example: Using FP to do Matrix Multiplication"
   ]
  },
  {
   "cell_type": "code",
   "execution_count": null,
   "id": "accomplished-survival",
   "metadata": {},
   "outputs": [],
   "source": [
    "val mat = Seq.tabulate(4,4){ (i,j) => i+j }\n",
    "\n",
    "def grabCol(m: Seq[Seq[Int]], i: Int) = m map { _(i) }\n",
    "\n",
    "def dotP(a: Seq[Int], b: Seq[Int]) = a.zip(b).map{ case (x,y) => x * y}.sum\n",
    "\n",
    "def matMul(a: Seq[Seq[Int]], b: Seq[Seq[Int]]) = a map {\n",
    "    row => row.zipWithIndex map {\n",
    "        case (element, colIndex) => dotP(row, grabCol(b, colIndex))\n",
    "    }\n",
    "}\n",
    "\n",
    "matMul(mat, mat)"
   ]
  },
  {
   "cell_type": "markdown",
   "id": "peripheral-fashion",
   "metadata": {
    "slideshow": {
     "slide_type": "slide"
    }
   },
   "source": [
    "## Pattern Matching in Scala\n",
    "\n",
    "* Can gracefully scale from replacing simple `if/else` and `switch` cases to more sophisticated searches\n",
    "* Start block with `match` and list matches with `case`\n",
    "* Can use `|` for or\n",
    "* Can use `if` to specify condition\n",
    "* Can use `_` for default (matched nothing above)"
   ]
  },
  {
   "cell_type": "code",
   "execution_count": null,
   "id": "activated-armenia",
   "metadata": {},
   "outputs": [],
   "source": [
    "val x = 10\n",
    "\n",
    "x match {\n",
    "    case 0 => \"0\"\n",
    "    case 1 | 3 => \"nah\"\n",
    "    case x if (x%2 == 0) => \"even\"\n",
    "    case 5 => \"found it!\"\n",
    "    case _ => \"other\"\n",
    "}"
   ]
  },
  {
   "cell_type": "markdown",
   "id": "third-bachelor",
   "metadata": {
    "slideshow": {
     "slide_type": "slide"
    }
   },
   "source": [
    "## Can Match on Case Classes\n",
    "\n",
    "* Can match on type as a whole, or even set fields"
   ]
  },
  {
   "cell_type": "code",
   "execution_count": null,
   "id": "unique-paris",
   "metadata": {},
   "outputs": [],
   "source": [
    "abstract class Vehicle\n",
    "\n",
    "case class helicopter(color: String, driver: String) extends Vehicle\n",
    "\n",
    "case class submarine(color: String, driver: String) extends Vehicle\n",
    "\n",
    "val movers = Seq(helicopter(\"grey\", \"Marta\"), helicopter(\"blue\", \"Laura\"), submarine(\"yellow\", \"Paul\"))\n",
    "\n",
    "movers foreach {v => v match {\n",
    "    case h: helicopter => println(s\"${h.color} helicopter\")\n",
    "    case s: submarine => println(s\"${s.color} submarine\")\n",
    "}}\n",
    "\n",
    "movers foreach { _ match {\n",
    "    case helicopter(\"blue\", owner) => println(s\"$owner has a blue helicopter\")\n",
    "    case s: submarine => println(s\"${s.driver}'s ${s.color} submarine\")\n",
    "    case _ =>\n",
    "}}"
   ]
  },
  {
   "cell_type": "markdown",
   "id": "suspended-regression",
   "metadata": {
    "slideshow": {
     "slide_type": "slide"
    }
   },
   "source": [
    "## More Graceful Interactions with `Option`\n",
    "\n",
    "* Many Scala operations pass over None"
   ]
  },
  {
   "cell_type": "code",
   "execution_count": null,
   "id": "offshore-nebraska",
   "metadata": {},
   "outputs": [],
   "source": [
    "val l = Seq.tabulate(5)(i => if (i % 2 == 1) Some(i) else None)\n",
    "l.head foreach println\n",
    "l flatten\n",
    "\n",
    "l(1) match {\n",
    "    case Some(i) => println(i)\n",
    "    case None => println(\"was empty\")\n",
    "}"
   ]
  }
 ],
 "metadata": {
  "celltoolbar": "Slideshow",
  "kernelspec": {
   "display_name": "Scala",
   "language": "scala",
   "name": "scala"
  },
  "language_info": {
   "codemirror_mode": "text/x-scala",
   "file_extension": ".scala",
   "mimetype": "text/x-scala",
   "name": "scala",
   "nbconvert_exporter": "script",
   "version": "2.12.10"
  }
 },
 "nbformat": 4,
 "nbformat_minor": 5
}
