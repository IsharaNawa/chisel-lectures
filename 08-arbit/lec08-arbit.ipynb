{
 "cells": [
  {
   "cell_type": "markdown",
   "id": "cathedral-slope",
   "metadata": {
    "slideshow": {
     "slide_type": "slide"
    }
   },
   "source": [
    "## Agile Hardware Design\n",
    "***\n",
    "# Arbitration\n",
    "\n",
    "## Prof. Scott Beamer\n",
    "### sbeamer@ucsc.edu\n",
    "\n",
    "## [CSE 293](https://classes.soe.ucsc.edu/cse293/Spring21/)"
   ]
  },
  {
   "cell_type": "markdown",
   "id": "nominated-consistency",
   "metadata": {
    "slideshow": {
     "slide_type": "slide"
    }
   },
   "source": [
    "## Plan for Today\n",
    "\n",
    "* One-hot encoding\n",
    "* Priority encoders\n",
    "* Arbiters\n",
    "* Example: crossbar"
   ]
  },
  {
   "cell_type": "markdown",
   "id": "regular-reducing",
   "metadata": {
    "slideshow": {
     "slide_type": "slide"
    }
   },
   "source": [
    "## Loading The Chisel Library Into a Notebook"
   ]
  },
  {
   "cell_type": "code",
   "execution_count": 1,
   "id": "robust-immigration",
   "metadata": {},
   "outputs": [
    {
     "data": {
      "text/plain": [
       "\u001b[36mpath\u001b[39m: \u001b[32mString\u001b[39m = \u001b[32m\"/Users/sbeamer/Spring 2021/CSE 293/lectures/08-arbit/../resource/chisel_deps.sc\"\u001b[39m"
      ]
     },
     "execution_count": 1,
     "metadata": {},
     "output_type": "execute_result"
    }
   ],
   "source": [
    "val path = System.getProperty(\"user.dir\") + \"/../resource/chisel_deps.sc\"\n",
    "interp.load.module(ammonite.ops.Path(java.nio.file.FileSystems.getDefault().getPath(path)))"
   ]
  },
  {
   "cell_type": "code",
   "execution_count": 2,
   "id": "extended-burning",
   "metadata": {
    "slideshow": {
     "slide_type": "-"
    }
   },
   "outputs": [
    {
     "data": {
      "text/plain": [
       "\u001b[32mimport \u001b[39m\u001b[36mchisel3._\n",
       "\u001b[39m\n",
       "\u001b[32mimport \u001b[39m\u001b[36mchisel3.util._\n",
       "\u001b[39m\n",
       "\u001b[32mimport \u001b[39m\u001b[36mchisel3.tester._\n",
       "\u001b[39m\n",
       "\u001b[32mimport \u001b[39m\u001b[36mchisel3.tester.RawTester.test\u001b[39m"
      ]
     },
     "execution_count": 2,
     "metadata": {},
     "output_type": "execute_result"
    }
   ],
   "source": [
    "import chisel3._\n",
    "import chisel3.util._\n",
    "import chisel3.tester._\n",
    "import chisel3.tester.RawTester.test"
   ]
  },
  {
   "cell_type": "markdown",
   "id": "academic-seafood",
   "metadata": {
    "slideshow": {
     "slide_type": "slide"
    }
   },
   "source": [
    "## One-Hot Encoding\n",
    "\n",
    "* Collection of wires in which _**exactly**_ one wire is high (1) at a time (rest are low)\n",
    "\n",
    "* Helpful for working with a collection of objects in which you only want one to be active/selected/enabled\n",
    "\n",
    "* Examples\n",
    "  * Setting the write enable high for the target register in register file\n",
    "  * Charging the appropriate word line in a SRAM (often called a _decoder_)\n",
    "\n",
    "* Can often avoid need to encode/decode because both producers and consumers of one-hot (OH) encoding may prefer it"
   ]
  },
  {
   "cell_type": "markdown",
   "id": "musical-radical",
   "metadata": {
    "slideshow": {
     "slide_type": "slide"
    }
   },
   "source": [
    "## Implementing Our Own One-Hot Encoder"
   ]
  },
  {
   "cell_type": "code",
   "execution_count": 48,
   "id": "neural-steps",
   "metadata": {},
   "outputs": [
    {
     "name": "stdout",
     "output_type": "stream",
     "text": [
      "Elaborating design...\n",
      "Done elaborating.\n",
      " 0 ->    1\n",
      " 1 ->   10\n",
      " 2 ->  100\n",
      " 3 -> 1000\n",
      " 0 ->    1\n",
      "test ConvUIntToOH Success: 0 tests passed in 6 cycles in 0.004287 seconds 1399.54 Hz\n"
     ]
    },
    {
     "data": {
      "text/plain": [
       "defined \u001b[32mclass\u001b[39m \u001b[36mConvUIntToOH\u001b[39m"
      ]
     },
     "execution_count": 48,
     "metadata": {},
     "output_type": "execute_result"
    }
   ],
   "source": [
    "class ConvUIntToOH(inWidth: Int) extends Module {\n",
    "    val outWidth = 1 << inWidth\n",
    "    val io = IO(new Bundle {\n",
    "        val in  = Input(UInt(inWidth.W))\n",
    "        val out = Output(UInt(outWidth.W))\n",
    "    })\n",
    "    require (inWidth > 0)\n",
    "    def helper(index: Int): UInt = {\n",
    "        if (index < outWidth) Cat(helper(index+1), io.in === index.U)\n",
    "        else io.in === index.U\n",
    "    }\n",
    "    io.out := helper(0)\n",
    "//     io.out := UIntToOH(io.in)\n",
    "    printf(\"%d -> %b\\n\", io.in, io.out)\n",
    "}\n",
    "\n",
    "// println(getVerilog(new ConvUIntToOH(2)))\n",
    "\n",
    "test(new ConvUIntToOH(2)) { c =>\n",
    "    for (i <- 0 until 4) {\n",
    "        c.io.in.poke(i.U)\n",
    "        c.io.out.expect((1 << i).U)\n",
    "        c.clock.step()\n",
    "    }\n",
    "}"
   ]
  },
  {
   "cell_type": "markdown",
   "id": "cardiac-memory",
   "metadata": {
    "slideshow": {
     "slide_type": "slide"
    }
   },
   "source": [
    "## Priority Encoder\n",
    "\n",
    "* Given collection of wires, returns index of least significant bit that is high (1) given predefined precedence ordering (_priority_)\n",
    "\n",
    "* Helpful for ordering logic or choosing between things\n",
    "\n",
    "* Examples\n",
    "  * In a pipelined processor to resolve RAW hazard, forward data from most recent instruction\n",
    "  * In a collection components, find first free slot\n",
    "\n",
    "* Chisel provides result as an index (PriorityEncoder), one-hot (PriorityEncoderOH), or even integrated into a Mux (PriorityMux)\n",
    "  * _What if input is 0?_ invalid, but returns max index or 0 (for OH)\n"
   ]
  },
  {
   "cell_type": "markdown",
   "id": "comparable-modification",
   "metadata": {
    "slideshow": {
     "slide_type": "slide"
    }
   },
   "source": [
    "## Example One-Hot Priority Encoders\n",
    "\n",
    "<img src=\"images/priority.svg\" alt=\"priority schematic\" style=\"width:75%;margin-left:auto;margin-right:auto\"/>"
   ]
  },
  {
   "cell_type": "markdown",
   "id": "quiet-castle",
   "metadata": {
    "slideshow": {
     "slide_type": "slide"
    }
   },
   "source": [
    "## Example One-Hot Priority Encoder Implementation"
   ]
  },
  {
   "cell_type": "code",
   "execution_count": 32,
   "id": "considered-antenna",
   "metadata": {
    "scrolled": true
   },
   "outputs": [
    {
     "name": "stdout",
     "output_type": "stream",
     "text": [
      "Elaborating design...\n",
      "Done elaborating.\n",
      " 0 ->  0\n",
      " 1 ->  1\n",
      "10 -> 10\n",
      "11 ->  1\n",
      " 0 ->  0\n",
      "test MyPriEncodeOH Success: 0 tests passed in 6 cycles in 0.003314 seconds 1810.35 Hz\n"
     ]
    },
    {
     "data": {
      "text/plain": [
       "defined \u001b[32mclass\u001b[39m \u001b[36mMyPriEncodeOH\u001b[39m"
      ]
     },
     "execution_count": 32,
     "metadata": {},
     "output_type": "execute_result"
    }
   ],
   "source": [
    "class MyPriEncodeOH(n: Int) extends Module {\n",
    "    val io = IO(new Bundle {\n",
    "        val in  = Input(UInt(n.W))\n",
    "        val out = Output(UInt())\n",
    "    })\n",
    "    require (n > 0)\n",
    "    def withGates(index: Int, expr: UInt): UInt = {\n",
    "        if (index < (n-1)) Cat(withGates(index+1, ~io.in(index) & expr), io.in(index) & expr)\n",
    "        else io.in(index) & expr\n",
    "    }\n",
    "    def withMuxes(index: Int): UInt = {\n",
    "        if (index < n) Mux(io.in(index), (1 << index).U, withMuxes(index+1))\n",
    "        else 0.U\n",
    "    }\n",
    "    io.out := withGates(0, 1.U)\n",
    "//     io.out := withMuxes(0)\n",
    "//     io.out := PriorityEncoderOH(io.in)\n",
    "    printf(\"%b -> %b\\n\", io.in, io.out)\n",
    "}\n",
    "\n",
    "// println(getVerilog(new MyPriEncodeOH(2)))\n",
    "test(new MyPriEncodeOH(2)) { c =>\n",
    "    for (i <- 0 until 4) {\n",
    "        c.io.in.poke(i.U)\n",
    "        c.clock.step()\n",
    "    }\n",
    "}"
   ]
  },
  {
   "cell_type": "markdown",
   "id": "commercial-forge",
   "metadata": {
    "slideshow": {
     "slide_type": "slide"
    }
   },
   "source": [
    "## Arbiter\n",
    "\n",
    "* _Arbitration_ is needed to choose between multiple components attempting to access a scarce resource\n",
    "\n",
    "* Needs way to choose (_arbitrate_) if multiple simultaneous requests\n",
    "  * If only one request, grant to lone requestor\n",
    "\n",
    "* Different tie-breaking algorithms available e.g. fixed priority or round-robin\n",
    "  * Consider needs for usage scenario\n",
    "\n",
    "* Examples\n",
    "  * Structural hazard in a processor, such as core & memory both trying to write to cache at same time\n",
    "  * Output ports of a network switch (later today)"
   ]
  },
  {
   "cell_type": "markdown",
   "id": "juvenile-empire",
   "metadata": {
    "slideshow": {
     "slide_type": "slide"
    }
   },
   "source": [
    "## Arbiters in Chisel\n",
    "\n",
    "* Use `Decoupled` for both requestors and outcome\n",
    "  * `valid` (from requestor) indicates if actually sending request\n",
    "  * `ready` (to requestor) indicates request granted\n",
    "\n",
    "* `Arbiter` - fixed priority from least significant (e.g. port 0 wins)\n",
    "\n",
    "* `RRArbiter` - round robin for who wins ties\n",
    "\n",
    "* `LockingRRArbiter` - round robin, but \"winner\" granted out for `count` cycles\n",
    "\n",
    "<img src=\"images/arbiter.svg\" alt=\"arbiter schematic\" style=\"width:10%\" align=\"right\"/>"
   ]
  },
  {
   "cell_type": "code",
   "execution_count": 30,
   "id": "coupled-leonard",
   "metadata": {
    "cell_style": "center",
    "slideshow": {
     "slide_type": "slide"
    }
   },
   "outputs": [
    {
     "name": "stdout",
     "output_type": "stream",
     "text": [
      "Elaborating design...\n",
      "Done elaborating.\n",
      "req: 1111 winner:    1 (v: 1)\n",
      "req: 1111 winner:    1 (v: 1)\n",
      "req: 1111 winner:    2 (v: 1)\n",
      "req: 1111 winner:    2 (v: 1)\n",
      "req: 0000 winner:    0 (v: 0)\n",
      "test UtilArbDemo Success: 0 tests passed in 6 cycles in 0.009365 seconds 640.66 Hz\n"
     ]
    },
    {
     "data": {
      "text/plain": [
       "defined \u001b[32mclass\u001b[39m \u001b[36mUtilArbDemo\u001b[39m\n",
       "\u001b[36mnumPorts\u001b[39m: \u001b[32mInt\u001b[39m = \u001b[32m4\u001b[39m"
      ]
     },
     "execution_count": 30,
     "metadata": {},
     "output_type": "execute_result"
    }
   ],
   "source": [
    "class UtilArbDemo(numPorts: Int, n: Int) extends Module {\n",
    "    val io = IO(new Bundle {\n",
    "        val req = Flipped(Vec(numPorts, Decoupled(UInt(n.W))))\n",
    "        val out = Decoupled(UInt(n.W))\n",
    "    })\n",
    "    require (numPorts > 0)\n",
    "    val arb = Module(new Arbiter(UInt(n.W), numPorts))\n",
    "    for (p <- 0 until numPorts) {\n",
    "        arb.io.in(p) <> io.req(p) \n",
    "    }\n",
    "    io.out <> arb.io.out\n",
    "    printf(\"req: \")\n",
    "    for (p <- numPorts-1 to 0 by -1) {\n",
    "        printf(\"%b\", arb.io.in(p).valid)\n",
    "    }\n",
    "    printf(\" winner: %d (v: %b)\\n\", arb.io.out.bits, arb.io.out.valid)\n",
    "}\n",
    "\n",
    "// println(getVerilog(new UtilArbDemo(2,8)))\n",
    "\n",
    "val numPorts = 4\n",
    "test(new UtilArbDemo(numPorts,8)) { c =>\n",
    "    c.io.out.ready.poke(true.B)\n",
    "    for (cycle <- 0 until 4) {\n",
    "        for (p <- 0 until numPorts) {\n",
    "            c.io.req(p).bits.poke(p.U)\n",
    "            c.io.req(p).valid.poke((p < 5).B)\n",
    "        }\n",
    "        c.clock.step()\n",
    "    }\n",
    "}"
   ]
  },
  {
   "cell_type": "code",
   "execution_count": 12,
   "id": "incident-rolling",
   "metadata": {},
   "outputs": [
    {
     "data": {
      "text/plain": [
       "defined \u001b[32mclass\u001b[39m \u001b[36mMyArb\u001b[39m"
      ]
     },
     "execution_count": 12,
     "metadata": {},
     "output_type": "execute_result"
    }
   ],
   "source": [
    "class MyArb(numPorts: Int, n: Int) extends Module {\n",
    "    val io = IO(new Bundle {\n",
    "        val req = Flipped(Vec(numPorts, Decoupled(UInt(n.W))))\n",
    "        val out = Decoupled(UInt(n.W))\n",
    "    })\n",
    "    require (numPorts > 0)\n",
    "    val inValids = Wire(Vec(numPorts, Bool()))\n",
    "    val inBits   = Wire(Vec(numPorts, UInt(n.W)))\n",
    "    for (p <- 0 until numPorts) {\n",
    "        io.req(p).ready := false.B\n",
    "        inValids(p) := io.req(p).valid\n",
    "        inBits(p) := io.req(p).bits\n",
    "    }\n",
    "    io.out.valid := inValids.asUInt.orR\n",
    "    val chosenOH = PriorityEncoderOH(inValids)\n",
    "    io.out.bits := Mux1H(chosenOH, inBits)\n",
    "    val chosen = OHToUInt(chosenOH)\n",
    "    when (io.out.fire) {\n",
    "        io.req().ready := true.B\n",
    "    }\n",
    "}"
   ]
  },
  {
   "cell_type": "code",
   "execution_count": 15,
   "id": "viral-judges",
   "metadata": {
    "scrolled": true
   },
   "outputs": [
    {
     "name": "stdout",
     "output_type": "stream",
     "text": [
      "Elaborating design...\n",
      "Done elaborating.\n",
      "module MyArb(\n",
      "  output       io_req_0_ready,\n",
      "  input        io_req_0_valid,\n",
      "  input  [7:0] io_req_0_bits,\n",
      "  output       io_req_1_ready,\n",
      "  input        io_req_1_valid,\n",
      "  input  [7:0] io_req_1_bits,\n",
      "  input        io_out_ready,\n",
      "  output       io_out_valid,\n",
      "  output [7:0] io_out_bits\n",
      ");\n",
      "  wire [1:0] _T = {io_req_1_valid,io_req_0_valid}; // @[cmd11.sc 15:30]\n",
      "  wire [1:0] _enc_T = io_req_1_valid ? 2'h2 : 2'h0; // @[Mux.scala 47:69]\n",
      "  wire [1:0] enc = io_req_0_valid ? 2'h1 : _enc_T; // @[Mux.scala 47:69]\n",
      "  wire  chosen_0 = enc[0]; // @[OneHot.scala 83:30]\n",
      "  wire  chosen_1 = enc[1]; // @[OneHot.scala 83:30]\n",
      "  wire [7:0] _T_2 = chosen_0 ? io_req_0_bits : 8'h0; // @[Mux.scala 27:72]\n",
      "  wire [7:0] _T_3 = chosen_1 ? io_req_1_bits : 8'h0; // @[Mux.scala 27:72]\n",
      "  wire  _T_5 = io_out_ready & io_out_valid; // @[Decoupled.scala 40:37]\n",
      "  wire [1:0] _T_6 = {chosen_1,chosen_0}; // @[Cat.scala 30:58]\n",
      "  wire  _GEN_0 = ~_T_6[1]; // @[cmd11.sc 19:40 cmd11.sc 19:40 cmd11.sc 11:25]\n",
      "  assign io_req_0_ready = _T_5 & _GEN_0; // @[cmd11.sc 18:24 cmd11.sc 11:25]\n",
      "  assign io_req_1_ready = _T_5 & _T_6[1]; // @[cmd11.sc 18:24 cmd11.sc 11:25]\n",
      "  assign io_out_valid = |_T; // @[cmd11.sc 15:37]\n",
      "  assign io_out_bits = _T_2 | _T_3; // @[Mux.scala 27:72]\n",
      "endmodule\n",
      "module ArbDemo(\n",
      "  input        clock,\n",
      "  input        reset,\n",
      "  output       io_req_0_ready,\n",
      "  input        io_req_0_valid,\n",
      "  input  [7:0] io_req_0_bits,\n",
      "  output       io_req_1_ready,\n",
      "  input        io_req_1_valid,\n",
      "  input  [7:0] io_req_1_bits,\n",
      "  input        io_out_ready,\n",
      "  output       io_out_valid,\n",
      "  output [7:0] io_out_bits\n",
      ");\n",
      "  wire  arb_io_req_0_ready; // @[cmd14.sc 7:21]\n",
      "  wire  arb_io_req_0_valid; // @[cmd14.sc 7:21]\n",
      "  wire [7:0] arb_io_req_0_bits; // @[cmd14.sc 7:21]\n",
      "  wire  arb_io_req_1_ready; // @[cmd14.sc 7:21]\n",
      "  wire  arb_io_req_1_valid; // @[cmd14.sc 7:21]\n",
      "  wire [7:0] arb_io_req_1_bits; // @[cmd14.sc 7:21]\n",
      "  wire  arb_io_out_ready; // @[cmd14.sc 7:21]\n",
      "  wire  arb_io_out_valid; // @[cmd14.sc 7:21]\n",
      "  wire [7:0] arb_io_out_bits; // @[cmd14.sc 7:21]\n",
      "  wire  _T_1 = ~reset; // @[cmd14.sc 12:11]\n",
      "  MyArb arb ( // @[cmd14.sc 7:21]\n",
      "    .io_req_0_ready(arb_io_req_0_ready),\n",
      "    .io_req_0_valid(arb_io_req_0_valid),\n",
      "    .io_req_0_bits(arb_io_req_0_bits),\n",
      "    .io_req_1_ready(arb_io_req_1_ready),\n",
      "    .io_req_1_valid(arb_io_req_1_valid),\n",
      "    .io_req_1_bits(arb_io_req_1_bits),\n",
      "    .io_out_ready(arb_io_out_ready),\n",
      "    .io_out_valid(arb_io_out_valid),\n",
      "    .io_out_bits(arb_io_out_bits)\n",
      "  );\n",
      "  assign io_req_0_ready = arb_io_req_0_ready; // @[cmd14.sc 9:23]\n",
      "  assign io_req_1_ready = arb_io_req_1_ready; // @[cmd14.sc 9:23]\n",
      "  assign io_out_valid = arb_io_out_valid; // @[cmd14.sc 11:12]\n",
      "  assign io_out_bits = arb_io_out_bits; // @[cmd14.sc 11:12]\n",
      "  assign arb_io_req_0_valid = io_req_0_valid; // @[cmd14.sc 9:23]\n",
      "  assign arb_io_req_0_bits = io_req_0_bits; // @[cmd14.sc 9:23]\n",
      "  assign arb_io_req_1_valid = io_req_1_valid; // @[cmd14.sc 9:23]\n",
      "  assign arb_io_req_1_bits = io_req_1_bits; // @[cmd14.sc 9:23]\n",
      "  assign arb_io_out_ready = io_out_ready; // @[cmd14.sc 11:12]\n",
      "  always @(posedge clock) begin\n",
      "    `ifndef SYNTHESIS\n",
      "    `ifdef PRINTF_COND\n",
      "      if (`PRINTF_COND) begin\n",
      "    `endif\n",
      "        if (~reset) begin\n",
      "          $fwrite(32'h80000002,\"req: \"); // @[cmd14.sc 12:11]\n",
      "        end\n",
      "    `ifdef PRINTF_COND\n",
      "      end\n",
      "    `endif\n",
      "    `endif // SYNTHESIS\n",
      "    `ifndef SYNTHESIS\n",
      "    `ifdef PRINTF_COND\n",
      "      if (`PRINTF_COND) begin\n",
      "    `endif\n",
      "        if (_T_1) begin\n",
      "          $fwrite(32'h80000002,\"%b\",arb_io_req_1_valid); // @[cmd14.sc 14:15]\n",
      "        end\n",
      "    `ifdef PRINTF_COND\n",
      "      end\n",
      "    `endif\n",
      "    `endif // SYNTHESIS\n",
      "    `ifndef SYNTHESIS\n",
      "    `ifdef PRINTF_COND\n",
      "      if (`PRINTF_COND) begin\n",
      "    `endif\n",
      "        if (_T_1) begin\n",
      "          $fwrite(32'h80000002,\"%b\",arb_io_req_0_valid); // @[cmd14.sc 14:15]\n",
      "        end\n",
      "    `ifdef PRINTF_COND\n",
      "      end\n",
      "    `endif\n",
      "    `endif // SYNTHESIS\n",
      "    `ifndef SYNTHESIS\n",
      "    `ifdef PRINTF_COND\n",
      "      if (`PRINTF_COND) begin\n",
      "    `endif\n",
      "        if (_T_1) begin\n",
      "          $fwrite(32'h80000002,\" winner: %d (v: %b)\\n\",arb_io_out_bits,arb_io_out_valid); // @[cmd14.sc 16:11]\n",
      "        end\n",
      "    `ifdef PRINTF_COND\n",
      "      end\n",
      "    `endif\n",
      "    `endif // SYNTHESIS\n",
      "  end\n",
      "endmodule\n",
      "\n"
     ]
    },
    {
     "data": {
      "text/plain": [
       "defined \u001b[32mclass\u001b[39m \u001b[36mArbDemo\u001b[39m"
      ]
     },
     "execution_count": 15,
     "metadata": {},
     "output_type": "execute_result"
    }
   ],
   "source": [
    "class ArbDemo(numPorts: Int, n: Int) extends Module {\n",
    "    val io = IO(new Bundle {\n",
    "        val req = Flipped(Vec(numPorts, Decoupled(UInt(n.W))))\n",
    "        val out = Decoupled(UInt(n.W))\n",
    "    })\n",
    "    require (numPorts > 0)\n",
    "    val arb = Module(new MyArb(numPorts,n ))\n",
    "    for (p <- 0 until numPorts) {\n",
    "        arb.io.req(p) <> io.req(p) \n",
    "    }\n",
    "    io.out <> arb.io.out\n",
    "    printf(\"req: \")\n",
    "    for (p <- numPorts-1 to 0 by -1) {\n",
    "        printf(\"%b\", arb.io.req(p).valid)\n",
    "    }\n",
    "    printf(\" winner: %d (v: %b)\\n\", arb.io.out.bits, arb.io.out.valid)\n",
    "}\n",
    "\n",
    "// println(getVerilog(new ArbDemo(2,8)))\n",
    "\n",
    "val numPorts = 4\n",
    "test(new ArbDemo(numPorts,8)) { c =>\n",
    "    c.io.out.ready.poke(true.B)\n",
    "    for (cycle <- 0 until 4) {\n",
    "        for (p <- 0 until numPorts) {\n",
    "            c.io.req(p).bits.poke(p.U)\n",
    "            c.io.req(p).valid.poke((p % 2 == 1).B)\n",
    "        }\n",
    "        c.clock.step()\n",
    "    }\n",
    "}"
   ]
  },
  {
   "cell_type": "markdown",
   "id": "fancy-stone",
   "metadata": {
    "slideshow": {
     "slide_type": "slide"
    }
   },
   "source": [
    "## Example Crossbar in Chisel\n",
    "\n",
    "* Connects `numIns` input ports to `numOuts` output ports\n",
    "  * All ports are Decoupled\n",
    "* Note: following implementation can be tidied up with functional programming (FP)\n",
    "  * Has small bug for input ready signals, but fix is complicated without FP\n",
    "\n",
    "<img src=\"images/xbar.svg\" alt=\"xbar schematic\" style=\"width:30%;margin-left:auto;margin-right:auto\"/>"
   ]
  },
  {
   "cell_type": "markdown",
   "id": "hearing-highlight",
   "metadata": {
    "slideshow": {
     "slide_type": "slide"
    }
   },
   "source": [
    "## Example Crossbar Implementation (1/2)"
   ]
  },
  {
   "cell_type": "code",
   "execution_count": 35,
   "id": "viral-advocate",
   "metadata": {
    "cell_style": "center"
   },
   "outputs": [
    {
     "data": {
      "text/plain": [
       "defined \u001b[32mclass\u001b[39m \u001b[36mMessage\u001b[39m\n",
       "defined \u001b[32mclass\u001b[39m \u001b[36mXBarIO\u001b[39m"
      ]
     },
     "execution_count": 35,
     "metadata": {},
     "output_type": "execute_result"
    }
   ],
   "source": [
    "class Message(numOuts: Int, length: Int) extends Bundle {\n",
    "    val addr = UInt(log2Ceil(numOuts+1).W)\n",
    "    val data = UInt(length.W)\n",
    "    override def cloneType = (new Message(numOuts, length)).asInstanceOf[this.type]\n",
    "}\n",
    "\n",
    "class XBarIO(numIns: Int, numOuts: Int, length: Int) extends Bundle {\n",
    "    val in  = Vec(numIns, Flipped(Decoupled(new Message(numOuts, length))))\n",
    "    val out = Vec(numOuts, Decoupled(new Message(numOuts, length)))\n",
    "    override def cloneType = (new XBarIO(numIns, numOuts, length)).asInstanceOf[this.type]\n",
    "}"
   ]
  },
  {
   "cell_type": "markdown",
   "id": "fresh-detail",
   "metadata": {
    "slideshow": {
     "slide_type": "slide"
    }
   },
   "source": [
    "## Example Crossbar Implementation (2/2)"
   ]
  },
  {
   "cell_type": "code",
   "execution_count": 36,
   "id": "passive-listening",
   "metadata": {},
   "outputs": [
    {
     "data": {
      "text/plain": [
       "defined \u001b[32mclass\u001b[39m \u001b[36mXBar\u001b[39m"
      ]
     },
     "execution_count": 36,
     "metadata": {},
     "output_type": "execute_result"
    }
   ],
   "source": [
    "class XBar(numIns: Int, numOuts: Int, length: Int) extends Module {\n",
    "    val io = IO(new XBarIO(numIns, numOuts, length))\n",
    "    for (op <- 0 until numOuts) {\n",
    "        val arb = Module(new Arbiter(new Message(numOuts, length), numIns))\n",
    "        for (ip <- 0 until numIns) {\n",
    "            arb.io.in(ip) <> io.in(ip) \n",
    "        }\n",
    "        io.out(op) <> arb.io.out\n",
    "    }\n",
    "    // NOTE: slight bug for io.inPorts(x).ready\n",
    "    for (op <- 0 until numOuts) {\n",
    "        printf(\" %d -> %d (%b)\", io.out(op).bits.data, op.U, io.out(op).valid)\n",
    "    }\n",
    "    printf(\"\\n\")\n",
    "}\n",
    "\n",
    "// println(getVerilog(new XBar(2,2,8)))"
   ]
  },
  {
   "cell_type": "markdown",
   "id": "deadly-breed",
   "metadata": {
    "slideshow": {
     "slide_type": "slide"
    }
   },
   "source": [
    "## Example Crossbar Testing"
   ]
  },
  {
   "cell_type": "code",
   "execution_count": 34,
   "id": "russian-citizen",
   "metadata": {},
   "outputs": [
    {
     "name": "stdout",
     "output_type": "stream",
     "text": [
      "Elaborating design...\n",
      "Done elaborating.\n",
      "    0 ->  0 (1)\n",
      "    0 ->  0 (1)\n",
      "    0 ->  0 (1)\n",
      "    0 ->  0 (1)\n",
      "    0 ->  0 (0)\n",
      "test XBar Success: 0 tests passed in 6 cycles in 0.006283 seconds 954.90 Hz\n"
     ]
    },
    {
     "data": {
      "text/plain": [
       "\u001b[36mnumIns\u001b[39m: \u001b[32mInt\u001b[39m = \u001b[32m4\u001b[39m\n",
       "\u001b[36mnumOuts\u001b[39m: \u001b[32mInt\u001b[39m = \u001b[32m1\u001b[39m"
      ]
     },
     "execution_count": 34,
     "metadata": {},
     "output_type": "execute_result"
    }
   ],
   "source": [
    "val numIns = 4\n",
    "val numOuts = 1\n",
    "test(new XBar(numIns,numOuts,8)) { c =>\n",
    "    for (ip <- 0 until numIns) {\n",
    "        c.io.in(ip).valid.poke(true.B)\n",
    "        c.io.in(ip).bits.data.poke(ip.U)\n",
    "        c.io.in(ip).bits.addr.poke((ip % numOuts).U)\n",
    "    }\n",
    "    for (op <- 0 until numOuts) {\n",
    "        c.io.out(op).ready.poke(true.B)\n",
    "    }\n",
    "    for (cycle <- 0 until 4) {\n",
    "        c.clock.step()\n",
    "    }\n",
    "}"
   ]
  }
 ],
 "metadata": {
  "celltoolbar": "Slideshow",
  "kernelspec": {
   "display_name": "Scala",
   "language": "scala",
   "name": "scala"
  },
  "language_info": {
   "codemirror_mode": "text/x-scala",
   "file_extension": ".scala",
   "mimetype": "text/x-scala",
   "name": "scala",
   "nbconvert_exporter": "script",
   "version": "2.12.10"
  }
 },
 "nbformat": 4,
 "nbformat_minor": 5
}
