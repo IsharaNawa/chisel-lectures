{
 "cells": [
  {
   "cell_type": "markdown",
   "id": "external-thermal",
   "metadata": {
    "slideshow": {
     "slide_type": "slide"
    }
   },
   "source": [
    "## Agile Hardware Design\n",
    "***\n",
    "# Decoupling\n",
    "\n",
    "## Prof. Scott Beamer\n",
    "### sbeamer@ucsc.edu\n",
    "\n",
    "## [CSE 293](https://classes.soe.ucsc.edu/cse293/Spring21/)"
   ]
  },
  {
   "cell_type": "markdown",
   "id": "nominated-consistency",
   "metadata": {
    "slideshow": {
     "slide_type": "slide"
    }
   },
   "source": [
    "## Plan for Today\n",
    "\n",
    "* Scala case classes\n",
    "* Decoupling blocks in Chisel\n",
    "* Chisel Queue demo"
   ]
  },
  {
   "cell_type": "markdown",
   "id": "regular-reducing",
   "metadata": {
    "slideshow": {
     "slide_type": "slide"
    }
   },
   "source": [
    "## Loading The Chisel Library Into a Notebook"
   ]
  },
  {
   "cell_type": "code",
   "execution_count": 1,
   "id": "robust-immigration",
   "metadata": {},
   "outputs": [
    {
     "data": {
      "text/plain": [
       "\u001b[36mpath\u001b[39m: \u001b[32mString\u001b[39m = \u001b[32m\"/Users/sbeamer/Spring 2021/CSE 293/lectures/07-decoup/../resource/chisel_deps.sc\"\u001b[39m"
      ]
     },
     "execution_count": 1,
     "metadata": {},
     "output_type": "execute_result"
    }
   ],
   "source": [
    "val path = System.getProperty(\"user.dir\") + \"/../resource/chisel_deps.sc\"\n",
    "interp.load.module(ammonite.ops.Path(java.nio.file.FileSystems.getDefault().getPath(path)))"
   ]
  },
  {
   "cell_type": "code",
   "execution_count": 2,
   "id": "extended-burning",
   "metadata": {
    "slideshow": {
     "slide_type": "-"
    }
   },
   "outputs": [
    {
     "data": {
      "text/plain": [
       "\u001b[32mimport \u001b[39m\u001b[36mchisel3._\n",
       "\u001b[39m\n",
       "\u001b[32mimport \u001b[39m\u001b[36mchisel3.util._\n",
       "\u001b[39m\n",
       "\u001b[32mimport \u001b[39m\u001b[36mchisel3.tester._\n",
       "\u001b[39m\n",
       "\u001b[32mimport \u001b[39m\u001b[36mchisel3.tester.RawTester.test\u001b[39m"
      ]
     },
     "execution_count": 2,
     "metadata": {},
     "output_type": "execute_result"
    }
   ],
   "source": [
    "import chisel3._\n",
    "import chisel3.util._\n",
    "import chisel3.tester._\n",
    "import chisel3.tester.RawTester.test"
   ]
  },
  {
   "cell_type": "markdown",
   "id": "referenced-sister",
   "metadata": {
    "slideshow": {
     "slide_type": "slide"
    }
   },
   "source": [
    "## Scala Case Classes\n",
    "\n",
    "* Special type of class with additional features built-in\n",
    "  * Companion object (with constructor) (don't need `new` to instantiate)\n",
    "  * All parameters are automatically public (don't need to make them `val`)\n",
    "  * Automatic implementations of `toString`, `equals`, and `copy` \n",
    "  * Great for pattern matching (future lecture)\n"
   ]
  },
  {
   "cell_type": "code",
   "execution_count": 6,
   "id": "armed-median",
   "metadata": {},
   "outputs": [
    {
     "data": {
      "text/plain": [
       "defined \u001b[32mclass\u001b[39m \u001b[36mMovie\u001b[39m\n",
       "\u001b[36mm1\u001b[39m: \u001b[32mMovie\u001b[39m = \u001b[33mMovie\u001b[39m(\u001b[32m\"Gattaca\"\u001b[39m, \u001b[32m1997\u001b[39m, \u001b[32m\"drama\"\u001b[39m)\n",
       "\u001b[36mm2\u001b[39m: \u001b[32mMovie\u001b[39m = \u001b[33mMovie\u001b[39m(\u001b[32m\"The Avengers\"\u001b[39m, \u001b[32m1998\u001b[39m, \u001b[32m\"action\"\u001b[39m)\n",
       "\u001b[36mres5_3\u001b[39m: \u001b[32mMovie\u001b[39m = \u001b[33mMovie\u001b[39m(\u001b[32m\"The Avengers\"\u001b[39m, \u001b[32m2012\u001b[39m, \u001b[32m\"action\"\u001b[39m)\n",
       "\u001b[36mres5_4\u001b[39m: \u001b[32mString\u001b[39m = \u001b[32m\"1990s\"\u001b[39m"
      ]
     },
     "execution_count": 6,
     "metadata": {},
     "output_type": "execute_result"
    }
   ],
   "source": [
    "case class Movie(name: String, year: Int, genre: String) {\n",
    "    def decade(): String = (year - year%10) + \"s\"\n",
    "}\n",
    "\n",
    "val m1 = Movie(\"Gattaca\", 1997, \"drama\")\n",
    "val m2 = Movie(\"The Avengers\", 1998, \"action\")\n",
    "m2.copy(year=2012)\n",
    "m2.decade()"
   ]
  },
  {
   "cell_type": "markdown",
   "id": "monthly-resort",
   "metadata": {
    "slideshow": {
     "slide_type": "slide"
    }
   },
   "source": [
    "## Using `case class` for Parameters in Chisel"
   ]
  },
  {
   "cell_type": "code",
   "execution_count": 3,
   "id": "attempted-private",
   "metadata": {},
   "outputs": [
    {
     "name": "stdout",
     "output_type": "stream",
     "text": [
      "Elaborating design...\n",
      "Done elaborating.\n",
      "module MyCounter(\n",
      "  input        clock,\n",
      "  input        reset,\n",
      "  input        io_en,\n",
      "  output [3:0] io_out\n",
      ");\n",
      "`ifdef RANDOMIZE_REG_INIT\n",
      "  reg [31:0] _RAND_0;\n",
      "`endif // RANDOMIZE_REG_INIT\n",
      "  reg [3:0] count; // @[cmd2.sc 10:24]\n",
      "  wire [3:0] _T_2 = count + 4'h1; // @[cmd2.sc 13:28]\n",
      "  assign io_out = count; // @[cmd2.sc 18:12]\n",
      "  always @(posedge clock) begin\n",
      "    if (reset) begin // @[cmd2.sc 10:24]\n",
      "      count <= 4'h0; // @[cmd2.sc 10:24]\n",
      "    end else if (io_en) begin // @[cmd2.sc 11:18]\n",
      "      if (count < 4'hf) begin // @[cmd2.sc 12:35]\n",
      "        count <= _T_2; // @[cmd2.sc 13:19]\n",
      "      end else begin\n",
      "        count <= 4'h0; // @[cmd2.sc 15:19]\n",
      "      end\n",
      "    end\n",
      "  end\n",
      "// Register and memory initialization\n",
      "`ifdef RANDOMIZE_GARBAGE_ASSIGN\n",
      "`define RANDOMIZE\n",
      "`endif\n",
      "`ifdef RANDOMIZE_INVALID_ASSIGN\n",
      "`define RANDOMIZE\n",
      "`endif\n",
      "`ifdef RANDOMIZE_REG_INIT\n",
      "`define RANDOMIZE\n",
      "`endif\n",
      "`ifdef RANDOMIZE_MEM_INIT\n",
      "`define RANDOMIZE\n",
      "`endif\n",
      "`ifndef RANDOM\n",
      "`define RANDOM $random\n",
      "`endif\n",
      "`ifdef RANDOMIZE_MEM_INIT\n",
      "  integer initvar;\n",
      "`endif\n",
      "`ifndef SYNTHESIS\n",
      "`ifdef FIRRTL_BEFORE_INITIAL\n",
      "`FIRRTL_BEFORE_INITIAL\n",
      "`endif\n",
      "initial begin\n",
      "  `ifdef RANDOMIZE\n",
      "    `ifdef INIT_RANDOM\n",
      "      `INIT_RANDOM\n",
      "    `endif\n",
      "    `ifndef VERILATOR\n",
      "      `ifdef RANDOMIZE_DELAY\n",
      "        #`RANDOMIZE_DELAY begin end\n",
      "      `else\n",
      "        #0.002 begin end\n",
      "      `endif\n",
      "    `endif\n",
      "`ifdef RANDOMIZE_REG_INIT\n",
      "  _RAND_0 = {1{`RANDOM}};\n",
      "  count = _RAND_0[3:0];\n",
      "`endif // RANDOMIZE_REG_INIT\n",
      "  `endif // RANDOMIZE\n",
      "end // initial\n",
      "`ifdef FIRRTL_AFTER_INITIAL\n",
      "`FIRRTL_AFTER_INITIAL\n",
      "`endif\n",
      "`endif // SYNTHESIS\n",
      "endmodule\n",
      "\n"
     ]
    },
    {
     "data": {
      "text/plain": [
       "defined \u001b[32mclass\u001b[39m \u001b[36mCounterParams\u001b[39m\n",
       "defined \u001b[32mclass\u001b[39m \u001b[36mMyCounter\u001b[39m"
      ]
     },
     "execution_count": 3,
     "metadata": {},
     "output_type": "execute_result"
    }
   ],
   "source": [
    "case class CounterParams(val limit: Int, val start: Int = 0) {\n",
    "    def width = log2Ceil(limit + 1)\n",
    "}\n",
    "\n",
    "class MyCounter(cp: CounterParams) extends Module {\n",
    "    val io = IO(new Bundle {\n",
    "        val en  = Input(Bool())\n",
    "        val out = Output(UInt())\n",
    "    })\n",
    "    val count = RegInit(0.U(cp.width.W))\n",
    "    when (io.en) {\n",
    "        when (count < cp.limit.U) {\n",
    "            count := count + 1.U\n",
    "        } .otherwise {\n",
    "            count := cp.start.U\n",
    "        }\n",
    "    }\n",
    "    io.out := count\n",
    "}\n",
    "\n",
    "println(getVerilog(new MyCounter(CounterParams(15))))"
   ]
  },
  {
   "cell_type": "markdown",
   "id": "fabulous-taylor",
   "metadata": {
    "slideshow": {
     "slide_type": "slide"
    }
   },
   "source": [
    "## Motivation for Handshaking Protocol\n",
    "\n",
    "* Can already be difficult to correctly implement a seqentual component, but what about two sequential components interacting?\n",
    "\n",
    "* For today, let's only focus on transferring data\n",
    "  * A _producer_ sending data to a _consumer_\n",
    "\n",
    "* _**Challenge:**_ recognize when a side is (or is not) able to send/receive data\n",
    "\n",
    "<img src=\"images/producer.svg\" alt=\"ready/valid schematic\" style=\"width:75%;margin-left:auto;margin-right:auto\"/>"
   ]
  },
  {
   "cell_type": "markdown",
   "id": "refined-distributor",
   "metadata": {
    "slideshow": {
     "slide_type": "slide"
    }
   },
   "source": [
    "## Best to Distribute Control\n",
    "\n",
    "* When to use _centralized_ vs _distributed_ control?\n",
    "  * Common tradeoff throughout systems\n",
    "  * Centralized can be more efficient and easier to implement (for small scale)\n",
    "  * Distributed (peer-to-peer) can scale to larger designs much more easily\n",
    "  * _Common outcome:_ centralized within components and distributed between them\n",
    "  * Thus, question: _\"At what scale to switch from centralized to distributed?\"_\n",
    "\n",
    "* For data transfer between components, may need ...\n",
    "  * Ability for producer to indicate no data is being sent\n",
    "  * Ability for consumer to indicate inability to receive data (_back pressure_)"
   ]
  },
  {
   "cell_type": "markdown",
   "id": "industrial-weapon",
   "metadata": {
    "slideshow": {
     "slide_type": "slide"
    }
   },
   "source": [
    "## Ready/Valid Protocol\n",
    "\n",
    "* Common hardware design pattern for producer-consumer data transfer\n",
    "\n",
    "* _**valid**_ - output from producer indicating sending data\n",
    "\n",
    "* _**ready**_ - output from consumer indicating able to receive\n",
    "\n",
    "* Transfer occurs when both _ready & valid_ in same cycle\n",
    "\n",
    "\n",
    "\n",
    "<img src=\"images/readyValid.svg\" alt=\"ready/valid schematic\" style=\"width:75%;margin-left:auto;margin-right:auto\"/>"
   ]
  },
  {
   "cell_type": "markdown",
   "id": "checked-commerce",
   "metadata": {
    "slideshow": {
     "slide_type": "slide"
    }
   },
   "source": [
    "## Chisel Supports Ready/Valid\n",
    "\n",
    "* Best to use standard library's support for these patterns\n",
    "  * Less code to write, less chance of error, standardization improves readability\n",
    "* To use, wrap data to transfer with desired protocol\n",
    "  * Library will add needed additional signals & provide helper functions"
   ]
  },
  {
   "cell_type": "markdown",
   "id": "developing-spending",
   "metadata": {
    "cell_style": "split"
   },
   "source": [
    "### Valid - only `ready`\n",
    "\n",
    "* Consumer can't say no\n",
    "  * Must consume when sent\n",
    "* Indicates the existence of data\n",
    "  * Amost like hardware equivalent of Scala's `Option`"
   ]
  },
  {
   "cell_type": "markdown",
   "id": "interested-lightweight",
   "metadata": {
    "cell_style": "split"
   },
   "source": [
    "### Decoupled - `ready & valid`\n",
    "\n",
    "* Consumer can apply backpressure\n",
    "* _**BEWARE**_ of _combinational loops_\n",
    "  * Avoid using ready/valid input to combinationally create ready/valid output"
   ]
  },
  {
   "cell_type": "markdown",
   "id": "featured-luxury",
   "metadata": {
    "slideshow": {
     "slide_type": "slide"
    }
   },
   "source": [
    "## Example: Using Chisel `Valid` (1/2)"
   ]
  },
  {
   "cell_type": "code",
   "execution_count": 28,
   "id": "nutritional-pioneer",
   "metadata": {},
   "outputs": [
    {
     "name": "stdout",
     "output_type": "stream",
     "text": [
      "Elaborating design...\n",
      "Done elaborating.\n",
      "module MakeValid(\n",
      "  input        clock,\n",
      "  input        reset,\n",
      "  input        io_en,\n",
      "  input  [3:0] io_in,\n",
      "  output       io_out_valid,\n",
      "  output [3:0] io_out_bits\n",
      ");\n",
      "  assign io_out_valid = io_en; // @[cmd27.sc 7:18]\n",
      "  assign io_out_bits = io_in; // @[cmd27.sc 8:17]\n",
      "endmodule\n",
      "\n"
     ]
    },
    {
     "data": {
      "text/plain": [
       "defined \u001b[32mclass\u001b[39m \u001b[36mMakeValid\u001b[39m"
      ]
     },
     "execution_count": 28,
     "metadata": {},
     "output_type": "execute_result"
    }
   ],
   "source": [
    "class MakeValid(n: Int) extends Module {\n",
    "    val io = IO(new Bundle {\n",
    "        val en  = Input(Bool())\n",
    "        val in  = Input(UInt(n.W))\n",
    "        val out = Valid(UInt(n.W))\n",
    "    })\n",
    "    io.out.valid := io.en\n",
    "    io.out.bits := io.in\n",
    "}\n",
    "\n",
    "println(getVerilog(new MakeValid(4)))"
   ]
  },
  {
   "cell_type": "markdown",
   "id": "altered-absorption",
   "metadata": {
    "slideshow": {
     "slide_type": "slide"
    }
   },
   "source": [
    "## Example: Using Chisel `Valid` (2/2)"
   ]
  },
  {
   "cell_type": "code",
   "execution_count": 29,
   "id": "thrown-footage",
   "metadata": {},
   "outputs": [
    {
     "name": "stdout",
     "output_type": "stream",
     "text": [
      "Elaborating design...\n",
      "Done elaborating.\n",
      "cycle: 0\n",
      "  received   0\n",
      "cycle: 1\n",
      "cycle: 2\n",
      "  received   2\n",
      "cycle: 3\n",
      "cycle: 4\n",
      "  received   4\n",
      "cycle: 5\n",
      "cycle: 6\n",
      "  received   6\n",
      "cycle: 7\n",
      "test ValidReceiver Success: 0 tests passed in 10 cycles in 0.007993 seconds 1251.12 Hz\n"
     ]
    },
    {
     "data": {
      "text/plain": [
       "defined \u001b[32mclass\u001b[39m \u001b[36mValidReceiver\u001b[39m"
      ]
     },
     "execution_count": 29,
     "metadata": {},
     "output_type": "execute_result"
    }
   ],
   "source": [
    "class ValidReceiver(n: Int) extends Module {\n",
    "    val io = IO(new Bundle {\n",
    "        val in = Flipped(Valid(UInt(n.W)))\n",
    "    })\n",
    "    when (io.in.valid) {\n",
    "        printf(\"  received %d\\n\", io.in.bits)\n",
    "    }\n",
    "}\n",
    "\n",
    "// println(getVerilog(new ValidReceiver(4)))\n",
    "test(new ValidReceiver(4)) { c =>\n",
    "    for (cycle <- 0 until 8) {\n",
    "        c.io.in.bits.poke(cycle.U)\n",
    "        println(s\"cycle: $cycle\")\n",
    "        c.io.in.valid.poke((cycle%2 == 0).B)\n",
    "        c.clock.step()\n",
    "    }\n",
    "}"
   ]
  },
  {
   "cell_type": "markdown",
   "id": "systematic-arrest",
   "metadata": {
    "slideshow": {
     "slide_type": "slide"
    }
   },
   "source": [
    "## Example: Using Chisel `Decoupled` (1/2)"
   ]
  },
  {
   "cell_type": "code",
   "execution_count": 30,
   "id": "infectious-coach",
   "metadata": {},
   "outputs": [
    {
     "name": "stdout",
     "output_type": "stream",
     "text": [
      "Elaborating design...\n",
      "Done elaborating.\n",
      "module CountWhenReady(\n",
      "  input        clock,\n",
      "  input        reset,\n",
      "  input        io_en,\n",
      "  input        io_out_ready,\n",
      "  output       io_out_valid,\n",
      "  output [1:0] io_out_bits\n",
      ");\n",
      "`ifdef RANDOMIZE_REG_INIT\n",
      "  reg [31:0] _RAND_0;\n",
      "`endif // RANDOMIZE_REG_INIT\n",
      "  wire  advanceCounter = io_en & io_out_ready; // @[cmd29.sc 7:29]\n",
      "  reg [1:0] count; // @[Counter.scala 60:40]\n",
      "  wire  wrap_wrap = count == 2'h2; // @[Counter.scala 72:24]\n",
      "  wire [1:0] _wrap_value_T_1 = count + 2'h1; // @[Counter.scala 76:24]\n",
      "  assign io_out_valid = io_en; // @[cmd29.sc 10:18]\n",
      "  assign io_out_bits = count; // @[cmd29.sc 9:17]\n",
      "  always @(posedge clock) begin\n",
      "    if (reset) begin // @[Counter.scala 60:40]\n",
      "      count <= 2'h0; // @[Counter.scala 60:40]\n",
      "    end else if (advanceCounter) begin // @[Counter.scala 118:17]\n",
      "      if (wrap_wrap) begin // @[Counter.scala 86:20]\n",
      "        count <= 2'h0; // @[Counter.scala 86:28]\n",
      "      end else begin\n",
      "        count <= _wrap_value_T_1; // @[Counter.scala 76:15]\n",
      "      end\n",
      "    end\n",
      "  end\n",
      "// Register and memory initialization\n",
      "`ifdef RANDOMIZE_GARBAGE_ASSIGN\n",
      "`define RANDOMIZE\n",
      "`endif\n",
      "`ifdef RANDOMIZE_INVALID_ASSIGN\n",
      "`define RANDOMIZE\n",
      "`endif\n",
      "`ifdef RANDOMIZE_REG_INIT\n",
      "`define RANDOMIZE\n",
      "`endif\n",
      "`ifdef RANDOMIZE_MEM_INIT\n",
      "`define RANDOMIZE\n",
      "`endif\n",
      "`ifndef RANDOM\n",
      "`define RANDOM $random\n",
      "`endif\n",
      "`ifdef RANDOMIZE_MEM_INIT\n",
      "  integer initvar;\n",
      "`endif\n",
      "`ifndef SYNTHESIS\n",
      "`ifdef FIRRTL_BEFORE_INITIAL\n",
      "`FIRRTL_BEFORE_INITIAL\n",
      "`endif\n",
      "initial begin\n",
      "  `ifdef RANDOMIZE\n",
      "    `ifdef INIT_RANDOM\n",
      "      `INIT_RANDOM\n",
      "    `endif\n",
      "    `ifndef VERILATOR\n",
      "      `ifdef RANDOMIZE_DELAY\n",
      "        #`RANDOMIZE_DELAY begin end\n",
      "      `else\n",
      "        #0.002 begin end\n",
      "      `endif\n",
      "    `endif\n",
      "`ifdef RANDOMIZE_REG_INIT\n",
      "  _RAND_0 = {1{`RANDOM}};\n",
      "  count = _RAND_0[1:0];\n",
      "`endif // RANDOMIZE_REG_INIT\n",
      "  `endif // RANDOMIZE\n",
      "end // initial\n",
      "`ifdef FIRRTL_AFTER_INITIAL\n",
      "`FIRRTL_AFTER_INITIAL\n",
      "`endif\n",
      "`endif // SYNTHESIS\n",
      "endmodule\n",
      "\n"
     ]
    },
    {
     "data": {
      "text/plain": [
       "defined \u001b[32mclass\u001b[39m \u001b[36mCountWhenReady\u001b[39m"
      ]
     },
     "execution_count": 30,
     "metadata": {},
     "output_type": "execute_result"
    }
   ],
   "source": [
    "class CountWhenReady(maxVal: Int) extends Module {\n",
    "    val io = IO(new Bundle {\n",
    "        val en  = Input(Bool())\n",
    "        val out = Decoupled(UInt())\n",
    "    })\n",
    "    val advanceCounter = Wire(Bool())\n",
    "    advanceCounter := io.en && io.out.ready\n",
    "    val (count, wrap) = Counter(advanceCounter, maxVal)\n",
    "    io.out.bits := count\n",
    "    io.out.valid := io.en\n",
    "}\n",
    "\n",
    "println(getVerilog(new CountWhenReady(3)))"
   ]
  },
  {
   "cell_type": "markdown",
   "id": "stuffed-feelings",
   "metadata": {
    "slideshow": {
     "slide_type": "slide"
    }
   },
   "source": [
    "## Example: Using Chisel `Decoupled` (2/2)"
   ]
  },
  {
   "cell_type": "code",
   "execution_count": 7,
   "id": "above-sunday",
   "metadata": {},
   "outputs": [
    {
     "name": "stdout",
     "output_type": "stream",
     "text": [
      "Elaborating design...\n",
      "Done elaborating.\n",
      "cycle: 0, count: UInt<1>(0)\n",
      "cycle: 1, count: UInt<1>(0)\n",
      "cycle: 2, count: UInt<1>(1)\n",
      "cycle: 3, count: UInt<1>(1)\n",
      "cycle: 4, count: UInt<2>(2)\n",
      "cycle: 5, count: UInt<2>(2)\n",
      "cycle: 6, count: UInt<1>(0)\n",
      "test CountWhenReady Success: 0 tests passed in 9 cycles in 0.046964 seconds 191.64 Hz\n"
     ]
    },
    {
     "data": {
      "text/plain": [
       "defined \u001b[32mclass\u001b[39m \u001b[36mCountWhenReady\u001b[39m"
      ]
     },
     "execution_count": 7,
     "metadata": {},
     "output_type": "execute_result"
    }
   ],
   "source": [
    "class CountWhenReady(maxVal: Int) extends Module {\n",
    "    val io = IO(new Bundle {\n",
    "        val en  = Input(Bool())\n",
    "        val out = Decoupled(UInt())\n",
    "    })\n",
    "    val (count, wrap) = Counter(io.out.fire, maxVal)\n",
    "    io.out.valid := false.B\n",
    "    io.out.bits := 0.U\n",
    "    when (io.en) {\n",
    "        io.out.enq(count)\n",
    "    }\n",
    "}\n",
    "\n",
    "// println(getVerilog(new CountWhenReady(3)))\n",
    "\n",
    "test(new CountWhenReady(3)) { c =>\n",
    "    c.io.en.poke(true.B)\n",
    "    for (cycle <- 0 until 7) {\n",
    "        c.io.out.ready.poke((cycle%2 == 1).B)\n",
    "        println(s\"cycle: $cycle, count: ${c.io.out.bits.peek()}\")\n",
    "        c.clock.step()\n",
    "    }\n",
    "}"
   ]
  },
  {
   "cell_type": "markdown",
   "id": "second-addiction",
   "metadata": {
    "slideshow": {
     "slide_type": "slide"
    }
   },
   "source": [
    "## Using Queues to Handle Backpressure\n",
    "\n",
    "* If traffic is bursty, can use a _queue_ to smoot traffic rate\n",
    "  * Queue fills up when too much demand\n",
    "  * When demand wanes, can drain queue\n",
    "* A queue can't solve a throughput mismatch\n",
    "  * If always production rate > consumption rate, queue can't help\n",
    "* A queue is a great place to use _decoupled_ interfaces\n",
    "* Chisel's util provides `Queue` generator\n",
    "\n",
    "<img src=\"images/queue.svg\" alt=\"ready/valid schematic\" style=\"width:65%;margin-left:auto;margin-right:auto\"/>"
   ]
  },
  {
   "cell_type": "markdown",
   "id": "concrete-latter",
   "metadata": {
    "slideshow": {
     "slide_type": "slide"
    }
   },
   "source": [
    "## Using Chisel's `Queue`\n",
    "\n",
    "* Part of `util`\n",
    "* Specify number of entries and type `Queue(UInt(4.W), 8)`\n",
    "  * `pipe` - \n",
    "  * `flow`\n",
    "\n",
    "<img src=\"images/queueReady.svg\" alt=\"ready/valid schematic\" style=\"width:85%;margin-left:auto;margin-right:auto\"/>"
   ]
  },
  {
   "cell_type": "markdown",
   "id": "immediate-biodiversity",
   "metadata": {
    "slideshow": {
     "slide_type": "slide"
    }
   },
   "source": [
    "## Chisel `Queue` Demo (1/2)"
   ]
  },
  {
   "cell_type": "code",
   "execution_count": 18,
   "id": "varying-gambling",
   "metadata": {},
   "outputs": [
    {
     "data": {
      "text/plain": [
       "defined \u001b[32mclass\u001b[39m \u001b[36mCountIntoQueue\u001b[39m"
      ]
     },
     "execution_count": 18,
     "metadata": {},
     "output_type": "execute_result"
    }
   ],
   "source": [
    "class CountIntoQueue(maxVal: Int, numEntries: Int, pipe: Boolean, flow: Boolean) extends Module {\n",
    "    val io = IO(new Bundle {\n",
    "        val en  = Input(Bool())\n",
    "        val out = Decoupled(UInt())\n",
    "        val count = Output(UInt())\n",
    "    })\n",
    "    val q = Module(new Queue(UInt(), numEntries, pipe=pipe, flow=flow))\n",
    "    val (count, wrap) = Counter(q.io.enq.fire, maxVal)\n",
    "    q.io.enq.valid := io.en\n",
    "    q.io.enq.bits := count\n",
    "    io.out <> q.io.deq\n",
    "    io.count := count // for visibility\n",
    "}\n",
    "\n",
    "// println(getVerilog(new CountIntoQueue(3,1)))"
   ]
  },
  {
   "cell_type": "markdown",
   "id": "touched-envelope",
   "metadata": {
    "slideshow": {
     "slide_type": "slide"
    }
   },
   "source": [
    "## Chisel `Queue` Demo (2/2)"
   ]
  },
  {
   "cell_type": "code",
   "execution_count": 24,
   "id": "focal-drilling",
   "metadata": {
    "scrolled": true
   },
   "outputs": [
    {
     "name": "stdout",
     "output_type": "stream",
     "text": [
      "Elaborating design...\n",
      "Done elaborating.\n",
      "f count:UInt<1>(0) out:UInt<1>(0) v:Bool(true)\n",
      "f count:UInt<1>(1) out:UInt<1>(0) v:Bool(true)\n",
      "f count:UInt<1>(1) out:UInt<1>(0) v:Bool(true)\n",
      "f count:UInt<1>(1) out:UInt<1>(0) v:Bool(true)\n",
      "\n",
      "d count:UInt<1>(1) out:UInt<1>(0) v:Bool(true)\n",
      "d count:UInt<1>(1) out:UInt<1>(1) v:Bool(false)\n",
      "d count:UInt<1>(1) out:UInt<1>(1) v:Bool(false)\n",
      "d count:UInt<1>(1) out:UInt<1>(1) v:Bool(false)\n",
      "\n",
      "d count:UInt<1>(1) out:UInt<1>(1) v:Bool(true)\n",
      "d count:UInt<2>(2) out:UInt<2>(2) v:Bool(true)\n",
      "d count:UInt<1>(0) out:UInt<1>(0) v:Bool(true)\n",
      "test CountIntoQueue Success: 0 tests passed in 13 cycles in 0.011434 seconds 1137.01 Hz\n"
     ]
    }
   ],
   "source": [
    "test(new CountIntoQueue(3,1,fals,true)) { c =>\n",
    "    c.io.en.poke(true.B)\n",
    "    c.io.out.ready.poke(false.B)\n",
    "    for (cycle <- 0 until 4) {   // fill up queue\n",
    "        println(s\"f count:${c.io.count.peek()} out:${c.io.out.bits.peek()} v:${c.io.out.valid.peek()}\")\n",
    "        c.clock.step()\n",
    "    }\n",
    "    println()\n",
    "    c.io.en.poke(false.B)\n",
    "    c.io.out.ready.poke(true.B)\n",
    "    for (cycle <- 0 until 4) {   // drain queue\n",
    "        println(s\"d count:${c.io.count.peek()} out:${c.io.out.bits.peek()} v:${c.io.out.valid.peek()}\")\n",
    "        c.clock.step()\n",
    "    }\n",
    "    println()\n",
    "    c.io.en.poke(true.B)\n",
    "    for (cycle <- 0 until 3) {   // simultaneous\n",
    "        println(s\"d count:${c.io.count.peek()} out:${c.io.out.bits.peek()} v:${c.io.out.valid.peek()}\")\n",
    "        c.clock.step()\n",
    "    }\n",
    "}"
   ]
  },
  {
   "cell_type": "code",
   "execution_count": null,
   "id": "surprised-harbor",
   "metadata": {},
   "outputs": [],
   "source": []
  }
 ],
 "metadata": {
  "celltoolbar": "Slideshow",
  "kernelspec": {
   "display_name": "Scala",
   "language": "scala",
   "name": "scala"
  },
  "language_info": {
   "codemirror_mode": "text/x-scala",
   "file_extension": ".scala",
   "mimetype": "text/x-scala",
   "name": "scala",
   "nbconvert_exporter": "script",
   "version": "2.12.10"
  }
 },
 "nbformat": 4,
 "nbformat_minor": 5
}
