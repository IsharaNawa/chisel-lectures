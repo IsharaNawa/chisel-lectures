{
 "cells": [
  {
   "cell_type": "markdown",
   "id": "external-thermal",
   "metadata": {
    "slideshow": {
     "slide_type": "slide"
    }
   },
   "source": [
    "## Agile Hardware Design\n",
    "***\n",
    "# Sequential Circuits\n",
    "\n",
    "## Prof. Scott Beamer\n",
    "### sbeamer@ucsc.edu\n",
    "\n",
    "## [CSE 293](https://classes.soe.ucsc.edu/cse293/Spring21/)"
   ]
  },
  {
   "cell_type": "markdown",
   "id": "nominated-consistency",
   "metadata": {
    "slideshow": {
     "slide_type": "slide"
    }
   },
   "source": [
    "## Plan for Today\n",
    "\n",
    "* Registers!\n",
    "* Example sequential blocks\n",
    "* State machines\n",
    "* Viewing simulation results"
   ]
  },
  {
   "cell_type": "markdown",
   "id": "regular-reducing",
   "metadata": {
    "slideshow": {
     "slide_type": "slide"
    }
   },
   "source": [
    "## Loading The Chisel Library Into a Notebook"
   ]
  },
  {
   "cell_type": "code",
   "execution_count": 1,
   "id": "robust-immigration",
   "metadata": {},
   "outputs": [
    {
     "name": "stdout",
     "output_type": "stream",
     "text": [
      "Compiling /Users/sbeamer/Spring 2021/CSE 293/lectures/04-state/Main.sc"
     ]
    },
    {
     "name": "stderr",
     "output_type": "stream",
     "text": [
      "Checking https://repo1.maven.org/maven2/edu/berkeley/cs/chisel3_2.12/maven-metadata.xml\n",
      "Checked https://repo1.maven.org/maven2/edu/berkeley/cs/chisel3_2.12/maven-metadata.xml\n",
      "Checking https://repo1.maven.org/maven2/edu/berkeley/cs/chiseltest_2.12/maven-metadata.xml\n",
      "Checked https://repo1.maven.org/maven2/edu/berkeley/cs/chiseltest_2.12/maven-metadata.xml\n",
      "Checking https://repo1.maven.org/maven2/edu/berkeley/cs/firrtl-diagrammer_2.12/maven-metadata.xml\n",
      "Checked https://repo1.maven.org/maven2/edu/berkeley/cs/firrtl-diagrammer_2.12/maven-metadata.xml\n"
     ]
    },
    {
     "name": "stdout",
     "output_type": "stream",
     "text": [
      "Compiling /Users/sbeamer/Spring 2021/CSE 293/lectures/04-state/Main.sc #2"
     ]
    },
    {
     "data": {
      "text/plain": [
       "\u001b[36mpath\u001b[39m: \u001b[32mString\u001b[39m = \u001b[32m\"/Users/sbeamer/Spring 2021/CSE 293/lectures/04-state/../resource/chisel_deps.sc\"\u001b[39m"
      ]
     },
     "execution_count": 1,
     "metadata": {},
     "output_type": "execute_result"
    }
   ],
   "source": [
    "val path = System.getProperty(\"user.dir\") + \"/../resource/chisel_deps.sc\"\n",
    "interp.load.module(ammonite.ops.Path(java.nio.file.FileSystems.getDefault().getPath(path)))"
   ]
  },
  {
   "cell_type": "code",
   "execution_count": 35,
   "id": "extended-burning",
   "metadata": {
    "slideshow": {
     "slide_type": "-"
    }
   },
   "outputs": [
    {
     "data": {
      "text/plain": [
       "\u001b[32mimport \u001b[39m\u001b[36mchisel3._\n",
       "\u001b[39m\n",
       "\u001b[32mimport \u001b[39m\u001b[36mchisel3.util._\n",
       "\u001b[39m\n",
       "\u001b[32mimport \u001b[39m\u001b[36mchisel3.tester._\n",
       "\u001b[39m\n",
       "\u001b[32mimport \u001b[39m\u001b[36mchisel3.tester.RawTester.test\n",
       "\u001b[39m\n",
       "\u001b[32mimport \u001b[39m\u001b[36mtreadle._\u001b[39m"
      ]
     },
     "execution_count": 35,
     "metadata": {},
     "output_type": "execute_result"
    }
   ],
   "source": [
    "import chisel3._\n",
    "import chisel3.util._\n",
    "import chisel3.tester._\n",
    "import chisel3.tester.RawTester.test\n",
    "import treadle._"
   ]
  },
  {
   "cell_type": "markdown",
   "id": "valued-register",
   "metadata": {
    "cell_style": "center",
    "slideshow": {
     "slide_type": "slide"
    }
   },
   "source": [
    "## Registers"
   ]
  },
  {
   "cell_type": "markdown",
   "id": "prompt-settlement",
   "metadata": {
    "cell_style": "split"
   },
   "source": [
    "* Explicitly declare a register with `Reg(type)`\n",
    "  * Contrast from Verilog where registers are synthesized\n",
    "* A register is simply another component, no special semantics for time\n",
    "  * Need to connect its input and output\n",
    "* `clock` and `reset` are implicit\n",
    "* Not covered today: functionality for using other clocks ([multi-clock](https://www.chisel-lang.org/chisel3/docs/explanations/multi-clock.html) and [asynchronous reset](https://www.chisel-lang.org/chisel3/docs/explanations/reset.html)"
   ]
  },
  {
   "cell_type": "markdown",
   "id": "emerging-avenue",
   "metadata": {
    "cell_style": "split"
   },
   "source": [
    "<img src=\"images/reg.svg\" alt=\"register schamic\" style=\"width:100%;\" align=\"center\"/>"
   ]
  },
  {
   "cell_type": "markdown",
   "id": "raising-budget",
   "metadata": {
    "cell_style": "split",
    "slideshow": {
     "slide_type": "slide"
    }
   },
   "source": [
    "## Other Flavors of `Reg`\n",
    "\n",
    "* Helper functions streamline\n",
    "\n",
    "### [Set Initial Value](https://www.chisel-lang.org/api/latest/chisel3/RegInit$.html) - `RegInit(init)`\n",
    "* Value applied synchronously when `reset` true\n",
    "\n",
    "### [Attach Input](https://www.chisel-lang.org/api/latest/chisel3/RegNext$.html) - `RegNext(next)`\n",
    "* Saves a connect statement for input\n",
    "* Useful for delaying a signal by a cycle\n",
    "\n",
    "### [Enable](https://www.chisel-lang.org/api/latest/chisel3/util/RegEnable$.html) - `RegEnable(next, en)`\n",
    "* Write enable for when to update"
   ]
  },
  {
   "cell_type": "code",
   "execution_count": 9,
   "id": "recovered-technique",
   "metadata": {
    "cell_style": "split",
    "scrolled": true
   },
   "outputs": [
    {
     "name": "stdout",
     "output_type": "stream",
     "text": [
      "Elaborating design...\n",
      "Done elaborating.\n",
      "module RegLand(\n",
      "  input   clock,\n",
      "  input   reset,\n",
      "  input   io_in,\n",
      "  input   io_en,\n",
      "  output  io_out\n",
      ");\n",
      "`ifdef RANDOMIZE_REG_INIT\n",
      "  reg [31:0] _RAND_0;\n",
      "`endif // RANDOMIZE_REG_INIT\n",
      "  reg  r; // @[Reg.scala 27:20]\n",
      "  assign io_out = r; // @[cmd8.sc 12:12]\n",
      "  always @(posedge clock) begin\n",
      "    if (reset) begin // @[Reg.scala 27:20]\n",
      "      r <= 1'h0; // @[Reg.scala 27:20]\n",
      "    end else if (io_en) begin // @[Reg.scala 28:19]\n",
      "      r <= io_in; // @[Reg.scala 28:23]\n",
      "    end\n",
      "  end\n",
      "// Register and memory initialization\n",
      "`ifdef RANDOMIZE_GARBAGE_ASSIGN\n",
      "`define RANDOMIZE\n",
      "`endif\n",
      "`ifdef RANDOMIZE_INVALID_ASSIGN\n",
      "`define RANDOMIZE\n",
      "`endif\n",
      "`ifdef RANDOMIZE_REG_INIT\n",
      "`define RANDOMIZE\n",
      "`endif\n",
      "`ifdef RANDOMIZE_MEM_INIT\n",
      "`define RANDOMIZE\n",
      "`endif\n",
      "`ifndef RANDOM\n",
      "`define RANDOM $random\n",
      "`endif\n",
      "`ifdef RANDOMIZE_MEM_INIT\n",
      "  integer initvar;\n",
      "`endif\n",
      "`ifndef SYNTHESIS\n",
      "`ifdef FIRRTL_BEFORE_INITIAL\n",
      "`FIRRTL_BEFORE_INITIAL\n",
      "`endif\n",
      "initial begin\n",
      "  `ifdef RANDOMIZE\n",
      "    `ifdef INIT_RANDOM\n",
      "      `INIT_RANDOM\n",
      "    `endif\n",
      "    `ifndef VERILATOR\n",
      "      `ifdef RANDOMIZE_DELAY\n",
      "        #`RANDOMIZE_DELAY begin end\n",
      "      `else\n",
      "        #0.002 begin end\n",
      "      `endif\n",
      "    `endif\n",
      "`ifdef RANDOMIZE_REG_INIT\n",
      "  _RAND_0 = {1{`RANDOM}};\n",
      "  r = _RAND_0[0:0];\n",
      "`endif // RANDOMIZE_REG_INIT\n",
      "  `endif // RANDOMIZE\n",
      "end // initial\n",
      "`ifdef FIRRTL_AFTER_INITIAL\n",
      "`FIRRTL_AFTER_INITIAL\n",
      "`endif\n",
      "`endif // SYNTHESIS\n",
      "endmodule\n",
      "\n"
     ]
    },
    {
     "data": {
      "text/plain": [
       "defined \u001b[32mclass\u001b[39m \u001b[36mRegLand\u001b[39m"
      ]
     },
     "execution_count": 9,
     "metadata": {},
     "output_type": "execute_result"
    }
   ],
   "source": [
    "class RegLand extends Module {\n",
    "    val io = IO(new Bundle {\n",
    "        val in  = Input(Bool())\n",
    "        val en  = Input(Bool())\n",
    "        val out = Output(Bool())\n",
    "    })\n",
    "//     val r = Reg(Bool())\n",
    "//     val r = RegInit(0.B)\n",
    "//     r := io.in\n",
    "//     io.out := r\n",
    "//     io.out := RegNext(io.in, 0.B)\n",
    "    io.out := RegEnable(io.in, 0.B, io.en)\n",
    "}\n",
    "println(getVerilog(new RegLand))"
   ]
  },
  {
   "cell_type": "markdown",
   "id": "wicked-violation",
   "metadata": {
    "slideshow": {
     "slide_type": "slide"
    }
   },
   "source": [
    "## Example: Counter (done manually)"
   ]
  },
  {
   "cell_type": "code",
   "execution_count": 18,
   "id": "organized-auditor",
   "metadata": {
    "scrolled": true
   },
   "outputs": [
    {
     "name": "stdout",
     "output_type": "stream",
     "text": [
      "Elaborating design...\n",
      "Done elaborating.\n",
      "module MyCounter(\n",
      "  input        clock,\n",
      "  input        reset,\n",
      "  input        io_en,\n",
      "  output [3:0] io_out\n",
      ");\n",
      "`ifdef RANDOMIZE_REG_INIT\n",
      "  reg [31:0] _RAND_0;\n",
      "`endif // RANDOMIZE_REG_INIT\n",
      "  reg [3:0] count; // @[cmd17.sc 6:20]\n",
      "  wire [3:0] _T_2 = count + 4'h1; // @[cmd17.sc 7:47]\n",
      "  assign io_out = count; // @[cmd17.sc 10:12]\n",
      "  always @(posedge clock) begin\n",
      "    if (reset) begin // @[cmd17.sc 9:17]\n",
      "      count <= 4'h0;\n",
      "    end else if (io_en) begin // @[cmd17.sc 8:22]\n",
      "      if (count < 4'hf) begin // @[cmd17.sc 7:22]\n",
      "        count <= _T_2;\n",
      "      end else begin\n",
      "        count <= 4'h0;\n",
      "      end\n",
      "    end\n",
      "  end\n",
      "// Register and memory initialization\n",
      "`ifdef RANDOMIZE_GARBAGE_ASSIGN\n",
      "`define RANDOMIZE\n",
      "`endif\n",
      "`ifdef RANDOMIZE_INVALID_ASSIGN\n",
      "`define RANDOMIZE\n",
      "`endif\n",
      "`ifdef RANDOMIZE_REG_INIT\n",
      "`define RANDOMIZE\n",
      "`endif\n",
      "`ifdef RANDOMIZE_MEM_INIT\n",
      "`define RANDOMIZE\n",
      "`endif\n",
      "`ifndef RANDOM\n",
      "`define RANDOM $random\n",
      "`endif\n",
      "`ifdef RANDOMIZE_MEM_INIT\n",
      "  integer initvar;\n",
      "`endif\n",
      "`ifndef SYNTHESIS\n",
      "`ifdef FIRRTL_BEFORE_INITIAL\n",
      "`FIRRTL_BEFORE_INITIAL\n",
      "`endif\n",
      "initial begin\n",
      "  `ifdef RANDOMIZE\n",
      "    `ifdef INIT_RANDOM\n",
      "      `INIT_RANDOM\n",
      "    `endif\n",
      "    `ifndef VERILATOR\n",
      "      `ifdef RANDOMIZE_DELAY\n",
      "        #`RANDOMIZE_DELAY begin end\n",
      "      `else\n",
      "        #0.002 begin end\n",
      "      `endif\n",
      "    `endif\n",
      "`ifdef RANDOMIZE_REG_INIT\n",
      "  _RAND_0 = {1{`RANDOM}};\n",
      "  count = _RAND_0[3:0];\n",
      "`endif // RANDOMIZE_REG_INIT\n",
      "  `endif // RANDOMIZE\n",
      "end // initial\n",
      "`ifdef FIRRTL_AFTER_INITIAL\n",
      "`FIRRTL_AFTER_INITIAL\n",
      "`endif\n",
      "`endif // SYNTHESIS\n",
      "endmodule\n",
      "\n"
     ]
    },
    {
     "data": {
      "text/plain": [
       "defined \u001b[32mclass\u001b[39m \u001b[36mMyCounter\u001b[39m"
      ]
     },
     "execution_count": 18,
     "metadata": {},
     "output_type": "execute_result"
    }
   ],
   "source": [
    "class MyCounter(maxVal: Int) extends Module {\n",
    "    val io = IO(new Bundle {\n",
    "        val en  = Input(Bool())\n",
    "        val out = Output(UInt())\n",
    "    })\n",
    "    val count = Reg(UInt(log2Ceil(maxVal+1).W))\n",
    "    val nextVal = Mux(count < maxVal.U, count + 1.U, 0.U)\n",
    "    val applyEn = Mux(io.en, nextVal, count)\n",
    "    count := Mux(reset.asBool, 0.U, applyEn)\n",
    "    io.out := count\n",
    "}\n",
    "println(getVerilog(new MyCounter(15)))"
   ]
  },
  {
   "cell_type": "markdown",
   "id": "primary-dubai",
   "metadata": {
    "slideshow": {
     "slide_type": "slide"
    }
   },
   "source": [
    "## Example: Counter (use RegInit)"
   ]
  },
  {
   "cell_type": "code",
   "execution_count": 19,
   "id": "surgical-webmaster",
   "metadata": {
    "scrolled": true
   },
   "outputs": [
    {
     "name": "stdout",
     "output_type": "stream",
     "text": [
      "Elaborating design...\n",
      "Done elaborating.\n",
      "module MyCounter(\n",
      "  input        clock,\n",
      "  input        reset,\n",
      "  input        io_en,\n",
      "  output [3:0] io_out\n",
      ");\n",
      "`ifdef RANDOMIZE_REG_INIT\n",
      "  reg [31:0] _RAND_0;\n",
      "`endif // RANDOMIZE_REG_INIT\n",
      "  reg [3:0] count; // @[cmd18.sc 6:24]\n",
      "  wire [3:0] _T_2 = count + 4'h1; // @[cmd18.sc 7:47]\n",
      "  assign io_out = count; // @[cmd18.sc 9:12]\n",
      "  always @(posedge clock) begin\n",
      "    if (reset) begin // @[cmd18.sc 6:24]\n",
      "      count <= 4'h0; // @[cmd18.sc 6:24]\n",
      "    end else if (io_en) begin // @[cmd18.sc 8:17]\n",
      "      if (count < 4'hf) begin // @[cmd18.sc 7:22]\n",
      "        count <= _T_2;\n",
      "      end else begin\n",
      "        count <= 4'h0;\n",
      "      end\n",
      "    end\n",
      "  end\n",
      "// Register and memory initialization\n",
      "`ifdef RANDOMIZE_GARBAGE_ASSIGN\n",
      "`define RANDOMIZE\n",
      "`endif\n",
      "`ifdef RANDOMIZE_INVALID_ASSIGN\n",
      "`define RANDOMIZE\n",
      "`endif\n",
      "`ifdef RANDOMIZE_REG_INIT\n",
      "`define RANDOMIZE\n",
      "`endif\n",
      "`ifdef RANDOMIZE_MEM_INIT\n",
      "`define RANDOMIZE\n",
      "`endif\n",
      "`ifndef RANDOM\n",
      "`define RANDOM $random\n",
      "`endif\n",
      "`ifdef RANDOMIZE_MEM_INIT\n",
      "  integer initvar;\n",
      "`endif\n",
      "`ifndef SYNTHESIS\n",
      "`ifdef FIRRTL_BEFORE_INITIAL\n",
      "`FIRRTL_BEFORE_INITIAL\n",
      "`endif\n",
      "initial begin\n",
      "  `ifdef RANDOMIZE\n",
      "    `ifdef INIT_RANDOM\n",
      "      `INIT_RANDOM\n",
      "    `endif\n",
      "    `ifndef VERILATOR\n",
      "      `ifdef RANDOMIZE_DELAY\n",
      "        #`RANDOMIZE_DELAY begin end\n",
      "      `else\n",
      "        #0.002 begin end\n",
      "      `endif\n",
      "    `endif\n",
      "`ifdef RANDOMIZE_REG_INIT\n",
      "  _RAND_0 = {1{`RANDOM}};\n",
      "  count = _RAND_0[3:0];\n",
      "`endif // RANDOMIZE_REG_INIT\n",
      "  `endif // RANDOMIZE\n",
      "end // initial\n",
      "`ifdef FIRRTL_AFTER_INITIAL\n",
      "`FIRRTL_AFTER_INITIAL\n",
      "`endif\n",
      "`endif // SYNTHESIS\n",
      "endmodule\n",
      "\n"
     ]
    },
    {
     "data": {
      "text/plain": [
       "defined \u001b[32mclass\u001b[39m \u001b[36mMyCounter\u001b[39m"
      ]
     },
     "execution_count": 19,
     "metadata": {},
     "output_type": "execute_result"
    }
   ],
   "source": [
    "class MyCounter(maxVal: Int) extends Module {\n",
    "    val io = IO(new Bundle {\n",
    "        val en  = Input(Bool())\n",
    "        val out = Output(UInt())\n",
    "    })\n",
    "    val count = RegInit(0.U(log2Ceil(maxVal+1).W))\n",
    "    val nextVal = Mux(count < maxVal.U, count + 1.U, 0.U)\n",
    "    count := Mux(io.en, nextVal, count)\n",
    "    io.out := count\n",
    "}\n",
    "println(getVerilog(new MyCounter(15)))"
   ]
  },
  {
   "cell_type": "markdown",
   "id": "inner-fabric",
   "metadata": {
    "slideshow": {
     "slide_type": "slide"
    }
   },
   "source": [
    "## Example: Counter (using when)"
   ]
  },
  {
   "cell_type": "code",
   "execution_count": 24,
   "id": "classical-pontiac",
   "metadata": {
    "scrolled": true
   },
   "outputs": [
    {
     "name": "stdout",
     "output_type": "stream",
     "text": [
      "Elaborating design...\n",
      "Done elaborating.\n",
      "module MyCounter(\n",
      "  input        clock,\n",
      "  input        reset,\n",
      "  input        io_en,\n",
      "  output [3:0] io_out\n",
      ");\n",
      "`ifdef RANDOMIZE_REG_INIT\n",
      "  reg [31:0] _RAND_0;\n",
      "`endif // RANDOMIZE_REG_INIT\n",
      "  reg [3:0] count; // @[cmd23.sc 6:24]\n",
      "  wire [3:0] _T_2 = count + 4'h1; // @[cmd23.sc 9:28]\n",
      "  assign io_out = count; // @[cmd23.sc 14:12]\n",
      "  always @(posedge clock) begin\n",
      "    if (reset) begin // @[cmd23.sc 6:24]\n",
      "      count <= 4'h0; // @[cmd23.sc 6:24]\n",
      "    end else if (io_en) begin // @[cmd23.sc 7:18]\n",
      "      if (count < 4'hf) begin // @[cmd23.sc 8:33]\n",
      "        count <= _T_2; // @[cmd23.sc 9:19]\n",
      "      end else begin\n",
      "        count <= 4'h0; // @[cmd23.sc 11:19]\n",
      "      end\n",
      "    end\n",
      "  end\n",
      "// Register and memory initialization\n",
      "`ifdef RANDOMIZE_GARBAGE_ASSIGN\n",
      "`define RANDOMIZE\n",
      "`endif\n",
      "`ifdef RANDOMIZE_INVALID_ASSIGN\n",
      "`define RANDOMIZE\n",
      "`endif\n",
      "`ifdef RANDOMIZE_REG_INIT\n",
      "`define RANDOMIZE\n",
      "`endif\n",
      "`ifdef RANDOMIZE_MEM_INIT\n",
      "`define RANDOMIZE\n",
      "`endif\n",
      "`ifndef RANDOM\n",
      "`define RANDOM $random\n",
      "`endif\n",
      "`ifdef RANDOMIZE_MEM_INIT\n",
      "  integer initvar;\n",
      "`endif\n",
      "`ifndef SYNTHESIS\n",
      "`ifdef FIRRTL_BEFORE_INITIAL\n",
      "`FIRRTL_BEFORE_INITIAL\n",
      "`endif\n",
      "initial begin\n",
      "  `ifdef RANDOMIZE\n",
      "    `ifdef INIT_RANDOM\n",
      "      `INIT_RANDOM\n",
      "    `endif\n",
      "    `ifndef VERILATOR\n",
      "      `ifdef RANDOMIZE_DELAY\n",
      "        #`RANDOMIZE_DELAY begin end\n",
      "      `else\n",
      "        #0.002 begin end\n",
      "      `endif\n",
      "    `endif\n",
      "`ifdef RANDOMIZE_REG_INIT\n",
      "  _RAND_0 = {1{`RANDOM}};\n",
      "  count = _RAND_0[3:0];\n",
      "`endif // RANDOMIZE_REG_INIT\n",
      "  `endif // RANDOMIZE\n",
      "end // initial\n",
      "`ifdef FIRRTL_AFTER_INITIAL\n",
      "`FIRRTL_AFTER_INITIAL\n",
      "`endif\n",
      "`endif // SYNTHESIS\n",
      "endmodule\n",
      "\n"
     ]
    },
    {
     "data": {
      "text/plain": [
       "defined \u001b[32mclass\u001b[39m \u001b[36mMyCounter\u001b[39m"
      ]
     },
     "execution_count": 24,
     "metadata": {},
     "output_type": "execute_result"
    }
   ],
   "source": [
    "class MyCounter(maxVal: Int) extends Module {\n",
    "    val io = IO(new Bundle {\n",
    "        val en  = Input(Bool())\n",
    "        val out = Output(UInt())\n",
    "    })\n",
    "    val count = RegInit(0.U(log2Ceil(maxVal+1).W))\n",
    "    when (io.en) {\n",
    "        when (count < maxVal.U) {\n",
    "            count := count + 1.U\n",
    "        } .otherwise {\n",
    "            count := 0.U\n",
    "        }\n",
    "    }\n",
    "    io.out := count\n",
    "}\n",
    "println(getVerilog(new MyCounter(15)))"
   ]
  },
  {
   "cell_type": "markdown",
   "id": "sexual-reducing",
   "metadata": {
    "slideshow": {
     "slide_type": "slide"
    }
   },
   "source": [
    "## Example: Counter (too dense?)"
   ]
  },
  {
   "cell_type": "code",
   "execution_count": 23,
   "id": "abroad-outdoors",
   "metadata": {
    "scrolled": true
   },
   "outputs": [
    {
     "name": "stdout",
     "output_type": "stream",
     "text": [
      "Elaborating design...\n",
      "Done elaborating.\n",
      "module MyCounter(\n",
      "  input        clock,\n",
      "  input        reset,\n",
      "  input        io_en,\n",
      "  output [3:0] io_count\n",
      ");\n",
      "`ifdef RANDOMIZE_REG_INIT\n",
      "  reg [31:0] _RAND_0;\n",
      "`endif // RANDOMIZE_REG_INIT\n",
      "  wire [3:0] _T_2 = io_count + 4'h1; // @[cmd22.sc 6:61]\n",
      "  reg [3:0] r; // @[Reg.scala 27:20]\n",
      "  assign io_count = r; // @[cmd22.sc 6:14]\n",
      "  always @(posedge clock) begin\n",
      "    if (reset) begin // @[Reg.scala 27:20]\n",
      "      r <= 4'h0; // @[Reg.scala 27:20]\n",
      "    end else if (io_en) begin // @[Reg.scala 28:19]\n",
      "      if (io_count < 4'hf) begin // @[cmd22.sc 6:30]\n",
      "        r <= _T_2;\n",
      "      end else begin\n",
      "        r <= 4'h0;\n",
      "      end\n",
      "    end\n",
      "  end\n",
      "// Register and memory initialization\n",
      "`ifdef RANDOMIZE_GARBAGE_ASSIGN\n",
      "`define RANDOMIZE\n",
      "`endif\n",
      "`ifdef RANDOMIZE_INVALID_ASSIGN\n",
      "`define RANDOMIZE\n",
      "`endif\n",
      "`ifdef RANDOMIZE_REG_INIT\n",
      "`define RANDOMIZE\n",
      "`endif\n",
      "`ifdef RANDOMIZE_MEM_INIT\n",
      "`define RANDOMIZE\n",
      "`endif\n",
      "`ifndef RANDOM\n",
      "`define RANDOM $random\n",
      "`endif\n",
      "`ifdef RANDOMIZE_MEM_INIT\n",
      "  integer initvar;\n",
      "`endif\n",
      "`ifndef SYNTHESIS\n",
      "`ifdef FIRRTL_BEFORE_INITIAL\n",
      "`FIRRTL_BEFORE_INITIAL\n",
      "`endif\n",
      "initial begin\n",
      "  `ifdef RANDOMIZE\n",
      "    `ifdef INIT_RANDOM\n",
      "      `INIT_RANDOM\n",
      "    `endif\n",
      "    `ifndef VERILATOR\n",
      "      `ifdef RANDOMIZE_DELAY\n",
      "        #`RANDOMIZE_DELAY begin end\n",
      "      `else\n",
      "        #0.002 begin end\n",
      "      `endif\n",
      "    `endif\n",
      "`ifdef RANDOMIZE_REG_INIT\n",
      "  _RAND_0 = {1{`RANDOM}};\n",
      "  r = _RAND_0[3:0];\n",
      "`endif // RANDOMIZE_REG_INIT\n",
      "  `endif // RANDOMIZE\n",
      "end // initial\n",
      "`ifdef FIRRTL_AFTER_INITIAL\n",
      "`FIRRTL_AFTER_INITIAL\n",
      "`endif\n",
      "`endif // SYNTHESIS\n",
      "endmodule\n",
      "\n"
     ]
    },
    {
     "data": {
      "text/plain": [
       "defined \u001b[32mclass\u001b[39m \u001b[36mMyCounter\u001b[39m"
      ]
     },
     "execution_count": 23,
     "metadata": {},
     "output_type": "execute_result"
    }
   ],
   "source": [
    "class MyCounter(maxVal: Int) extends Module {\n",
    "    val io = IO(new Bundle {\n",
    "        val en  = Input(Bool())\n",
    "        val count = Output(UInt(log2Ceil(maxVal+1).W))\n",
    "    })\n",
    "    io.count := RegEnable(Mux(io.count < maxVal.U, io.count + 1.U, 0.U), 0.U, io.en)\n",
    "}\n",
    "println(getVerilog(new MyCounter(15)))"
   ]
  },
  {
   "cell_type": "markdown",
   "id": "normal-awareness",
   "metadata": {
    "slideshow": {
     "slide_type": "slide"
    }
   },
   "source": [
    "## Testing MyCounter"
   ]
  },
  {
   "cell_type": "code",
   "execution_count": 36,
   "id": "still-pulse",
   "metadata": {},
   "outputs": [
    {
     "name": "stdout",
     "output_type": "stream",
     "text": [
      "Elaborating design...\n",
      "Done elaborating.\n",
      "test MyCounter Success: 0 tests passed in 8 cycles in 0.046203 seconds 173.15 Hz\n"
     ]
    }
   ],
   "source": [
    "test(new MyCounter(3), Seq(WriteVcdAnnotation)) { c =>\n",
    "// test(new MyCounter(3)) { c =>\n",
    "    c.io.en.poke(1.B)\n",
    "    c.io.out.expect(0.U)\n",
    "    c.clock.step()\n",
    "\n",
    "    c.io.en.poke(1.B)\n",
    "    c.io.out.expect(1.U)\n",
    "    c.clock.step()\n",
    "\n",
    "    c.io.en.poke(1.B)\n",
    "    c.io.out.expect(2.U)\n",
    "    c.clock.step()\n",
    "\n",
    "    c.io.en.poke(0.B)\n",
    "    c.io.out.expect(3.U)\n",
    "    c.clock.step()\n",
    "\n",
    "    c.io.en.poke(1.B)\n",
    "    c.io.out.expect(3.U)\n",
    "    c.clock.step()\n",
    "\n",
    "    c.io.en.poke(1.B)\n",
    "    c.io.out.expect(0.U)\n",
    "    c.clock.step()\n",
    "}"
   ]
  },
  {
   "cell_type": "markdown",
   "id": "excessive-search",
   "metadata": {
    "slideshow": {
     "slide_type": "slide"
    }
   },
   "source": [
    "## Chisel `Enum`\n",
    "\n",
    "* `Enum` is Chisel object that assigns `UInt`s (`Enumeration` is Scala)\n",
    "```scala\n",
    "val nameA :: nameB :: nameC :: Nil = Enum(3)\n",
    "```\n",
    "* Helpful for putting human-sensical names to distinct values\n",
    "* Example use cases\n",
    "  * Naming states in a state machine\n",
    "  * Labeling mux way selection options\n",
    "  * Labeling options for interfaces\n",
    "* `ChiselEnum` is a new mechanism in [experimental](https://www.chisel-lang.org/chisel3/docs/explanations/chisel-enum.html)"
   ]
  },
  {
   "cell_type": "markdown",
   "id": "inside-honduras",
   "metadata": {
    "cell_style": "center",
    "slideshow": {
     "slide_type": "slide"
    }
   },
   "source": [
    "## Example State Machine (Raccoon)\n",
    "\n",
    "<img src=\"images/raccoon.svg\" alt=\"raccoon fsm\" style=\"width:45%;\" align=\"center\"/>"
   ]
  },
  {
   "cell_type": "code",
   "execution_count": 28,
   "id": "nominated-cleanup",
   "metadata": {
    "scrolled": true,
    "slideshow": {
     "slide_type": "slide"
    }
   },
   "outputs": [
    {
     "name": "stdout",
     "output_type": "stream",
     "text": [
      "Elaborating design...\n",
      "Done elaborating.\n",
      "module Raccoon(\n",
      "  input        clock,\n",
      "  input        reset,\n",
      "  input        io_noise,\n",
      "  input        io_trash,\n",
      "  input        io_food,\n",
      "  output [1:0] io_action\n",
      ");\n",
      "`ifdef RANDOMIZE_REG_INIT\n",
      "  reg [31:0] _RAND_0;\n",
      "`endif // RANDOMIZE_REG_INIT\n",
      "  reg [1:0] state; // @[cmd27.sc 9:24]\n",
      "  wire [1:0] _GEN_1 = io_trash ? 2'h2 : state; // @[cmd27.sc 14:30 cmd27.sc 14:38 cmd27.sc 9:24]\n",
      "  wire [1:0] _GEN_3 = io_food ? 2'h3 : state; // @[cmd27.sc 17:29 cmd27.sc 17:37 cmd27.sc 9:24]\n",
      "  wire [1:0] _GEN_4 = io_noise ? 2'h0 : _GEN_3; // @[cmd27.sc 16:25 cmd27.sc 16:33]\n",
      "  wire [1:0] _GEN_5 = ~io_food ? 2'h1 : state; // @[cmd27.sc 20:30 cmd27.sc 20:38 cmd27.sc 9:24]\n",
      "  wire [1:0] _GEN_6 = io_noise ? 2'h0 : _GEN_5; // @[cmd27.sc 19:25 cmd27.sc 19:33]\n",
      "  wire [1:0] _GEN_7 = state == 2'h3 ? _GEN_6 : state; // @[cmd27.sc 18:33 cmd27.sc 9:24]\n",
      "  assign io_action = state; // @[cmd27.sc 22:15]\n",
      "  always @(posedge clock) begin\n",
      "    if (reset) begin // @[cmd27.sc 9:24]\n",
      "      state <= 2'h0; // @[cmd27.sc 9:24]\n",
      "    end else if (state == 2'h0) begin // @[cmd27.sc 10:27]\n",
      "      if (~io_noise) begin // @[cmd27.sc 11:26]\n",
      "        state <= 2'h1; // @[cmd27.sc 11:34]\n",
      "      end\n",
      "    end else if (state == 2'h1) begin // @[cmd27.sc 12:36]\n",
      "      if (io_noise) begin // @[cmd27.sc 13:25]\n",
      "        state <= 2'h0; // @[cmd27.sc 13:33]\n",
      "      end else begin\n",
      "        state <= _GEN_1;\n",
      "      end\n",
      "    end else if (state == 2'h2) begin // @[cmd27.sc 15:37]\n",
      "      state <= _GEN_4;\n",
      "    end else begin\n",
      "      state <= _GEN_7;\n",
      "    end\n",
      "  end\n",
      "// Register and memory initialization\n",
      "`ifdef RANDOMIZE_GARBAGE_ASSIGN\n",
      "`define RANDOMIZE\n",
      "`endif\n",
      "`ifdef RANDOMIZE_INVALID_ASSIGN\n",
      "`define RANDOMIZE\n",
      "`endif\n",
      "`ifdef RANDOMIZE_REG_INIT\n",
      "`define RANDOMIZE\n",
      "`endif\n",
      "`ifdef RANDOMIZE_MEM_INIT\n",
      "`define RANDOMIZE\n",
      "`endif\n",
      "`ifndef RANDOM\n",
      "`define RANDOM $random\n",
      "`endif\n",
      "`ifdef RANDOMIZE_MEM_INIT\n",
      "  integer initvar;\n",
      "`endif\n",
      "`ifndef SYNTHESIS\n",
      "`ifdef FIRRTL_BEFORE_INITIAL\n",
      "`FIRRTL_BEFORE_INITIAL\n",
      "`endif\n",
      "initial begin\n",
      "  `ifdef RANDOMIZE\n",
      "    `ifdef INIT_RANDOM\n",
      "      `INIT_RANDOM\n",
      "    `endif\n",
      "    `ifndef VERILATOR\n",
      "      `ifdef RANDOMIZE_DELAY\n",
      "        #`RANDOMIZE_DELAY begin end\n",
      "      `else\n",
      "        #0.002 begin end\n",
      "      `endif\n",
      "    `endif\n",
      "`ifdef RANDOMIZE_REG_INIT\n",
      "  _RAND_0 = {1{`RANDOM}};\n",
      "  state = _RAND_0[1:0];\n",
      "`endif // RANDOMIZE_REG_INIT\n",
      "  `endif // RANDOMIZE\n",
      "end // initial\n",
      "`ifdef FIRRTL_AFTER_INITIAL\n",
      "`FIRRTL_AFTER_INITIAL\n",
      "`endif\n",
      "`endif // SYNTHESIS\n",
      "endmodule\n",
      "\n"
     ]
    },
    {
     "data": {
      "text/plain": [
       "defined \u001b[32mclass\u001b[39m \u001b[36mRaccoon\u001b[39m"
      ]
     },
     "execution_count": 28,
     "metadata": {},
     "output_type": "execute_result"
    }
   ],
   "source": [
    "class Raccoon extends Module { // using when\n",
    "    val io = IO(new Bundle {\n",
    "        val noise = Input(Bool())\n",
    "        val trash = Input(Bool())\n",
    "        val food  = Input(Bool())\n",
    "        val action = Output(UInt())\n",
    "    })\n",
    "    val hide :: wander :: rummage :: eat :: Nil = Enum(4)\n",
    "    val state = RegInit(hide)\n",
    "    when (state === hide) {\n",
    "        when (!io.noise) { state := wander }\n",
    "    } .elsewhen (state === wander) {\n",
    "        when (io.noise) { state := hide }\n",
    "        .elsewhen (io.trash) { state := rummage }\n",
    "    } .elsewhen (state === rummage) {\n",
    "        when (io.noise) { state := hide }\n",
    "        .elsewhen (io.food) { state := eat }\n",
    "    } .elsewhen (state === eat) {\n",
    "        when (io.noise) { state := hide }\n",
    "        .elsewhen (!io.food) { state := wander }\n",
    "    }\n",
    "    io.action := state\n",
    "}\n",
    "println(getVerilog(new Raccoon))"
   ]
  },
  {
   "cell_type": "code",
   "execution_count": 32,
   "id": "intelligent-sound",
   "metadata": {
    "cell_style": "center",
    "scrolled": false,
    "slideshow": {
     "slide_type": "slide"
    }
   },
   "outputs": [
    {
     "name": "stdout",
     "output_type": "stream",
     "text": [
      "Elaborating design...\n",
      "Done elaborating.\n",
      "module Raccoon(\n",
      "  input        clock,\n",
      "  input        reset,\n",
      "  input        io_noise,\n",
      "  input        io_trash,\n",
      "  input        io_food,\n",
      "  output [1:0] io_action\n",
      ");\n",
      "`ifdef RANDOMIZE_REG_INIT\n",
      "  reg [31:0] _RAND_0;\n",
      "`endif // RANDOMIZE_REG_INIT\n",
      "  reg [1:0] state; // @[cmd31.sc 9:24]\n",
      "  wire  _T = 2'h0 == state; // @[Conditional.scala 37:30]\n",
      "  wire  _T_2 = 2'h1 == state; // @[Conditional.scala 37:30]\n",
      "  wire [1:0] _GEN_1 = io_trash ? 2'h2 : state; // @[cmd31.sc 16:34 cmd31.sc 16:42 cmd31.sc 9:24]\n",
      "  wire  _T_3 = 2'h2 == state; // @[Conditional.scala 37:30]\n",
      "  wire [1:0] _GEN_3 = io_food ? 2'h3 : state; // @[cmd31.sc 20:33 cmd31.sc 20:41 cmd31.sc 9:24]\n",
      "  wire [1:0] _GEN_4 = io_noise ? 2'h0 : _GEN_3; // @[cmd31.sc 19:29 cmd31.sc 19:37]\n",
      "  wire  _T_4 = 2'h3 == state; // @[Conditional.scala 37:30]\n",
      "  wire [1:0] _GEN_5 = ~io_food ? 2'h1 : state; // @[cmd31.sc 24:34 cmd31.sc 24:42 cmd31.sc 9:24]\n",
      "  wire [1:0] _GEN_6 = io_noise ? 2'h0 : _GEN_5; // @[cmd31.sc 23:29 cmd31.sc 23:37]\n",
      "  wire [1:0] _GEN_7 = _T_4 ? _GEN_6 : state; // @[Conditional.scala 39:67 cmd31.sc 9:24]\n",
      "  assign io_action = state; // @[cmd31.sc 27:15]\n",
      "  always @(posedge clock) begin\n",
      "    if (reset) begin // @[cmd31.sc 9:24]\n",
      "      state <= 2'h0; // @[cmd31.sc 9:24]\n",
      "    end else if (_T) begin // @[Conditional.scala 40:58]\n",
      "      if (~io_noise) begin // @[cmd31.sc 12:30]\n",
      "        state <= 2'h1; // @[cmd31.sc 12:38]\n",
      "      end\n",
      "    end else if (_T_2) begin // @[Conditional.scala 39:67]\n",
      "      if (io_noise) begin // @[cmd31.sc 15:29]\n",
      "        state <= 2'h0; // @[cmd31.sc 15:37]\n",
      "      end else begin\n",
      "        state <= _GEN_1;\n",
      "      end\n",
      "    end else if (_T_3) begin // @[Conditional.scala 39:67]\n",
      "      state <= _GEN_4;\n",
      "    end else begin\n",
      "      state <= _GEN_7;\n",
      "    end\n",
      "  end\n",
      "// Register and memory initialization\n",
      "`ifdef RANDOMIZE_GARBAGE_ASSIGN\n",
      "`define RANDOMIZE\n",
      "`endif\n",
      "`ifdef RANDOMIZE_INVALID_ASSIGN\n",
      "`define RANDOMIZE\n",
      "`endif\n",
      "`ifdef RANDOMIZE_REG_INIT\n",
      "`define RANDOMIZE\n",
      "`endif\n",
      "`ifdef RANDOMIZE_MEM_INIT\n",
      "`define RANDOMIZE\n",
      "`endif\n",
      "`ifndef RANDOM\n",
      "`define RANDOM $random\n",
      "`endif\n",
      "`ifdef RANDOMIZE_MEM_INIT\n",
      "  integer initvar;\n",
      "`endif\n",
      "`ifndef SYNTHESIS\n",
      "`ifdef FIRRTL_BEFORE_INITIAL\n",
      "`FIRRTL_BEFORE_INITIAL\n",
      "`endif\n",
      "initial begin\n",
      "  `ifdef RANDOMIZE\n",
      "    `ifdef INIT_RANDOM\n",
      "      `INIT_RANDOM\n",
      "    `endif\n",
      "    `ifndef VERILATOR\n",
      "      `ifdef RANDOMIZE_DELAY\n",
      "        #`RANDOMIZE_DELAY begin end\n",
      "      `else\n",
      "        #0.002 begin end\n",
      "      `endif\n",
      "    `endif\n",
      "`ifdef RANDOMIZE_REG_INIT\n",
      "  _RAND_0 = {1{`RANDOM}};\n",
      "  state = _RAND_0[1:0];\n",
      "`endif // RANDOMIZE_REG_INIT\n",
      "  `endif // RANDOMIZE\n",
      "end // initial\n",
      "`ifdef FIRRTL_AFTER_INITIAL\n",
      "`FIRRTL_AFTER_INITIAL\n",
      "`endif\n",
      "`endif // SYNTHESIS\n",
      "endmodule\n",
      "\n"
     ]
    },
    {
     "data": {
      "text/plain": [
       "defined \u001b[32mclass\u001b[39m \u001b[36mRaccoon\u001b[39m"
      ]
     },
     "execution_count": 32,
     "metadata": {},
     "output_type": "execute_result"
    }
   ],
   "source": [
    "class Raccoon extends Module { // using switch\n",
    "    val io = IO(new Bundle {\n",
    "        val noise = Input(Bool())\n",
    "        val trash = Input(Bool())\n",
    "        val food  = Input(Bool())\n",
    "        val action = Output(UInt())\n",
    "    })\n",
    "    val hide :: wander :: rummage :: eat :: Nil = Enum(4)\n",
    "    val state = RegInit(hide)\n",
    "    switch(state) {\n",
    "        is (hide) {\n",
    "            when (!io.noise) { state := wander }\n",
    "        }\n",
    "        is (wander) {\n",
    "            when (io.noise) { state := hide }\n",
    "            .elsewhen (io.trash) { state := rummage }\n",
    "        }\n",
    "        is (rummage) {\n",
    "            when (io.noise) { state := hide }\n",
    "            .elsewhen (io.food) { state := eat }\n",
    "        }\n",
    "        is (eat) {\n",
    "            when (io.noise) { state := hide }\n",
    "            .elsewhen (!io.food) { state := wander }\n",
    "        }\n",
    "    }\n",
    "    io.action := state\n",
    "}\n",
    "println(getVerilog(new Raccoon))"
   ]
  },
  {
   "cell_type": "code",
   "execution_count": 34,
   "id": "meaningful-threshold",
   "metadata": {
    "slideshow": {
     "slide_type": "slide"
    }
   },
   "outputs": [
    {
     "name": "stdout",
     "output_type": "stream",
     "text": [
      "Elaborating design...\n",
      "Done elaborating.\n",
      "test Raccoon Success: 0 tests passed in 9 cycles in 0.006980 seconds 1289.35 Hz\n"
     ]
    }
   ],
   "source": [
    "test(new Raccoon()) { r =>\n",
    "    r.io.noise.poke(1.B)\n",
    "    r.io.trash.poke(0.B)\n",
    "    r.io.food.poke(0.B)\n",
    "    r.clock.step()\n",
    "    r.io.action.expect(0.U)\n",
    "\n",
    "    r.io.noise.poke(0.B)\n",
    "    r.clock.step()\n",
    "    r.io.action.expect(1.U)\n",
    "\n",
    "    r.io.trash.poke(1.B)\n",
    "    r.clock.step()\n",
    "    r.io.action.expect(2.U)\n",
    "\n",
    "    r.io.trash.poke(0.B)\n",
    "    r.io.food.poke(1.B)\n",
    "    r.clock.step()\n",
    "    r.io.action.expect(3.U)\n",
    "\n",
    "    r.io.food.poke(1.B)\n",
    "    r.clock.step()\n",
    "    r.io.action.expect(3.U)\n",
    "\n",
    "    r.io.food.poke(0.B)\n",
    "    r.clock.step()\n",
    "    r.io.action.expect(1.U)\n",
    "\n",
    "    r.io.noise.poke(1.B)\n",
    "    r.clock.step()\n",
    "    r.io.action.expect(0.U)\n",
    "}"
   ]
  },
  {
   "cell_type": "code",
   "execution_count": null,
   "id": "under-prairie",
   "metadata": {
    "slideshow": {
     "slide_type": "skip"
    }
   },
   "outputs": [],
   "source": [
    "test(new Raccoon()) { r =>\n",
    "    r.io.noise.poke(1.B)\n",
    "    r.io.trash.poke(0.B)\n",
    "    r.io.food.poke(0.B)\n",
    "    r.clock.step()\n",
    "    r.io.action.expect(0.U)\n",
    "\n",
    "    r.io.noise.poke(0.B)\n",
    "    r.io.trash.poke(0.B)\n",
    "    r.io.food.poke(0.B)\n",
    "    r.clock.step()\n",
    "    r.io.action.expect(1.U)\n",
    "\n",
    "    r.io.noise.poke(0.B)\n",
    "    r.io.trash.poke(1.B)\n",
    "    r.io.food.poke(0.B)\n",
    "    r.clock.step()\n",
    "    r.io.action.expect(2.U)\n",
    "\n",
    "    r.io.noise.poke(0.B)\n",
    "    r.io.trash.poke(0.B)\n",
    "    r.io.food.poke(1.B)\n",
    "    r.clock.step()\n",
    "    r.io.action.expect(3.U)\n",
    "\n",
    "    r.io.noise.poke(0.B)\n",
    "    r.io.trash.poke(0.B)\n",
    "    r.io.food.poke(1.B)\n",
    "    r.clock.step()\n",
    "    r.io.action.expect(3.U)\n",
    "\n",
    "    r.io.noise.poke(0.B)\n",
    "    r.io.trash.poke(0.B)\n",
    "    r.io.food.poke(0.B)\n",
    "    r.clock.step()\n",
    "    r.io.action.expect(1.U)\n",
    "\n",
    "    r.io.noise.poke(1.B)\n",
    "    r.io.trash.poke(0.B)\n",
    "    r.io.food.poke(0.B)\n",
    "    r.clock.step()\n",
    "    r.io.action.expect(0.U)\n",
    "}"
   ]
  },
  {
   "cell_type": "markdown",
   "id": "fresh-rover",
   "metadata": {
    "slideshow": {
     "slide_type": "slide"
    }
   },
   "source": [
    "## Collecting Useful Output from Simulation\n",
    "\n",
    "* So far, we have used a PeekPoke tester to interact with the design\n",
    "    * Running tests is specific form of simulation\n",
    "    * Tests can explicitly check for certain behavior\n",
    "* Can set up explicit print statements (next slide)\n",
    "* Can record waveforms as VCD (demo)\n",
    "* Recommend building extensive tests, use prints & waveforms for debugging (but not tests)"
   ]
  },
  {
   "cell_type": "markdown",
   "id": "viral-proposal",
   "metadata": {
    "slideshow": {
     "slide_type": "slide"
    }
   },
   "source": [
    "## Printing\n",
    "\n",
    "### In Scala (during generation)\n",
    "* Can use `println`\n",
    "* Scala string interpolation allows for variable names or even expressions inside strings\n",
    "```scala\n",
    "println(s\"this is $myVal and ${foo.bar}\")\n",
    "```\n",
    "\n",
    "### In Chisel (during simulation)\n",
    "* Can use `printf` in C-style\n",
    "```scala\n",
    "printf(\"myVal: %d\", myVal)\n",
    "```\n",
    "* ... or interpolation style\n",
    "```scala\n",
    "printf(p\"myVal: $myVal\")\n",
    "```"
   ]
  },
  {
   "cell_type": "markdown",
   "id": "concerned-camera",
   "metadata": {
    "slideshow": {
     "slide_type": "slide"
    }
   },
   "source": [
    "## Additional Ways to Express Literals\n",
    "\n",
    "* Can add `.U`, `.S`, `.B` to cast to `UInt`, `SInt`, `Bool`\n",
    "* Can specify bitwidth with more explicit types\n",
    "* Can prefix a string with encoding `h` (hex), `o` (octal), `b` (binary)\n",
    "* Can break up long literals with `_`"
   ]
  },
  {
   "cell_type": "code",
   "execution_count": null,
   "id": "bearing-insertion",
   "metadata": {},
   "outputs": [],
   "source": [
    "\"ha\".U\n",
    "\"h_dead_beef\".U\n",
    "\"ha\".U\n",
    "\"ha\".U(8.W)\n",
    "\"ha\".asUInt(8.W)"
   ]
  }
 ],
 "metadata": {
  "celltoolbar": "Slideshow",
  "kernelspec": {
   "display_name": "Scala",
   "language": "scala",
   "name": "scala"
  },
  "language_info": {
   "codemirror_mode": "text/x-scala",
   "file_extension": ".scala",
   "mimetype": "text/x-scala",
   "name": "scala",
   "nbconvert_exporter": "script",
   "version": "2.12.10"
  }
 },
 "nbformat": 4,
 "nbformat_minor": 5
}
