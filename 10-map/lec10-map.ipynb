{
 "cells": [
  {
   "cell_type": "markdown",
   "id": "external-thermal",
   "metadata": {
    "slideshow": {
     "slide_type": "slide"
    }
   },
   "source": [
    "## Agile Hardware Design\n",
    "***\n",
    "# Functional Programming Primer\n",
    "\n",
    "## Prof. Scott Beamer\n",
    "### sbeamer@ucsc.edu\n",
    "\n",
    "## [CSE 293](https://classes.soe.ucsc.edu/cse293/Spring21/)"
   ]
  },
  {
   "cell_type": "markdown",
   "id": "nominated-consistency",
   "metadata": {
    "slideshow": {
     "slide_type": "slide"
    }
   },
   "source": [
    "## Plan for Today\n",
    "\n",
    "* _Big Idea:_ applying functions to collections of elements\n",
    "* Anonymous functions in Scala\n",
    "* Scala `map`, `foreach`, `zip` operators\n",
    "* Chisel example"
   ]
  },
  {
   "cell_type": "markdown",
   "id": "regular-reducing",
   "metadata": {
    "slideshow": {
     "slide_type": "slide"
    }
   },
   "source": [
    "## Loading The Chisel Library Into a Notebook"
   ]
  },
  {
   "cell_type": "code",
   "execution_count": 1,
   "id": "robust-immigration",
   "metadata": {},
   "outputs": [
    {
     "name": "stdout",
     "output_type": "stream",
     "text": [
      "Compiling /Users/sbeamer/Spring 2021/CSE 293/lectures/10-map/Main.sc"
     ]
    },
    {
     "name": "stderr",
     "output_type": "stream",
     "text": [
      "Checking https://repo1.maven.org/maven2/edu/berkeley/cs/chisel3_2.12/maven-metadata.xml\n",
      "Checked https://repo1.maven.org/maven2/edu/berkeley/cs/chisel3_2.12/maven-metadata.xml\n",
      "Checking https://repo1.maven.org/maven2/edu/berkeley/cs/chiseltest_2.12/maven-metadata.xml\n",
      "Checked https://repo1.maven.org/maven2/edu/berkeley/cs/chiseltest_2.12/maven-metadata.xml\n",
      "Checking https://repo1.maven.org/maven2/edu/berkeley/cs/firrtl-diagrammer_2.12/maven-metadata.xml\n",
      "Checked https://repo1.maven.org/maven2/edu/berkeley/cs/firrtl-diagrammer_2.12/maven-metadata.xml\n"
     ]
    },
    {
     "name": "stdout",
     "output_type": "stream",
     "text": [
      "Compiling /Users/sbeamer/Spring 2021/CSE 293/lectures/10-map/Main.sc #2"
     ]
    },
    {
     "data": {
      "text/plain": [
       "\u001b[36mpath\u001b[39m: \u001b[32mString\u001b[39m = \u001b[32m\"/Users/sbeamer/Spring 2021/CSE 293/lectures/10-map/../resource/chisel_deps.sc\"\u001b[39m"
      ]
     },
     "execution_count": 1,
     "metadata": {},
     "output_type": "execute_result"
    }
   ],
   "source": [
    "val path = System.getProperty(\"user.dir\") + \"/../resource/chisel_deps.sc\"\n",
    "interp.load.module(ammonite.ops.Path(java.nio.file.FileSystems.getDefault().getPath(path)))"
   ]
  },
  {
   "cell_type": "code",
   "execution_count": 2,
   "id": "extended-burning",
   "metadata": {
    "slideshow": {
     "slide_type": "-"
    }
   },
   "outputs": [
    {
     "data": {
      "text/plain": [
       "\u001b[32mimport \u001b[39m\u001b[36mchisel3._\n",
       "\u001b[39m\n",
       "\u001b[32mimport \u001b[39m\u001b[36mchisel3.util._\n",
       "\u001b[39m\n",
       "\u001b[32mimport \u001b[39m\u001b[36mchisel3.tester._\n",
       "\u001b[39m\n",
       "\u001b[32mimport \u001b[39m\u001b[36mchisel3.tester.RawTester.test\u001b[39m"
      ]
     },
     "execution_count": 2,
     "metadata": {},
     "output_type": "execute_result"
    }
   ],
   "source": [
    "import chisel3._\n",
    "import chisel3.util._\n",
    "import chisel3.tester._\n",
    "import chisel3.tester.RawTester.test"
   ]
  },
  {
   "cell_type": "markdown",
   "id": "characteristic-medicaid",
   "metadata": {
    "slideshow": {
     "slide_type": "slide"
    }
   },
   "source": [
    "## Why Use Functional Programming with Chisel?\n",
    "\n",
    "* Chisel's power comes from its ability to make parameterized hardare generators\n",
    "\n",
    "* Functional programming (FP) operations ease dealing with _functions over collections_\n",
    "  * Using standard features/patterns improves productivity, readability, and correctness\n",
    "\n",
    "* Being forced to break problem into standard patterns may help with reasoning\n",
    "  * Additionally, compiler may be able to spot more errors\n",
    "\n",
    "* Be mindful of side-effects and how to clearly convey them in code\n",
    "  * FP operations typically intended for side-effect free programming\n",
    "  * Chisel operations often have deliberate side effects (e.g. connecting things)"
   ]
  },
  {
   "cell_type": "markdown",
   "id": "likely-wesley",
   "metadata": {
    "slideshow": {
     "slide_type": "slide"
    }
   },
   "source": [
    "## Motivation for Working Over Collections\n",
    "\n",
    "* Arguably, much of programming (and hardware design) works over collections rather than scalar values\n",
    "  * Collections aggregate similar things\n",
    "\n",
    "* Often, we want to apply an operation to everything in the collection\n",
    "  * Traditionally, we use iteration (e.g. `for` loops)\n",
    "\n",
    "* _Problem:_ every usage has to reinvent wheel\n",
    "\n",
    "* What if ...\n",
    "  * We could recognize _patterns_ of function application and use those?\n",
    "  * We could use the compiler to check compliance with those patterns?"
   ]
  },
  {
   "cell_type": "markdown",
   "id": "collectible-healthcare",
   "metadata": {
    "slideshow": {
     "slide_type": "slide"
    }
   },
   "source": [
    "## Solution - Reuse through Patterns\n",
    "\n",
    "* Note these operations are not core language constructs, but instead methods defined for these collections\n",
    "* Some operations to be covered today (more to come)\n",
    "\n",
    "<img src=\"images/map+foreach.svg\" alt=\"map & foreach viz\" style=\"width:80%;margin-left:auto;margin-right:auto\"/>"
   ]
  },
  {
   "cell_type": "markdown",
   "id": "theoretical-bibliography",
   "metadata": {
    "slideshow": {
     "slide_type": "slide"
    }
   },
   "source": [
    "## Anonymous Functions in Scala\n",
    "\n",
    "* Technically called _function literals_\n",
    "\n",
    "* Can bind to a name, but often will use within other construct and never name it explicitly (_anonymous_)\n",
    "\n",
    "* Syntax - argument list in parentheses on left, `=>`, function body on right\n",
    "```scala\n",
    "    (x: Int) => x + 1\n",
    "```"
   ]
  },
  {
   "cell_type": "code",
   "execution_count": 13,
   "id": "billion-verification",
   "metadata": {},
   "outputs": [
    {
     "data": {
      "text/plain": [
       "\u001b[36mres12_0\u001b[39m: \u001b[32mInt\u001b[39m => \u001b[32mInt\u001b[39m = ammonite.$sess.cmd12$Helper$$Lambda$4922/809221516@68ae16a0\n",
       "\u001b[36minc\u001b[39m: \u001b[32mInt\u001b[39m => \u001b[32mInt\u001b[39m = ammonite.$sess.cmd12$Helper$$Lambda$4923/2128020323@11210ea9\n",
       "defined \u001b[32mfunction\u001b[39m \u001b[36minc2\u001b[39m\n",
       "\u001b[36mres12_3\u001b[39m: \u001b[32mInt\u001b[39m = \u001b[32m3\u001b[39m\n",
       "\u001b[36mres12_4\u001b[39m: \u001b[32mInt\u001b[39m = \u001b[32m3\u001b[39m\n",
       "\u001b[36mres12_5\u001b[39m: (\u001b[32mInt\u001b[39m, \u001b[32mInt\u001b[39m) => \u001b[32mInt\u001b[39m = ammonite.$sess.cmd12$Helper$$Lambda$4924/841490879@6de50544"
      ]
     },
     "execution_count": 13,
     "metadata": {},
     "output_type": "execute_result"
    }
   ],
   "source": [
    "(x: Int) => x + 1\n",
    "val inc = (x: Int) => x + 1\n",
    "def inc2(x: Int) = x+1\n",
    "inc(2)\n",
    "inc2(2)\n",
    "(a: Int, b: Int) => a+b"
   ]
  },
  {
   "cell_type": "markdown",
   "id": "tracked-madrid",
   "metadata": {
    "slideshow": {
     "slide_type": "slide"
    }
   },
   "source": [
    "## `map` in Scala\n",
    "\n",
    "```scala\n",
    "l map f\n",
    "```\n",
    "\n",
    "* Applies given function to each element and returns result as new collection\n",
    "* Should not make assumptions about order in which it is applied"
   ]
  },
  {
   "cell_type": "code",
   "execution_count": 19,
   "id": "positive-dining",
   "metadata": {},
   "outputs": [
    {
     "data": {
      "text/plain": [
       "defined \u001b[32mfunction\u001b[39m \u001b[36minc\u001b[39m\n",
       "\u001b[36ml\u001b[39m: \u001b[32mRange\u001b[39m = \u001b[33mRange\u001b[39m(\u001b[32m0\u001b[39m, \u001b[32m1\u001b[39m, \u001b[32m2\u001b[39m, \u001b[32m3\u001b[39m, \u001b[32m4\u001b[39m)\n",
       "\u001b[36mres18_2\u001b[39m: \u001b[32mcollection\u001b[39m.\u001b[32mimmutable\u001b[39m.\u001b[32mIndexedSeq\u001b[39m[\u001b[32mInt\u001b[39m] = \u001b[33mVector\u001b[39m(\u001b[32m1\u001b[39m, \u001b[32m2\u001b[39m, \u001b[32m3\u001b[39m, \u001b[32m4\u001b[39m, \u001b[32m5\u001b[39m)\n",
       "\u001b[36mres18_3\u001b[39m: \u001b[32mcollection\u001b[39m.\u001b[32mimmutable\u001b[39m.\u001b[32mIndexedSeq\u001b[39m[\u001b[32mInt\u001b[39m] = \u001b[33mVector\u001b[39m(\u001b[32m1\u001b[39m, \u001b[32m2\u001b[39m, \u001b[32m3\u001b[39m, \u001b[32m4\u001b[39m, \u001b[32m5\u001b[39m)\n",
       "\u001b[36mres18_4\u001b[39m: \u001b[32mcollection\u001b[39m.\u001b[32mimmutable\u001b[39m.\u001b[32mIndexedSeq\u001b[39m[\u001b[32mInt\u001b[39m] = \u001b[33mVector\u001b[39m(\u001b[32m1\u001b[39m, \u001b[32m2\u001b[39m, \u001b[32m3\u001b[39m, \u001b[32m4\u001b[39m, \u001b[32m5\u001b[39m)\n",
       "\u001b[36mres18_5\u001b[39m: \u001b[32mcollection\u001b[39m.\u001b[32mimmutable\u001b[39m.\u001b[32mIndexedSeq\u001b[39m[\u001b[32mInt\u001b[39m] = \u001b[33mVector\u001b[39m(\u001b[32m1\u001b[39m, \u001b[32m2\u001b[39m, \u001b[32m3\u001b[39m, \u001b[32m4\u001b[39m, \u001b[32m5\u001b[39m)"
      ]
     },
     "execution_count": 19,
     "metadata": {},
     "output_type": "execute_result"
    }
   ],
   "source": [
    "def inc(x: Int) = x+1\n",
    "\n",
    "val l = 0 until 5\n",
    "l.map(inc)\n",
    "l map inc\n",
    "l map { i => inc(i) }\n",
    "l map { i => i + 1 }\n"
   ]
  },
  {
   "cell_type": "markdown",
   "id": "eastern-tuesday",
   "metadata": {
    "slideshow": {
     "slide_type": "slide"
    }
   },
   "source": [
    "## `foreach` in Scala\n",
    "\n",
    "```scala\n",
    "l foreach f\n",
    "```\n",
    "\n",
    "* Applies given function to each element (like map), but does not return anything (unlike map)\n",
    "* Useful for indicating intent is the side effect and not the result"
   ]
  },
  {
   "cell_type": "code",
   "execution_count": 22,
   "id": "everyday-colors",
   "metadata": {},
   "outputs": [
    {
     "name": "stdout",
     "output_type": "stream",
     "text": [
      "0\n",
      "1\n",
      "2\n",
      "3\n",
      "4\n"
     ]
    },
    {
     "data": {
      "text/plain": [
       "\u001b[36ml\u001b[39m: \u001b[32mRange\u001b[39m = \u001b[33mRange\u001b[39m(\u001b[32m0\u001b[39m, \u001b[32m1\u001b[39m, \u001b[32m2\u001b[39m, \u001b[32m3\u001b[39m, \u001b[32m4\u001b[39m)"
      ]
     },
     "execution_count": 22,
     "metadata": {},
     "output_type": "execute_result"
    }
   ],
   "source": [
    "val l = 0 until 5\n",
    "\n",
    "l foreach println"
   ]
  },
  {
   "cell_type": "markdown",
   "id": "bibliographic-runner",
   "metadata": {
    "slideshow": {
     "slide_type": "slide"
    }
   },
   "source": [
    "## Using `map` and `foreach` in Chisel\n",
    "\n",
    "* Operations available on both Scala collections (e.g. `Seq`) and Chisel aggregates (e.g. `Vec`)"
   ]
  },
  {
   "cell_type": "code",
   "execution_count": 24,
   "id": "colored-liquid",
   "metadata": {},
   "outputs": [
    {
     "name": "stdout",
     "output_type": "stream",
     "text": [
      "Elaborating design...\n",
      "Done elaborating.\n",
      "module ConstOut(\n",
      "  input        clock,\n",
      "  input        reset,\n",
      "  output [3:0] io_out_0,\n",
      "  output [3:0] io_out_1\n",
      ");\n",
      "  assign io_out_0 = 4'h8; // @[cmd23.sc 9:29]\n",
      "  assign io_out_1 = 4'h8; // @[cmd23.sc 9:29]\n",
      "endmodule\n",
      "\n"
     ]
    },
    {
     "data": {
      "text/plain": [
       "defined \u001b[32mclass\u001b[39m \u001b[36mConstOut\u001b[39m"
      ]
     },
     "execution_count": 24,
     "metadata": {},
     "output_type": "execute_result"
    }
   ],
   "source": [
    "class ConstOut(numElems: Int, const: Int) extends Module {\n",
    "    val io = IO(new Bundle {\n",
    "        val out = Output(Vec(numElems, UInt()))\n",
    "    })\n",
    "\n",
    "    val seqOfInts = 0 until numElems\n",
    "    val seqOfUInts = seqOfInts map { i => i.U }\n",
    "    \n",
    "    io.out foreach { o => o := const.U }\n",
    "}\n",
    "\n",
    "println(getVerilog(new ConstOut(2,8)))"
   ]
  },
  {
   "cell_type": "markdown",
   "id": "exciting-trustee",
   "metadata": {
    "slideshow": {
     "slide_type": "slide"
    }
   },
   "source": [
    "## Scala Tuples\n",
    "\n",
    "* Can group together heterogeneous things\n",
    "  * Doesn't name members, but can index them numerically (**starts from 1**)\n",
    "  * Often can pattern match (with `case`) or assign to access members\n",
    "\n",
    "* Best when number of things is small and producer/consumers are nearby\n",
    "  * Suggest case class to explicitly name members (for readability)\n",
    "  * Suggest collection for many elements (for manageability)"
   ]
  },
  {
   "cell_type": "code",
   "execution_count": 35,
   "id": "magnetic-brass",
   "metadata": {},
   "outputs": [
    {
     "data": {
      "text/plain": [
       "\u001b[36mt1\u001b[39m: (\u001b[32mInt\u001b[39m, \u001b[32mInt\u001b[39m) = (\u001b[32m2\u001b[39m, \u001b[32m3\u001b[39m)\n",
       "\u001b[36mt2\u001b[39m: (\u001b[32mString\u001b[39m, \u001b[32mInt\u001b[39m) = (\u001b[32m\"My\"\u001b[39m, \u001b[32m8\u001b[39m)\n",
       "\u001b[36mres34_2\u001b[39m: \u001b[32mInt\u001b[39m = \u001b[32m2\u001b[39m\n",
       "\u001b[36mres34_3\u001b[39m: \u001b[32mInt\u001b[39m = \u001b[32m3\u001b[39m\n",
       "\u001b[36ma\u001b[39m: \u001b[32mInt\u001b[39m = \u001b[32m2\u001b[39m\n",
       "\u001b[36mb\u001b[39m: \u001b[32mInt\u001b[39m = \u001b[32m3\u001b[39m"
      ]
     },
     "execution_count": 35,
     "metadata": {},
     "output_type": "execute_result"
    }
   ],
   "source": [
    "val t1 = (2,3)\n",
    "val t2 = (\"My\", 8)\n",
    "t1._1\n",
    "t1._2\n",
    "val (a,b) = t1"
   ]
  },
  {
   "cell_type": "markdown",
   "id": "constitutional-employee",
   "metadata": {
    "slideshow": {
     "slide_type": "slide"
    }
   },
   "source": [
    "## `zip` in Scala\n",
    "\n",
    "```scala\n",
    "l1 zip l2\n",
    "```\n",
    "\n",
    "* Pairs up elements with elements of another collection\n",
    "* Commonly used to join together collections before applying other operations\n",
    "* _Note:_ If collections have different sizes, result is the minimum size"
   ]
  },
  {
   "cell_type": "code",
   "execution_count": 36,
   "id": "incorporated-bundle",
   "metadata": {
    "scrolled": true
   },
   "outputs": [
    {
     "data": {
      "text/plain": [
       "\u001b[36ml1\u001b[39m: \u001b[32mRange\u001b[39m = \u001b[33mRange\u001b[39m(\u001b[32m0\u001b[39m, \u001b[32m1\u001b[39m, \u001b[32m2\u001b[39m, \u001b[32m3\u001b[39m, \u001b[32m4\u001b[39m)\n",
       "\u001b[36mres35_1\u001b[39m: \u001b[32mcollection\u001b[39m.\u001b[32mimmutable\u001b[39m.\u001b[32mIndexedSeq\u001b[39m[(\u001b[32mInt\u001b[39m, \u001b[32mInt\u001b[39m)] = \u001b[33mVector\u001b[39m(\n",
       "  (\u001b[32m0\u001b[39m, \u001b[32m0\u001b[39m),\n",
       "  (\u001b[32m1\u001b[39m, \u001b[32m1\u001b[39m),\n",
       "  (\u001b[32m2\u001b[39m, \u001b[32m2\u001b[39m),\n",
       "  (\u001b[32m3\u001b[39m, \u001b[32m3\u001b[39m),\n",
       "  (\u001b[32m4\u001b[39m, \u001b[32m4\u001b[39m)\n",
       ")\n",
       "\u001b[36mres35_2\u001b[39m: \u001b[32mcollection\u001b[39m.\u001b[32mimmutable\u001b[39m.\u001b[32mIndexedSeq\u001b[39m[(\u001b[32mInt\u001b[39m, \u001b[32mInt\u001b[39m)] = \u001b[33mVector\u001b[39m((\u001b[32m0\u001b[39m, \u001b[32m8\u001b[39m))\n",
       "\u001b[36mres35_3\u001b[39m: \u001b[32mcollection\u001b[39m.\u001b[32mimmutable\u001b[39m.\u001b[32mIndexedSeq\u001b[39m[\u001b[32mInt\u001b[39m] = \u001b[33mVector\u001b[39m(\u001b[32m0\u001b[39m, \u001b[32m2\u001b[39m, \u001b[32m4\u001b[39m, \u001b[32m6\u001b[39m, \u001b[32m8\u001b[39m)"
      ]
     },
     "execution_count": 36,
     "metadata": {},
     "output_type": "execute_result"
    }
   ],
   "source": [
    "val l1 = 0 until 5\n",
    "l1 zip l1\n",
    "l1 zip Seq(8)\n",
    "l1 zip l1 map {case (a,b) => a+b}"
   ]
  },
  {
   "cell_type": "markdown",
   "id": "drawn-wireless",
   "metadata": {},
   "source": [
    "## `zip` Diagram\n",
    "\n",
    "<img src=\"images/zip.svg\" alt=\"zip viz\" style=\"width:70%;margin-left:auto;margin-right:auto\"/>"
   ]
  },
  {
   "cell_type": "markdown",
   "id": "dedicated-speech",
   "metadata": {
    "slideshow": {
     "slide_type": "slide"
    }
   },
   "source": [
    "## Chisel Example Using `foreach` and `zip`"
   ]
  },
  {
   "cell_type": "code",
   "execution_count": 9,
   "id": "compliant-annotation",
   "metadata": {
    "scrolled": true,
    "slideshow": {
     "slide_type": "-"
    }
   },
   "outputs": [
    {
     "name": "stdout",
     "output_type": "stream",
     "text": [
      "Elaborating design...\n",
      "Done elaborating.\n",
      "module VecAbs(\n",
      "  input        clock,\n",
      "  input        reset,\n",
      "  input  [7:0] io_in_0,\n",
      "  input  [7:0] io_in_1,\n",
      "  output [7:0] io_out_0,\n",
      "  output [7:0] io_out_1\n",
      ");\n",
      "  wire [7:0] _T_3 = 8'sh0 - $signed(io_in_0); // @[cmd8.sc 7:43]\n",
      "  wire [7:0] _T_8 = 8'sh0 - $signed(io_in_1); // @[cmd8.sc 7:43]\n",
      "  assign io_out_0 = $signed(io_in_0) < 8'sh0 ? $signed(_T_3) : $signed(io_in_0); // @[cmd8.sc 7:33]\n",
      "  assign io_out_1 = $signed(io_in_1) < 8'sh0 ? $signed(_T_8) : $signed(io_in_1); // @[cmd8.sc 7:33]\n",
      "endmodule\n",
      "\n"
     ]
    },
    {
     "data": {
      "text/plain": [
       "defined \u001b[32mclass\u001b[39m \u001b[36mVecAbs\u001b[39m"
      ]
     },
     "execution_count": 9,
     "metadata": {},
     "output_type": "execute_result"
    }
   ],
   "source": [
    "class VecAbs(numElems: Int, width: Int) extends Module {\n",
    "    val io = IO(new Bundle {\n",
    "        val in = Input(Vec(numElems, SInt(width.W)))\n",
    "        val out = Output(Vec(numElems, SInt(width.W)))\n",
    "    })\n",
    "\n",
    "    def abs(x: SInt): SInt = Mux(x < 0.S, -x, x)\n",
    "\n",
    "    for (i <- 0 until numElems) {\n",
    "        io.out(i) := abs(io.in(i))\n",
    "    }\n",
    "\n",
    "//     io.out.zip(io.in) foreach { case (o,i) => o := abs(i) }\n",
    "}\n",
    "\n",
    "println(getVerilog(new VecAbs(2,8)))"
   ]
  },
  {
   "cell_type": "markdown",
   "id": "adopted-problem",
   "metadata": {
    "slideshow": {
     "slide_type": "slide"
    }
   },
   "source": [
    "## Scala (fuction) Placeholders\n",
    "\n",
    "* Able to make function literals even more concise by not explicitly naming arguments and then using them\n",
    "* Use `_` in place of argument, and each use advances to next argument\n",
    "* Use **CAREFULLY** to shorten code to improve readability\n",
    "  * If intent not immediately clear, fall back to explicitly naming arguments"
   ]
  },
  {
   "cell_type": "code",
   "execution_count": 39,
   "id": "placed-beach",
   "metadata": {},
   "outputs": [
    {
     "data": {
      "text/plain": [
       "\u001b[36ml\u001b[39m: \u001b[32mRange\u001b[39m = \u001b[33mRange\u001b[39m(\u001b[32m0\u001b[39m, \u001b[32m1\u001b[39m, \u001b[32m2\u001b[39m, \u001b[32m3\u001b[39m, \u001b[32m4\u001b[39m)\n",
       "\u001b[36mres38_1\u001b[39m: \u001b[32mcollection\u001b[39m.\u001b[32mimmutable\u001b[39m.\u001b[32mIndexedSeq\u001b[39m[\u001b[32mInt\u001b[39m] = \u001b[33mVector\u001b[39m(\u001b[32m1\u001b[39m, \u001b[32m2\u001b[39m, \u001b[32m3\u001b[39m, \u001b[32m4\u001b[39m, \u001b[32m5\u001b[39m)\n",
       "\u001b[36mres38_2\u001b[39m: \u001b[32mcollection\u001b[39m.\u001b[32mimmutable\u001b[39m.\u001b[32mIndexedSeq\u001b[39m[\u001b[32mInt\u001b[39m] = \u001b[33mVector\u001b[39m(\u001b[32m1\u001b[39m, \u001b[32m2\u001b[39m, \u001b[32m3\u001b[39m, \u001b[32m4\u001b[39m, \u001b[32m5\u001b[39m)"
      ]
     },
     "execution_count": 39,
     "metadata": {},
     "output_type": "execute_result"
    }
   ],
   "source": [
    "val l = 0 until 5\n",
    "l map { i => i + 1 }\n",
    "l map { _ + 1 }"
   ]
  },
  {
   "cell_type": "markdown",
   "id": "german-program",
   "metadata": {
    "slideshow": {
     "slide_type": "slide"
    }
   },
   "source": [
    "## Redoing Our Arbiter with FP (1/2)"
   ]
  },
  {
   "cell_type": "code",
   "execution_count": null,
   "id": "respected-bennett",
   "metadata": {},
   "outputs": [],
   "source": [
    "class MyArb(numPorts: Int, n: Int) extends Module {\n",
    "    val io = IO(new Bundle {\n",
    "        val req = Flipped(Vec(numPorts, Decoupled(UInt(n.W))))\n",
    "        val out = Decoupled(UInt(n.W))\n",
    "    })\n",
    "    require (numPorts > 0)\n",
    "    val inValids = Wire(Vec(numPorts, Bool()))\n",
    "    val inBits   = Wire(Vec(numPorts, UInt(n.W)))\n",
    "    for (p <- 0 until numPorts) {\n",
    "        io.req(p).ready := false.B\n",
    "        inValids(p) := io.req(p).valid\n",
    "        inBits(p) := io.req(p).bits\n",
    "    }\n",
    "    io.out.valid := inValids.asUInt.orR\n",
    "    val chosenOH = PriorityEncoderOH(inValids)\n",
    "    io.out.bits := Mux1H(chosenOH, inBits)\n",
    "    val chosen = OHToUInt(chosenOH)\n",
    "    when (io.out.fire) {\n",
    "        io.req(chosen).ready := true.B\n",
    "    }\n",
    "}"
   ]
  },
  {
   "cell_type": "markdown",
   "id": "reduced-start",
   "metadata": {},
   "source": [
    "## Redoing Our Arbiter (2/2)"
   ]
  },
  {
   "cell_type": "code",
   "execution_count": 46,
   "id": "located-ozone",
   "metadata": {
    "slideshow": {
     "slide_type": "slide"
    }
   },
   "outputs": [
    {
     "data": {
      "text/plain": [
       "defined \u001b[32mclass\u001b[39m \u001b[36mMyArb\u001b[39m"
      ]
     },
     "execution_count": 46,
     "metadata": {},
     "output_type": "execute_result"
    }
   ],
   "source": [
    "class MyArb(numPorts: Int, n: Int) extends Module {\n",
    "    val io = IO(new Bundle {\n",
    "        val req = Flipped(Vec(numPorts, Decoupled(UInt(n.W))))\n",
    "        val out = Decoupled(UInt(n.W))\n",
    "    })\n",
    "    require (numPorts > 0)\n",
    "    val inValids = io.req map { _.valid }\n",
    "    io.out.valid := VecInit(inValids).asUInt.orR\n",
    "    val chosenOH = PriorityEncoderOH(inValids)\n",
    "    io.out.bits := Mux1H(chosenOH, io.req map { _.bits })\n",
    "    io.req.zip(chosenOH) foreach { case (i, c) => i.ready := c & io.out.fire}\n",
    "}"
   ]
  }
 ],
 "metadata": {
  "celltoolbar": "Slideshow",
  "kernelspec": {
   "display_name": "Scala",
   "language": "scala",
   "name": "scala"
  },
  "language_info": {
   "codemirror_mode": "text/x-scala",
   "file_extension": ".scala",
   "mimetype": "text/x-scala",
   "name": "scala",
   "nbconvert_exporter": "script",
   "version": "2.12.10"
  }
 },
 "nbformat": 4,
 "nbformat_minor": 5
}
