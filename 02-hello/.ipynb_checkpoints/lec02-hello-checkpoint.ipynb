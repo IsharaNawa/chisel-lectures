{
 "cells": [
  {
   "cell_type": "markdown",
   "id": "german-casting",
   "metadata": {
    "slideshow": {
     "slide_type": "slide"
    }
   },
   "source": [
    "## Agile Hardware Design\n",
    "***\n",
    "# Hello Chisel\n",
    "\n",
    "## Prof. Scott Beamer\n",
    "### sbeamer@ucsc.edu\n",
    "\n",
    "## [CSE 293](https://classes.soe.ucsc.edu/cse293/Spring21/)"
   ]
  },
  {
   "cell_type": "markdown",
   "id": "greatest-asset",
   "metadata": {
    "slideshow": {
     "slide_type": "slide"
    }
   },
   "source": [
    "## Play With Today's Slides\n",
    "\n",
    "### [https://github.com/agile-hw/lectures](https://github.com/agile-hw/lectures)\n",
    "* Can work with it directly in browser via [Binder](https://mybinder.org/v2/gh/agile-hw/lectures/HEAD)\n",
    "* Can clone and run Jupyter locally\n",
    "  * Will need to install additional things for presentation, Scala, and Chisel\n",
    "  * Repo contains `install.sh` to help with this"
   ]
  },
  {
   "cell_type": "markdown",
   "id": "positive-wrong",
   "metadata": {
    "slideshow": {
     "slide_type": "slide"
    }
   },
   "source": [
    "## Plan for Today\n",
    "\n",
    "* Brief taste of Scala\n",
    "* Brief taste of Chisel\n",
    "* _Close the loop:_ build & test simple Chisel module"
   ]
  },
  {
   "cell_type": "markdown",
   "id": "ordered-pattern",
   "metadata": {
    "slideshow": {
     "slide_type": "slide"
    }
   },
   "source": [
    "## Scala Language Summary\n",
    "\n",
    "_**Language Features**_\n",
    "* Object oriented with strong static type system\n",
    "* Native support for functional programing\n",
    "* Runs on top of the JVM (and can interoperate with Java binaries)\n",
    "* Tries to catch many potential errors at compile time\n",
    "\n",
    "_**Rationale for Using Scala**_\n",
    "* Great support for implementing embedded domain-specific languages (DSL), e.g. Chisel\n",
    "* Object oriented and functional features help make great _generators_\n",
    "* Type system and included standard library’s collections"
   ]
  },
  {
   "cell_type": "markdown",
   "id": "urban-plaza",
   "metadata": {
    "slideshow": {
     "slide_type": "slide"
    }
   },
   "source": [
    "## Scala Execution Mechanisms\n",
    "\n",
    "_**Standard Compilation -> Execution**_\n",
    "* Compile to Scala program (Java bytecode) and run on JVM\n",
    "* Code needs to be structured in classes and have a `main`\n",
    "* Typically use appropriate build tool (e.g. sbt) or an IDE (e.g. IntelliJ)\n",
    "\n",
    "_**Read-eval-print Loop (REPL)**_\n",
    "* Can launch a REPL and write (then evaluate) a single line at a time\n",
    "* Great for testing out features\n",
    "* The Jupyter notebooks in this course (where we can execute snippets in isolation) are built on an extension to this ([Almond](https://almond.sh))"
   ]
  },
  {
   "cell_type": "markdown",
   "id": "advised-designation",
   "metadata": {
    "slideshow": {
     "slide_type": "slide"
    }
   },
   "source": [
    "## Scala Literals\n",
    "\n",
    "* Common Simple Scala Types - `Int`, `Float`, `Long`, `Double`, `Byte`, `Char`, `String`\n",
    "* _Syntax Note:_ semicolons are optionally and rarely used"
   ]
  },
  {
   "cell_type": "code",
   "execution_count": 9,
   "id": "varied-shareware",
   "metadata": {},
   "outputs": [
    {
     "data": {
      "text/plain": [
       "\u001b[36mres8_0\u001b[39m: \u001b[32mInt\u001b[39m = \u001b[32m5\u001b[39m\n",
       "\u001b[36mres8_1\u001b[39m: \u001b[32mDouble\u001b[39m = \u001b[32m2.5\u001b[39m\n",
       "\u001b[36mres8_2\u001b[39m: \u001b[32mString\u001b[39m = \u001b[32m\"hello\"\u001b[39m"
      ]
     },
     "execution_count": 9,
     "metadata": {},
     "output_type": "execute_result"
    }
   ],
   "source": [
    "2 + 3\n",
    "5.0 / 2\n",
    "\"hello\""
   ]
  },
  {
   "cell_type": "markdown",
   "id": "nonprofit-installation",
   "metadata": {
    "slideshow": {
     "slide_type": "slide"
    }
   },
   "source": [
    "## Scala Type Inference\n",
    "\n",
    "* Everything is an object, even simple types\n",
    "* Types must be known/resolved at compile time (_statically typed_)\n",
    "* Scala has _type inference_, so can often omit type specifier\n",
    "* _Syntax Note:_ unlike C/Java, type goes after name (instead of before)"
   ]
  },
  {
   "cell_type": "code",
   "execution_count": 15,
   "id": "conscious-olive",
   "metadata": {},
   "outputs": [
    {
     "data": {
      "text/plain": [
       "\u001b[36mres14_0\u001b[39m: \u001b[32mInt\u001b[39m = \u001b[32m4\u001b[39m\n",
       "\u001b[36mres14_1\u001b[39m: \u001b[32mInt\u001b[39m = \u001b[32m4\u001b[39m\n",
       "\u001b[36mres14_2\u001b[39m: \u001b[32mFloat\u001b[39m = \u001b[32m4.0F\u001b[39m\n",
       "\u001b[36mres14_3\u001b[39m: \u001b[32mDouble\u001b[39m = \u001b[32m4.0\u001b[39m\n",
       "\u001b[36mres14_4\u001b[39m: \u001b[32mChar\u001b[39m = \u001b[32m'\\u0004'\u001b[39m"
      ]
     },
     "execution_count": 15,
     "metadata": {},
     "output_type": "execute_result"
    }
   ],
   "source": [
    "4\n",
    "4: Int\n",
    "4: Float\n",
    "4: Double\n",
    "4: Char"
   ]
  },
  {
   "cell_type": "markdown",
   "id": "corrected-november",
   "metadata": {
    "slideshow": {
     "slide_type": "slide"
    }
   },
   "source": [
    "## Declaring Scala Variables\n",
    "\n",
    "### `var` - **Mutable** variable (_discouraged_)\n",
    "* Can reassign, like conventional languages\n",
    "\n",
    "### `val` - **Immutable** variable (_encouraged_)\n",
    "* Enables write-once semantics common to many functional languages\n",
    "* Allows compiler to safely perform more ambitious optimizations\n",
    "* Can increase code clarity by renaming values each step of the way"
   ]
  },
  {
   "cell_type": "code",
   "execution_count": 19,
   "id": "experienced-marathon",
   "metadata": {},
   "outputs": [
    {
     "data": {
      "text/html": [
       "<div class=\"jp-RenderedText\">\n",
       "<pre><code><span style=\"color: rgb(0, 187, 187)\"><span class=\"ansi-cyan-fg\">mutX</span></span>: <span style=\"color: rgb(0, 187, 0)\"><span class=\"ansi-green-fg\">Int</span></span> = <span style=\"color: rgb(0, 187, 0)\"><span class=\"ansi-green-fg\">2</span></span>\n",
       "<span style=\"color: rgb(0, 187, 187)\"><span class=\"ansi-cyan-fg\">constX</span></span>: <span style=\"color: rgb(0, 187, 0)\"><span class=\"ansi-green-fg\">Int</span></span> = <span style=\"color: rgb(0, 187, 0)\"><span class=\"ansi-green-fg\">42</span></span></code></pre>\n",
       "</div>"
      ],
      "text/plain": [
       "\u001b[36mmutX\u001b[39m: \u001b[32mInt\u001b[39m = \u001b[32m2\u001b[39m\n",
       "\u001b[36mconstX\u001b[39m: \u001b[32mInt\u001b[39m = \u001b[32m42\u001b[39m"
      ]
     },
     "metadata": {},
     "output_type": "display_data"
    }
   ],
   "source": [
    "var mutX = 0\n",
    "mutX = 2\n",
    "val constX = 42"
   ]
  },
  {
   "cell_type": "markdown",
   "id": "beautiful-seminar",
   "metadata": {
    "slideshow": {
     "slide_type": "slide"
    }
   },
   "source": [
    "## Chisel Is Embedded in Scala\n",
    "\n",
    "* Chisel designs are Scala programs (i.e. everything we write in this course is Scala)\n",
    "* A Chisel design is simply a Scala program that makes use of the Chisel library\n",
    "* Thanks to Scala language features, using Chisel library operations often feels like a full-fledged language\n",
    "  * Operator overloading and concise syntax"
   ]
  },
  {
   "cell_type": "markdown",
   "id": "fiscal-heather",
   "metadata": {
    "slideshow": {
     "slide_type": "slide"
    }
   },
   "source": [
    "## Chisel Tool Flow (Frontend)\n",
    "\n",
    "<img src=\"images/frontend.svg\" alt=\"Chisel frontend\" style=\"center;width:80%;\"/>\n",
    "\n",
    "* Circuit (`.fir` file) can be passed off to a _backend_ for simulation or implementation"
   ]
  },
  {
   "cell_type": "markdown",
   "id": "regular-reducing",
   "metadata": {
    "slideshow": {
     "slide_type": "slide"
    }
   },
   "source": [
    "## Loading The Chisel Library Into a Notebook"
   ]
  },
  {
   "cell_type": "code",
   "execution_count": 2,
   "id": "arctic-production",
   "metadata": {},
   "outputs": [
    {
     "name": "stdout",
     "output_type": "stream",
     "text": [
      "Compiling /Users/sbeamer/Spring 2021/CSE 293/lectures-public/02-hello/Main.scCompiling /Users/sbeamer/Spring 2021/CSE 293/lectures-public/02-hello/Main.sc #2"
     ]
    },
    {
     "data": {
      "text/plain": [
       "\u001b[36mpath\u001b[39m: \u001b[32mString\u001b[39m = \u001b[32m\"/Users/sbeamer/Spring 2021/CSE 293/lectures-public/02-hello/../resource/chisel_deps.sc\"\u001b[39m"
      ]
     },
     "execution_count": 2,
     "metadata": {},
     "output_type": "execute_result"
    }
   ],
   "source": [
    "val path = System.getProperty(\"user.dir\") + \"/../resource/chisel_deps.sc\"\n",
    "interp.load.module(ammonite.ops.Path(java.nio.file.FileSystems.getDefault().getPath(path)))"
   ]
  },
  {
   "cell_type": "code",
   "execution_count": 3,
   "id": "extended-burning",
   "metadata": {
    "slideshow": {
     "slide_type": "-"
    }
   },
   "outputs": [
    {
     "data": {
      "text/plain": [
       "\u001b[32mimport \u001b[39m\u001b[36mchisel3._\n",
       "\u001b[39m\n",
       "\u001b[32mimport \u001b[39m\u001b[36mchisel3.util._\n",
       "\u001b[39m\n",
       "\u001b[32mimport \u001b[39m\u001b[36mchisel3.tester._\n",
       "\u001b[39m\n",
       "\u001b[32mimport \u001b[39m\u001b[36mchisel3.tester.RawTester.test\u001b[39m"
      ]
     },
     "execution_count": 3,
     "metadata": {},
     "output_type": "execute_result"
    }
   ],
   "source": [
    "import chisel3._\n",
    "import chisel3.util._\n",
    "import chisel3.tester._\n",
    "import chisel3.tester.RawTester.test"
   ]
  },
  {
   "cell_type": "markdown",
   "id": "competitive-legislation",
   "metadata": {
    "cell_style": "split",
    "slideshow": {
     "slide_type": "slide"
    }
   },
   "source": [
    "## Simple Chisel Types\n",
    "\n",
    "* Scala literals must be cast to Chisel\n",
    "\n",
    "### `Bool` - single-bit logic signal (`.B`)\n",
    "* Do not confuse with Scala's `Boolean`\n",
    "\n",
    "### `UInt` - unsigned integer (`.U`)\n",
    "* Bitwidth set explicitly or inferred\n",
    "\n",
    "### `SInt` - signed integer (`.S`)\n",
    "* Operates like `UInt` but signed\n"
   ]
  },
  {
   "cell_type": "code",
   "execution_count": 2,
   "id": "sexual-dream",
   "metadata": {
    "cell_style": "split"
   },
   "outputs": [
    {
     "data": {
      "text/plain": [
       "\u001b[36mres1_0\u001b[39m: \u001b[32mBool\u001b[39m = Bool(false)\n",
       "\u001b[36mres1_1\u001b[39m: \u001b[32mBoolean\u001b[39m = true\n",
       "\u001b[36mres1_2\u001b[39m: \u001b[32mBool\u001b[39m = Bool(true)\n",
       "\u001b[36mmyBool\u001b[39m: \u001b[32mBool\u001b[39m = Bool(true)\n",
       "\u001b[36mres1_4\u001b[39m: \u001b[32mInt\u001b[39m = \u001b[32m6\u001b[39m\n",
       "\u001b[36mres1_5\u001b[39m: \u001b[32mUInt\u001b[39m = UInt<3>(6)\n",
       "\u001b[36mres1_6\u001b[39m: \u001b[32mUInt\u001b[39m = UInt<8>(6)\n",
       "\u001b[36mmyUInt\u001b[39m: \u001b[32mUInt\u001b[39m = UInt<3>(4)\n",
       "\u001b[36mmyUInt8\u001b[39m: \u001b[32mUInt\u001b[39m = UInt<8>(4)\n",
       "\u001b[36mres1_9\u001b[39m: \u001b[32mInt\u001b[39m = \u001b[32m-2\u001b[39m\n",
       "\u001b[36mres1_10\u001b[39m: \u001b[32mSInt\u001b[39m = SInt<2>(-2)"
      ]
     },
     "execution_count": 2,
     "metadata": {},
     "output_type": "execute_result"
    }
   ],
   "source": [
    "0.B\n",
    "true\n",
    "true.B\n",
    "val myBool: Bool = true.B\n",
    "\n",
    "6\n",
    "6.U\n",
    "6.U(8.W)\n",
    "val myUInt: UInt = 4.U\n",
    "val myUInt8 = 4.U(8.W)\n",
    "\n",
    "-2\n",
    "-2.S"
   ]
  },
  {
   "cell_type": "markdown",
   "id": "funky-flesh",
   "metadata": {
    "slideshow": {
     "slide_type": "slide"
    }
   },
   "source": [
    "## Chisel Operators\n",
    "\n",
    "* _**Logical**_\n",
    "* _**Arithmetic**_"
   ]
  },
  {
   "cell_type": "markdown",
   "id": "bulgarian-ghana",
   "metadata": {},
   "source": [
    "Chisel arithmetic"
   ]
  },
  {
   "cell_type": "markdown",
   "id": "exciting-google",
   "metadata": {},
   "source": [
    "Chisel comparison"
   ]
  },
  {
   "cell_type": "markdown",
   "id": "configured-victoria",
   "metadata": {
    "slideshow": {
     "slide_type": "slide"
    }
   },
   "source": [
    "## First Chisel Module"
   ]
  },
  {
   "cell_type": "code",
   "execution_count": 4,
   "id": "sound-documentation",
   "metadata": {
    "cell_style": "split"
   },
   "outputs": [
    {
     "data": {
      "text/plain": [
       "defined \u001b[32mclass\u001b[39m \u001b[36mMyXOR\u001b[39m"
      ]
     },
     "execution_count": 4,
     "metadata": {},
     "output_type": "execute_result"
    }
   ],
   "source": [
    "class MyXOR extends Module {\n",
    "    val io = IO(new Bundle {\n",
    "        val a   = Input(Bool())\n",
    "        val b   = Input(Bool())\n",
    "        val c   = Output(Bool())\n",
    "    })\n",
    "    io.c := io.a ^ io.b\n",
    "}"
   ]
  },
  {
   "cell_type": "markdown",
   "id": "amino-oakland",
   "metadata": {
    "cell_style": "split"
   },
   "source": [
    "<img src=\"images/myxor.svg\" alt=\"MyXOR schematic\"  style=\"width:70%;\"/>"
   ]
  },
  {
   "cell_type": "markdown",
   "id": "operating-sailing",
   "metadata": {
    "slideshow": {
     "slide_type": "slide"
    }
   },
   "source": [
    "## Looking At Generated Design"
   ]
  },
  {
   "cell_type": "code",
   "execution_count": 8,
   "id": "cloudy-suggestion",
   "metadata": {
    "cell_style": "split",
    "slideshow": {
     "slide_type": "fragment"
    }
   },
   "outputs": [
    {
     "name": "stdout",
     "output_type": "stream",
     "text": [
      "Elaborating design...\n",
      "Done elaborating.\n",
      "module MyXOR(\n",
      "  input   clock,\n",
      "  input   reset,\n",
      "  input   io_a,\n",
      "  input   io_b,\n",
      "  output  io_c\n",
      ");\n",
      "  assign io_c = io_a ^ io_b; // @[cmd3.sc 7:18]\n",
      "endmodule\n",
      "\n"
     ]
    }
   ],
   "source": [
    "println(getVerilog(new MyXOR))"
   ]
  },
  {
   "cell_type": "code",
   "execution_count": 9,
   "id": "paperback-kazakhstan",
   "metadata": {
    "cell_style": "split",
    "slideshow": {
     "slide_type": "fragment"
    }
   },
   "outputs": [
    {
     "data": {
      "text/html": [
       "<div width=\"100%\" height=\"100%\" overflow=\"scroll\"><?xml version=\"1.0\" encoding=\"UTF-8\" standalone=\"no\"?>\n",
       "<?xml-stylesheet href=\"styles.css\" type=\"text/css\"?>\n",
       "<!DOCTYPE svg PUBLIC \"-//W3C//DTD SVG 1.1//EN\"\n",
       " \"http://www.w3.org/Graphics/SVG/1.1/DTD/svg11.dtd\">\n",
       "<!-- Generated by graphviz version 2.47.0 (20210316.0004)\n",
       " -->\n",
       "<!-- Title: MyXOR Pages: 1 -->\n",
       "<svg width=\"310pt\" height=\"261pt\"\n",
       " viewBox=\"0.00 0.00 310.00 261.00\" xmlns=\"http://www.w3.org/2000/svg\" xmlns:xlink=\"http://www.w3.org/1999/xlink\">\n",
       "<g id=\"graph0\" class=\"graph\" transform=\"scale(1 1) rotate(0) translate(4 257)\">\n",
       "<title>MyXOR</title>\n",
       "<polygon fill=\"white\" stroke=\"transparent\" points=\"-4,4 -4,-257 306,-257 306,4 -4,4\"/>\n",
       "<g id=\"clust1\" class=\"cluster\">\n",
       "<title>cluster_MyXOR</title>\n",
       "<polygon fill=\"#fff8dc\" stroke=\"black\" points=\"8,-8 8,-245 294,-245 294,-8 8,-8\"/>\n",
       "<text text-anchor=\"middle\" x=\"151\" y=\"-229.8\" font-family=\"Times,serif\" font-size=\"14.00\">MyXOR</text>\n",
       "</g>\n",
       "<!-- cluster_MyXOR_clock -->\n",
       "<g id=\"node1\" class=\"node\">\n",
       "<title>cluster_MyXOR_clock</title>\n",
       "<polygon fill=\"#cccccc\" stroke=\"black\" points=\"70,-214 16,-214 16,-178 70,-178 70,-214\"/>\n",
       "<text text-anchor=\"middle\" x=\"43\" y=\"-192.3\" font-family=\"Times,serif\" font-size=\"14.00\">clock</text>\n",
       "</g>\n",
       "<!-- cluster_MyXOR_reset -->\n",
       "<g id=\"node2\" class=\"node\">\n",
       "<title>cluster_MyXOR_reset</title>\n",
       "<polygon fill=\"#cccccc\" stroke=\"black\" points=\"70,-160 16,-160 16,-124 70,-124 70,-160\"/>\n",
       "<text text-anchor=\"middle\" x=\"43\" y=\"-138.3\" font-family=\"Times,serif\" font-size=\"14.00\">reset</text>\n",
       "</g>\n",
       "<!-- cluster_MyXOR_io_a -->\n",
       "<g id=\"node3\" class=\"node\">\n",
       "<title>cluster_MyXOR_io_a</title>\n",
       "<polygon fill=\"#cccccc\" stroke=\"black\" points=\"70,-106 16,-106 16,-70 70,-70 70,-106\"/>\n",
       "<text text-anchor=\"middle\" x=\"43\" y=\"-84.3\" font-family=\"Times,serif\" font-size=\"14.00\">io_a</text>\n",
       "</g>\n",
       "<!-- op_xor_3 -->\n",
       "<g id=\"node6\" class=\"node\">\n",
       "<title>op_xor_3</title>\n",
       "<polygon fill=\"#d8bfd8\" stroke=\"transparent\" points=\"114,-36 114,-86 188,-86 188,-36 114,-36\"/>\n",
       "<polygon fill=\"none\" stroke=\"black\" points=\"114,-61 114,-86 133,-86 133,-61 114,-61\"/>\n",
       "<text text-anchor=\"start\" x=\"119\" y=\"-69.8\" font-family=\"Times,serif\" font-size=\"14.00\">●</text>\n",
       "<polygon fill=\"none\" stroke=\"black\" points=\"133,-36 133,-86 169,-86 169,-36 133,-36\"/>\n",
       "<text text-anchor=\"start\" x=\"138\" y=\"-57.3\" font-family=\"Times,serif\" font-size=\"14.00\"> xor </text>\n",
       "<polygon fill=\"none\" stroke=\"black\" points=\"169,-36 169,-86 188,-86 188,-36 169,-36\"/>\n",
       "<text text-anchor=\"start\" x=\"174\" y=\"-57.3\" font-family=\"Times,serif\" font-size=\"14.00\">●</text>\n",
       "<polygon fill=\"none\" stroke=\"black\" points=\"114,-36 114,-61 133,-61 133,-36 114,-36\"/>\n",
       "<text text-anchor=\"start\" x=\"119\" y=\"-44.8\" font-family=\"Times,serif\" font-size=\"14.00\">●</text>\n",
       "</g>\n",
       "<!-- cluster_MyXOR_io_a&#45;&gt;op_xor_3 -->\n",
       "<g id=\"edge3\" class=\"edge\">\n",
       "<title>cluster_MyXOR_io_a&#45;&gt;op_xor_3:in1</title>\n",
       "<path fill=\"none\" stroke=\"black\" d=\"M70.29,-80.1C80.06,-77.67 91.52,-75.38 102.78,-74.45\"/>\n",
       "<polygon fill=\"black\" stroke=\"black\" points=\"103.16,-77.93 113,-74 102.86,-70.94 103.16,-77.93\"/>\n",
       "</g>\n",
       "<!-- cluster_MyXOR_io_b -->\n",
       "<g id=\"node4\" class=\"node\">\n",
       "<title>cluster_MyXOR_io_b</title>\n",
       "<polygon fill=\"#cccccc\" stroke=\"black\" points=\"70,-52 16,-52 16,-16 70,-16 70,-52\"/>\n",
       "<text text-anchor=\"middle\" x=\"43\" y=\"-30.3\" font-family=\"Times,serif\" font-size=\"14.00\">io_b</text>\n",
       "</g>\n",
       "<!-- cluster_MyXOR_io_b&#45;&gt;op_xor_3 -->\n",
       "<g id=\"edge1\" class=\"edge\">\n",
       "<title>cluster_MyXOR_io_b&#45;&gt;op_xor_3:in2</title>\n",
       "<path fill=\"none\" stroke=\"black\" d=\"M70.29,-41.9C80.06,-44.33 91.52,-46.62 102.78,-47.55\"/>\n",
       "<polygon fill=\"black\" stroke=\"black\" points=\"102.86,-51.06 113,-48 103.16,-44.07 102.86,-51.06\"/>\n",
       "</g>\n",
       "<!-- cluster_MyXOR_io_c -->\n",
       "<g id=\"node5\" class=\"node\">\n",
       "<title>cluster_MyXOR_io_c</title>\n",
       "<polygon fill=\"#e0ffff\" stroke=\"black\" points=\"286,-79 232,-79 232,-43 286,-43 286,-79\"/>\n",
       "<text text-anchor=\"middle\" x=\"259\" y=\"-57.3\" font-family=\"Times,serif\" font-size=\"14.00\">io_c</text>\n",
       "</g>\n",
       "<!-- op_xor_3&#45;&gt;cluster_MyXOR_io_c -->\n",
       "<g id=\"edge2\" class=\"edge\">\n",
       "<title>op_xor_3:out&#45;&gt;cluster_MyXOR_io_c</title>\n",
       "<path fill=\"none\" stroke=\"black\" d=\"M189,-61C199.6,-61 211.12,-61 221.65,-61\"/>\n",
       "<polygon fill=\"black\" stroke=\"black\" points=\"221.79,-64.5 231.79,-61 221.79,-57.5 221.79,-64.5\"/>\n",
       "</g>\n",
       "</g>\n",
       "</svg>\n",
       "</div>"
      ]
     },
     "metadata": {},
     "output_type": "display_data"
    }
   ],
   "source": [
    "visualize(() => new MyXOR)"
   ]
  },
  {
   "cell_type": "markdown",
   "id": "automated-logistics",
   "metadata": {
    "slideshow": {
     "slide_type": "slide"
    }
   },
   "source": [
    "## Chisel Tool Flow (Backend)\n",
    "\n",
    "<img src=\"images/backend.svg\" alt=\"Chisel backend\" style=\"center;width:70%;\"/>"
   ]
  },
  {
   "cell_type": "markdown",
   "id": "optical-glenn",
   "metadata": {
    "slideshow": {
     "slide_type": "slide"
    }
   },
   "source": [
    "## Brief ChiselTest Intro\n",
    "\n",
    "* Can write a Scala program to interact with simulation of elaborated design\n",
    "* Can set inputs and look at outputs\n",
    "* Can use full power of Scala to generate test inputs and outputs to compare with\n",
    "* Will continue to cover more features in coming lectures\n",
    "\n",
    "### `poke` - set value of wire\n",
    "\n",
    "### `peek` - read value of wire\n",
    "\n",
    "### `expect` - read value and compare (assert)"
   ]
  },
  {
   "cell_type": "markdown",
   "id": "lesser-terrorist",
   "metadata": {
    "slideshow": {
     "slide_type": "slide"
    }
   },
   "source": [
    "## ChiselTest Execution"
   ]
  },
  {
   "cell_type": "code",
   "execution_count": 7,
   "id": "peaceful-daniel",
   "metadata": {},
   "outputs": [
    {
     "name": "stdout",
     "output_type": "stream",
     "text": [
      "Elaborating design...\n",
      "Done elaborating.\n",
      "test MyXOR Success: 0 tests passed in 2 cycles in 0.003058 seconds 653.96 Hz\n"
     ]
    }
   ],
   "source": [
    "test(new MyXOR()) { x =>\n",
    "    x.io.a.poke(0.B)\n",
    "    x.io.b.poke(0.B)\n",
    "    x.io.c.expect(0.B)  // 0 ^ 0\n",
    "    x.io.a.poke(1.B)\n",
    "    x.io.b.poke(0.B)\n",
    "    x.io.c.expect(1.B)  // 1 ^ 0\n",
    "    x.io.a.poke(0.B)\n",
    "    x.io.b.poke(1.B)\n",
    "    x.io.c.expect(1.B)  // 0 ^ 1\n",
    "    x.io.a.poke(1.B)\n",
    "    x.io.b.poke(1.B)\n",
    "    x.io.c.expect(0.B)  // 1 ^ 0\n",
    "}"
   ]
  }
 ],
 "metadata": {
  "celltoolbar": "Slideshow",
  "kernelspec": {
   "display_name": "Scala",
   "language": "scala",
   "name": "scala"
  },
  "language_info": {
   "codemirror_mode": "text/x-scala",
   "file_extension": ".scala",
   "mimetype": "text/x-scala",
   "name": "scala",
   "nbconvert_exporter": "script",
   "version": "2.12.10"
  }
 },
 "nbformat": 4,
 "nbformat_minor": 5
}
