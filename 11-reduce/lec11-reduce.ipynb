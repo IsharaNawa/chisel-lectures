{
 "cells": [
  {
   "cell_type": "markdown",
   "id": "external-thermal",
   "metadata": {
    "slideshow": {
     "slide_type": "slide"
    }
   },
   "source": [
    "## Agile Hardware Design\n",
    "***\n",
    "# Functional Programming (continued)\n",
    "\n",
    "## Prof. Scott Beamer\n",
    "### sbeamer@ucsc.edu\n",
    "\n",
    "## [CSE 293](https://classes.soe.ucsc.edu/cse293/Spring21/)"
   ]
  },
  {
   "cell_type": "markdown",
   "id": "nominated-consistency",
   "metadata": {
    "slideshow": {
     "slide_type": "slide"
    }
   },
   "source": [
    "## Plan for Today\n",
    "\n",
    "* reduce + fold\n",
    "* Scala type signatures\n",
    "* zipWithIndex\n",
    "* FP considerations"
   ]
  },
  {
   "cell_type": "markdown",
   "id": "regular-reducing",
   "metadata": {
    "slideshow": {
     "slide_type": "slide"
    }
   },
   "source": [
    "## Loading The Chisel Library Into a Notebook"
   ]
  },
  {
   "cell_type": "code",
   "execution_count": 1,
   "id": "robust-immigration",
   "metadata": {},
   "outputs": [
    {
     "name": "stdout",
     "output_type": "stream",
     "text": [
      "Compiling /Users/sbeamer/Spring 2021/CSE 293/lectures/11-reduce/Main.sc"
     ]
    },
    {
     "name": "stderr",
     "output_type": "stream",
     "text": [
      "Checking https://repo1.maven.org/maven2/edu/berkeley/cs/chisel3_2.12/maven-metadata.xml\n",
      "Checked https://repo1.maven.org/maven2/edu/berkeley/cs/chisel3_2.12/maven-metadata.xml\n",
      "Checking https://repo1.maven.org/maven2/edu/berkeley/cs/chiseltest_2.12/maven-metadata.xml\n",
      "Checked https://repo1.maven.org/maven2/edu/berkeley/cs/chiseltest_2.12/maven-metadata.xml\n",
      "Checking https://repo1.maven.org/maven2/edu/berkeley/cs/firrtl-diagrammer_2.12/maven-metadata.xml\n",
      "Checked https://repo1.maven.org/maven2/edu/berkeley/cs/firrtl-diagrammer_2.12/maven-metadata.xml\n"
     ]
    },
    {
     "name": "stdout",
     "output_type": "stream",
     "text": [
      "Compiling /Users/sbeamer/Spring 2021/CSE 293/lectures/11-reduce/Main.sc #2"
     ]
    },
    {
     "data": {
      "text/plain": [
       "\u001b[36mpath\u001b[39m: \u001b[32mString\u001b[39m = \u001b[32m\"/Users/sbeamer/Spring 2021/CSE 293/lectures/11-reduce/../resource/chisel_deps.sc\"\u001b[39m"
      ]
     },
     "execution_count": 1,
     "metadata": {},
     "output_type": "execute_result"
    }
   ],
   "source": [
    "val path = System.getProperty(\"user.dir\") + \"/../resource/chisel_deps.sc\"\n",
    "interp.load.module(ammonite.ops.Path(java.nio.file.FileSystems.getDefault().getPath(path)))"
   ]
  },
  {
   "cell_type": "code",
   "execution_count": 2,
   "id": "extended-burning",
   "metadata": {
    "slideshow": {
     "slide_type": "-"
    }
   },
   "outputs": [
    {
     "data": {
      "text/plain": [
       "\u001b[32mimport \u001b[39m\u001b[36mchisel3._\n",
       "\u001b[39m\n",
       "\u001b[32mimport \u001b[39m\u001b[36mchisel3.util._\n",
       "\u001b[39m\n",
       "\u001b[32mimport \u001b[39m\u001b[36mchisel3.tester._\n",
       "\u001b[39m\n",
       "\u001b[32mimport \u001b[39m\u001b[36mchisel3.tester.RawTester.test\u001b[39m"
      ]
     },
     "execution_count": 2,
     "metadata": {},
     "output_type": "execute_result"
    }
   ],
   "source": [
    "import chisel3._\n",
    "import chisel3.util._\n",
    "import chisel3.tester._\n",
    "import chisel3.tester.RawTester.test"
   ]
  },
  {
   "cell_type": "markdown",
   "id": "moving-details",
   "metadata": {
    "slideshow": {
     "slide_type": "slide"
    }
   },
   "source": [
    "## Motivation for `reduce` and `fold`\n",
    "\n",
    "* In the last lecture, we applied a function to each element (e.g. `map`, `foreach`, `zip`)\n",
    "  * Resulting collection (if there is one), has same size as input collection\n",
    "\n",
    "* What about if we want to combine things (collapse)?\n",
    "\n",
    "* How do we gracefully handle collapsing with an empty collection?"
   ]
  },
  {
   "cell_type": "markdown",
   "id": "hispanic-strike",
   "metadata": {
    "slideshow": {
     "slide_type": "slide"
    }
   },
   "source": [
    "## Scala `reduce`\n",
    "\n",
    "* Given a binary operator, it applies it on collection until down to one element\n",
    "\n",
    "* Can use the placeholder syntax to have concise expressions"
   ]
  },
  {
   "cell_type": "code",
   "execution_count": 4,
   "id": "emotional-charm",
   "metadata": {},
   "outputs": [
    {
     "data": {
      "text/plain": [
       "\u001b[36ml\u001b[39m: \u001b[32mSeq\u001b[39m[\u001b[32mInt\u001b[39m] = \u001b[33mList\u001b[39m(\u001b[32m0\u001b[39m, \u001b[32m1\u001b[39m, \u001b[32m2\u001b[39m, \u001b[32m3\u001b[39m, \u001b[32m4\u001b[39m, \u001b[32m5\u001b[39m)\n",
       "\u001b[36mres3_1\u001b[39m: \u001b[32mInt\u001b[39m = \u001b[32m15\u001b[39m\n",
       "\u001b[36msquares\u001b[39m: \u001b[32mSeq\u001b[39m[\u001b[32mInt\u001b[39m] = \u001b[33mList\u001b[39m(\u001b[32m0\u001b[39m, \u001b[32m1\u001b[39m, \u001b[32m4\u001b[39m, \u001b[32m9\u001b[39m, \u001b[32m16\u001b[39m, \u001b[32m25\u001b[39m)\n",
       "\u001b[36msumOfSquares\u001b[39m: \u001b[32mInt\u001b[39m = \u001b[32m55\u001b[39m"
      ]
     },
     "execution_count": 4,
     "metadata": {},
     "output_type": "execute_result"
    }
   ],
   "source": [
    "val l = Seq(0,1,2,3,4,5)\n",
    "l reduce { _ + _ }\n",
    "\n",
    "val squares = l map { i => i*i }\n",
    "val sumOfSquares = squares reduce { _ + _ }"
   ]
  },
  {
   "cell_type": "markdown",
   "id": "opposed-jenny",
   "metadata": {
    "slideshow": {
     "slide_type": "slide"
    }
   },
   "source": [
    "## Tweaking Our Arbiter with FP (1/2) - original"
   ]
  },
  {
   "cell_type": "code",
   "execution_count": 5,
   "id": "heated-smith",
   "metadata": {},
   "outputs": [
    {
     "data": {
      "text/plain": [
       "defined \u001b[32mclass\u001b[39m \u001b[36mMyArb\u001b[39m"
      ]
     },
     "execution_count": 5,
     "metadata": {},
     "output_type": "execute_result"
    }
   ],
   "source": [
    "class MyArb(numPorts: Int, n: Int) extends Module {\n",
    "    val io = IO(new Bundle {\n",
    "        val req = Flipped(Vec(numPorts, Decoupled(UInt(n.W))))\n",
    "        val out = Decoupled(UInt(n.W))\n",
    "    })\n",
    "    require (numPorts > 0)\n",
    "    val inValids = Wire(Vec(numPorts, Bool()))\n",
    "    val inBits   = Wire(Vec(numPorts, UInt(n.W)))\n",
    "    for (p <- 0 until numPorts) {\n",
    "        io.req(p).ready := false.B\n",
    "        inValids(p) := io.req(p).valid\n",
    "        inBits(p) := io.req(p).bits\n",
    "    }\n",
    "    io.out.valid := inValids.asUInt.orR\n",
    "    val chosenOH = PriorityEncoderOH(inValids)\n",
    "    io.out.bits := Mux1H(chosenOH, inBits)\n",
    "    val chosen = OHToUInt(chosenOH)\n",
    "    when (io.out.fire) {\n",
    "        io.req(chosen).ready := true.B\n",
    "    }\n",
    "}"
   ]
  },
  {
   "cell_type": "markdown",
   "id": "armed-reduction",
   "metadata": {
    "slideshow": {
     "slide_type": "slide"
    }
   },
   "source": [
    "## Tweaking Our Arbiter with FP (2/2) - with FP + reduce"
   ]
  },
  {
   "cell_type": "code",
   "execution_count": 8,
   "id": "extreme-pastor",
   "metadata": {},
   "outputs": [
    {
     "data": {
      "text/plain": [
       "defined \u001b[32mclass\u001b[39m \u001b[36mMyArb\u001b[39m"
      ]
     },
     "execution_count": 8,
     "metadata": {},
     "output_type": "execute_result"
    }
   ],
   "source": [
    "class MyArb(numPorts: Int, n: Int) extends Module {\n",
    "    val io = IO(new Bundle {\n",
    "        val req = Flipped(Vec(numPorts, Decoupled(UInt(n.W))))\n",
    "        val out = Decoupled(UInt(n.W))\n",
    "    })\n",
    "    require (numPorts > 0)\n",
    "    val inValids = io.req map { _.valid }\n",
    "//     io.out.valid := VecInit(inValids).asUInt.orR\n",
    "    io.out.valid := inValids reduce { _ || _ }\n",
    "    val chosenOH = PriorityEncoderOH(inValids)\n",
    "    io.out.bits := Mux1H(chosenOH, io.req map { _.bits })\n",
    "    io.req.zip(chosenOH) foreach { case (i, c) => i.ready := c && io.out.fire}\n",
    "}"
   ]
  },
  {
   "cell_type": "markdown",
   "id": "exotic-paper",
   "metadata": {
    "slideshow": {
     "slide_type": "slide"
    }
   },
   "source": [
    "## How Do You Reduce on 0 Elements?\n",
    "\n",
    "* What should `reduce` return when the collection has 0 elements?\n",
    "\n",
    "* What if we want to collapse a collection into a different type?"
   ]
  },
  {
   "cell_type": "markdown",
   "id": "appointed-revelation",
   "metadata": {
    "slideshow": {
     "slide_type": "slide"
    }
   },
   "source": [
    "## Scala `foldLeft`\n",
    "\n",
    "* Given initial value and operator, applies _left to right_\n",
    "  * \"Left\" is element 0, i.e. in iterable's order\n",
    "* Can be used to implement `reduce`\n",
    "* Can return a type different than initial collection"
   ]
  },
  {
   "cell_type": "code",
   "execution_count": 14,
   "id": "scenic-hungarian",
   "metadata": {
    "scrolled": true
   },
   "outputs": [
    {
     "data": {
      "text/plain": [
       "\u001b[36ml\u001b[39m: \u001b[32mSeq\u001b[39m[\u001b[32mInt\u001b[39m] = \u001b[33mList\u001b[39m(\u001b[32m1\u001b[39m, \u001b[32m2\u001b[39m, \u001b[32m3\u001b[39m, \u001b[32m4\u001b[39m, \u001b[32m5\u001b[39m)\n",
       "\u001b[36mres13_1\u001b[39m: \u001b[32mInt\u001b[39m = \u001b[32m15\u001b[39m\n",
       "\u001b[36mres13_2\u001b[39m: \u001b[32mInt\u001b[39m = \u001b[32m15\u001b[39m\n",
       "defined \u001b[32mfunction\u001b[39m \u001b[36mmyMax\u001b[39m\n",
       "\u001b[36mmaxTheHardWay\u001b[39m: \u001b[32mInt\u001b[39m = \u001b[32m5\u001b[39m"
      ]
     },
     "execution_count": 14,
     "metadata": {},
     "output_type": "execute_result"
    }
   ],
   "source": [
    "val l = Seq(1,2,3,4,5)\n",
    "l.foldLeft(0)((totalSoFar, elem) => totalSoFar + elem)\n",
    "l.foldLeft(0)(_ + _)\n",
    "\n",
    "def myMax(maxSoFar: Int, x: Int) = if (maxSoFar > x) maxSoFar else x\n",
    "val maxTheHardWay = l.foldLeft(0)(myMax)"
   ]
  },
  {
   "cell_type": "markdown",
   "id": "subject-region",
   "metadata": {
    "slideshow": {
     "slide_type": "slide"
    }
   },
   "source": [
    "## Visualizing `foldLeft` & `foldRight`\n",
    "\n",
    "<img src=\"images/folds.svg\" alt=\"foldLeft & foldRight\" style=\"width:80%;margin-left:auto;margin-right:auto\"/>"
   ]
  },
  {
   "cell_type": "markdown",
   "id": "first-elder",
   "metadata": {
    "slideshow": {
     "slide_type": "slide"
    }
   },
   "source": [
    "## Brief Detour: Scala Function Signatures\n",
    "\n",
    "<img src=\"images/map.png\" alt=\"map signature\" style=\"width:70%;margin-left:auto;margin-right:auto\"/>\n",
    "<img src=\"images/foldLeft.png\" alt=\"foldLeft signature\" style=\"width:70%;margin-left:auto;margin-right:auto\"/>\n",
    "\n",
    "* Screenshots from language API docs, will want to peruse for available FP operations\n",
    "* Square brackets `[]` indicate parameterized types, and often type inference determines them (e.g. `A`)\n",
    "* Recognize these operations take in functions (as `op`): (_input arg types_) `=>` _return type_"
   ]
  },
  {
   "cell_type": "markdown",
   "id": "finished-venue",
   "metadata": {
    "slideshow": {
     "slide_type": "slide"
    }
   },
   "source": [
    "## Brief Detour: Currying (functions) in Scala\n",
    "\n",
    "* Multiple argument lists to a function\n",
    "* We have seen it and used it without talking about it yet\n",
    "  * e.g. `Seq.fill(4)(0)`\n",
    "* Can create partially applied functions to pass to FP operation"
   ]
  },
  {
   "cell_type": "code",
   "execution_count": 62,
   "id": "broken-formation",
   "metadata": {},
   "outputs": [
    {
     "data": {
      "text/plain": [
       "defined \u001b[32mfunction\u001b[39m \u001b[36msum\u001b[39m\n",
       "defined \u001b[32mfunction\u001b[39m \u001b[36mplusX\u001b[39m\n",
       "\u001b[36mres61_2\u001b[39m: \u001b[32mInt\u001b[39m => \u001b[32mInt\u001b[39m = ammonite.$sess.cmd61$Helper$$Lambda$6102/1251912994@5ce99791\n",
       "\u001b[36mres61_3\u001b[39m: \u001b[32mInt\u001b[39m = \u001b[32m3\u001b[39m\n",
       "\u001b[36mres61_4\u001b[39m: \u001b[32mSeq\u001b[39m[\u001b[32mInt\u001b[39m] = \u001b[33mList\u001b[39m(\u001b[32m1\u001b[39m, \u001b[32m2\u001b[39m, \u001b[32m3\u001b[39m, \u001b[32m4\u001b[39m, \u001b[32m5\u001b[39m)"
      ]
     },
     "execution_count": 62,
     "metadata": {},
     "output_type": "execute_result"
    }
   ],
   "source": [
    "def sum(a: Int, b: Int) = a + b\n",
    "\n",
    "def plusX(x: Int)(b: Int) = x + b\n",
    "\n",
    "plusX(1)_\n",
    "\n",
    "plusX(1)(2)\n",
    "\n",
    "Seq(0,1,2,3,4) map plusX(1)"
   ]
  },
  {
   "cell_type": "markdown",
   "id": "alleged-donna",
   "metadata": {
    "slideshow": {
     "slide_type": "slide"
    }
   },
   "source": [
    "## `reduce`X vs `fold`Y\n",
    "\n",
    "* All 6 variants exist (`reduce`, `reduceLeft`, `reduceRight`, `fold`, `foldLeft`, `foldRight`)\n",
    "\n",
    "* Directions give explicit evaluation order, otherwise unspecified\n",
    "\n",
    "* In practice, `foldLeft` is often most versatile/appropriate, but brevity of `reduce` makes it tempting\n",
    "  * Typically use `reduce` to collapse, but `foldLeft` to do it in deliberate order\n",
    "\n",
    "* Can use `foldRight` and `reduceRight` to effectively do things in reverse (can also use `.reverse`)"
   ]
  },
  {
   "cell_type": "markdown",
   "id": "informed-rental",
   "metadata": {
    "slideshow": {
     "slide_type": "slide"
    }
   },
   "source": [
    "## Redoing Reducer with `reduce`"
   ]
  },
  {
   "cell_type": "code",
   "execution_count": 72,
   "id": "electric-spokesman",
   "metadata": {
    "scrolled": false
   },
   "outputs": [
    {
     "name": "stdout",
     "output_type": "stream",
     "text": [
      "Elaborating design...\n",
      "Done elaborating.\n",
      "module Reducer(\n",
      "  input        clock,\n",
      "  input        reset,\n",
      "  input  [1:0] io_in_0,\n",
      "  input  [1:0] io_in_1,\n",
      "  output [1:0] io_out\n",
      ");\n",
      "  assign io_out = io_in_1 + io_in_0; // @[cmd71.sc 9:31]\n",
      "endmodule\n",
      "\n"
     ]
    },
    {
     "data": {
      "text/plain": [
       "defined \u001b[32mclass\u001b[39m \u001b[36mReducer\u001b[39m"
      ]
     },
     "execution_count": 72,
     "metadata": {},
     "output_type": "execute_result"
    }
   ],
   "source": [
    "class Reducer(n: Int, m: Int) extends Module {\n",
    "    val io = IO(new Bundle {\n",
    "        val in  = Input(Vec(n, UInt(m.W)))\n",
    "        val out = Output(UInt(m.W))\n",
    "    })\n",
    "    require(n > 0)\n",
    "    var totalSoFar = io.in(0)\n",
    "    for (i <- 1 until n)\n",
    "        totalSoFar = io.in(i) + totalSoFar\n",
    "    io.out := totalSoFar\n",
    "//     io.out := io.in.reduce{ _ + _ }\n",
    "}\n",
    "println(getVerilog(new Reducer(2,2)))"
   ]
  },
  {
   "cell_type": "markdown",
   "id": "fitted-hacker",
   "metadata": {
    "slideshow": {
     "slide_type": "slide"
    }
   },
   "source": [
    "## Redoing DelayN (Pipe) with `foldLeft`"
   ]
  },
  {
   "cell_type": "code",
   "execution_count": 75,
   "id": "alive-algeria",
   "metadata": {
    "scrolled": true
   },
   "outputs": [
    {
     "name": "stdout",
     "output_type": "stream",
     "text": [
      "Elaborating design...\n",
      "Done elaborating.\n",
      "module DelayNCycles(\n",
      "  input   clock,\n",
      "  input   reset,\n",
      "  input   io_in,\n",
      "  output  io_out\n",
      ");\n",
      "`ifdef RANDOMIZE_REG_INIT\n",
      "  reg [31:0] _RAND_0;\n",
      "  reg [31:0] _RAND_1;\n",
      "`endif // RANDOMIZE_REG_INIT\n",
      "  reg  REG; // @[cmd74.sc 12:66]\n",
      "  reg  REG_1; // @[cmd74.sc 12:66]\n",
      "  assign io_out = REG_1; // @[cmd74.sc 12:12]\n",
      "  always @(posedge clock) begin\n",
      "    REG <= io_in; // @[cmd74.sc 12:66]\n",
      "    REG_1 <= REG; // @[cmd74.sc 12:66]\n",
      "  end\n",
      "// Register and memory initialization\n",
      "`ifdef RANDOMIZE_GARBAGE_ASSIGN\n",
      "`define RANDOMIZE\n",
      "`endif\n",
      "`ifdef RANDOMIZE_INVALID_ASSIGN\n",
      "`define RANDOMIZE\n",
      "`endif\n",
      "`ifdef RANDOMIZE_REG_INIT\n",
      "`define RANDOMIZE\n",
      "`endif\n",
      "`ifdef RANDOMIZE_MEM_INIT\n",
      "`define RANDOMIZE\n",
      "`endif\n",
      "`ifndef RANDOM\n",
      "`define RANDOM $random\n",
      "`endif\n",
      "`ifdef RANDOMIZE_MEM_INIT\n",
      "  integer initvar;\n",
      "`endif\n",
      "`ifndef SYNTHESIS\n",
      "`ifdef FIRRTL_BEFORE_INITIAL\n",
      "`FIRRTL_BEFORE_INITIAL\n",
      "`endif\n",
      "initial begin\n",
      "  `ifdef RANDOMIZE\n",
      "    `ifdef INIT_RANDOM\n",
      "      `INIT_RANDOM\n",
      "    `endif\n",
      "    `ifndef VERILATOR\n",
      "      `ifdef RANDOMIZE_DELAY\n",
      "        #`RANDOMIZE_DELAY begin end\n",
      "      `else\n",
      "        #0.002 begin end\n",
      "      `endif\n",
      "    `endif\n",
      "`ifdef RANDOMIZE_REG_INIT\n",
      "  _RAND_0 = {1{`RANDOM}};\n",
      "  REG = _RAND_0[0:0];\n",
      "  _RAND_1 = {1{`RANDOM}};\n",
      "  REG_1 = _RAND_1[0:0];\n",
      "`endif // RANDOMIZE_REG_INIT\n",
      "  `endif // RANDOMIZE\n",
      "end // initial\n",
      "`ifdef FIRRTL_AFTER_INITIAL\n",
      "`FIRRTL_AFTER_INITIAL\n",
      "`endif\n",
      "`endif // SYNTHESIS\n",
      "endmodule\n",
      "\n"
     ]
    },
    {
     "data": {
      "text/plain": [
       "defined \u001b[32mclass\u001b[39m \u001b[36mDelayNCycles\u001b[39m"
      ]
     },
     "execution_count": 75,
     "metadata": {},
     "output_type": "execute_result"
    }
   ],
   "source": [
    "class DelayNCycles(n: Int) extends Module {\n",
    "    val io = IO(new Bundle {\n",
    "        val in  = Input(Bool())\n",
    "        val out = Output(Bool())\n",
    "    })\n",
    "    require(n >= 0)\n",
    "//     def helper(n: Int, lastConn: Bool): Bool = {\n",
    "//         if (n == 0) lastConn\n",
    "//         else helper(n-1, RegNext(lastConn))\n",
    "//     }\n",
    "//     io.out := helper(n, io.in)\n",
    "    io.out := (0 until n).foldLeft(io.in){(lastConn,i) => RegNext(lastConn)}\n",
    "}\n",
    "println(getVerilog(new DelayNCycles(2)))"
   ]
  },
  {
   "cell_type": "markdown",
   "id": "hollywood-pointer",
   "metadata": {
    "slideshow": {
     "slide_type": "slide"
    }
   },
   "source": [
    "## Scala `zipWithIndex`\n",
    "\n",
    "* Sometimes want to have access to index when performing FP op\n",
    "  * Analogous to `enumerate` in Python\n",
    "\n",
    "<img src=\"images/zipWithIndex.svg\" alt=\"zipWithIndex\" style=\"width:40%;margin-left:auto;margin-right:auto\"/>"
   ]
  },
  {
   "cell_type": "code",
   "execution_count": 77,
   "id": "middle-stability",
   "metadata": {},
   "outputs": [
    {
     "data": {
      "text/plain": [
       "\u001b[36ml\u001b[39m: \u001b[32mSeq\u001b[39m[\u001b[32mInt\u001b[39m] = \u001b[33mList\u001b[39m(\u001b[32m5\u001b[39m, \u001b[32m6\u001b[39m, \u001b[32m7\u001b[39m, \u001b[32m8\u001b[39m)\n",
       "\u001b[36mres76_1\u001b[39m: \u001b[32mSeq\u001b[39m[(\u001b[32mInt\u001b[39m, \u001b[32mInt\u001b[39m)] = \u001b[33mList\u001b[39m((\u001b[32m5\u001b[39m, \u001b[32m0\u001b[39m), (\u001b[32m6\u001b[39m, \u001b[32m1\u001b[39m), (\u001b[32m7\u001b[39m, \u001b[32m2\u001b[39m), (\u001b[32m8\u001b[39m, \u001b[32m3\u001b[39m))\n",
       "\u001b[36mres76_2\u001b[39m: \u001b[32mSeq\u001b[39m[\u001b[32mInt\u001b[39m] = \u001b[33mList\u001b[39m(\u001b[32m0\u001b[39m, \u001b[32m6\u001b[39m, \u001b[32m14\u001b[39m, \u001b[32m24\u001b[39m)"
      ]
     },
     "execution_count": 77,
     "metadata": {},
     "output_type": "execute_result"
    }
   ],
   "source": [
    "val l = Seq(5,6,7,8)\n",
    "l.zipWithIndex\n",
    "l.zipWithIndex.map{ case (x, i) => x * i }"
   ]
  },
  {
   "cell_type": "markdown",
   "id": "congressional-civilization",
   "metadata": {
    "slideshow": {
     "slide_type": "slide"
    }
   },
   "source": [
    "## One-Hot Priority Encoder (with muxes) Implementation Redone with FP"
   ]
  },
  {
   "cell_type": "code",
   "execution_count": 83,
   "id": "severe-stocks",
   "metadata": {
    "scrolled": true
   },
   "outputs": [
    {
     "name": "stdout",
     "output_type": "stream",
     "text": [
      "Elaborating design...\n",
      "Done elaborating.\n",
      " 0 ->  0\n",
      " 1 ->  1\n",
      "10 -> 10\n",
      "11 -> 10\n",
      " 0 ->  0\n",
      "test MyPriEncodeOH Success: 0 tests passed in 6 cycles in 0.003387 seconds 1771.59 Hz\n"
     ]
    },
    {
     "data": {
      "text/plain": [
       "defined \u001b[32mclass\u001b[39m \u001b[36mMyPriEncodeOH\u001b[39m"
      ]
     },
     "execution_count": 83,
     "metadata": {},
     "output_type": "execute_result"
    }
   ],
   "source": [
    "class MyPriEncodeOH(n: Int) extends Module {\n",
    "    val io = IO(new Bundle {\n",
    "        val in  = Input(UInt(n.W))\n",
    "        val out = Output(UInt())\n",
    "    })\n",
    "    require (n > 0)\n",
    "    def withMuxes(index: Int): UInt = {\n",
    "        if (index < n) Mux(io.in(index), (1 << index).U, withMuxes(index+1))\n",
    "        else 0.U\n",
    "    }\n",
    "//     io.out := withMuxes(0)\n",
    "    io.out := io.in.asBools.zipWithIndex.foldLeft(0.U) {\n",
    "        case (soFar, (b, index)) => Mux(b, (1 << index).U, soFar)\n",
    "    }\n",
    "//     io.out := PriorityEncoderOH(io.in)\n",
    "    printf(\"%b -> %b\\n\", io.in, io.out)\n",
    "}\n",
    "\n",
    "// println(getVerilog(new MyPriEncodeOH(2)))\n",
    "test(new MyPriEncodeOH(2)) { c =>\n",
    "    for (i <- 0 until 4) {\n",
    "        c.io.in.poke(i.U)\n",
    "        c.clock.step()\n",
    "    }\n",
    "}"
   ]
  },
  {
   "cell_type": "markdown",
   "id": "greater-country",
   "metadata": {
    "slideshow": {
     "slide_type": "slide"
    }
   },
   "source": [
    "## Redoing Crossbar with FP (1/4) - IO decs"
   ]
  },
  {
   "cell_type": "code",
   "execution_count": 84,
   "id": "basic-liberal",
   "metadata": {},
   "outputs": [
    {
     "data": {
      "text/plain": [
       "defined \u001b[32mclass\u001b[39m \u001b[36mMessage\u001b[39m\n",
       "defined \u001b[32mclass\u001b[39m \u001b[36mXBarIO\u001b[39m"
      ]
     },
     "execution_count": 84,
     "metadata": {},
     "output_type": "execute_result"
    }
   ],
   "source": [
    "class Message(numOuts: Int, length: Int) extends Bundle {\n",
    "    val addr = UInt(log2Ceil(numOuts+1).W)\n",
    "    val data = UInt(length.W)\n",
    "    override def cloneType = (new Message(numOuts, length)).asInstanceOf[this.type]\n",
    "}\n",
    "\n",
    "class XBarIO(numIns: Int, numOuts: Int, length: Int) extends Bundle {\n",
    "    val in  = Vec(numIns, Flipped(Decoupled(new Message(numOuts, length))))\n",
    "    val out = Vec(numOuts, Decoupled(new Message(numOuts, length)))\n",
    "    override def cloneType = (new XBarIO(numIns, numOuts, length)).asInstanceOf[this.type]\n",
    "}"
   ]
  },
  {
   "cell_type": "markdown",
   "id": "plain-decade",
   "metadata": {
    "slideshow": {
     "slide_type": "slide"
    }
   },
   "source": [
    "## Redoing Crossbar with FP (2/4) - inner loops only"
   ]
  },
  {
   "cell_type": "code",
   "execution_count": 88,
   "id": "sticky-twist",
   "metadata": {},
   "outputs": [
    {
     "data": {
      "text/plain": [
       "defined \u001b[32mclass\u001b[39m \u001b[36mXBar\u001b[39m"
      ]
     },
     "execution_count": 88,
     "metadata": {},
     "output_type": "execute_result"
    }
   ],
   "source": [
    "class XBar(numIns: Int, numOuts: Int, length: Int) extends Module {\n",
    "    val io = IO(new XBarIO(numIns, numOuts, length))\n",
    "    val arbs = Seq.fill(numOuts)(Module(new RRArbiter(new Message(numOuts, length), numIns)))\n",
    "    for (ip <- 0 until numIns) {\n",
    "//         val inReadys = Wire(Vec(numOuts, Bool()))\n",
    "//         for (op <- 0 until numOuts) {\n",
    "//             inReadys(op) := arbs(op).io.in(ip).ready\n",
    "//         }\n",
    "//         io.in(ip).ready := inReadys.asUInt.orR\n",
    "        io.in(ip).ready := arbs.map{ _.io.in(ip).ready }.reduce{ _ || _ }\n",
    "    }\n",
    "    for (op <- 0 until numOuts) {\n",
    "//         for (ip <- 0 until numIns) {\n",
    "//             arbs(op).io.in(ip).bits <> io.in(ip).bits\n",
    "//             arbs(op).io.in(ip).valid := io.in(ip).valid && (io.in(ip).bits.addr === op.U)\n",
    "//         }\n",
    "        arbs(op).io.in.zip(io.in).foreach { case (arbIn, ioIn) =>\n",
    "            arbIn.bits <> ioIn.bits\n",
    "            arbIn.valid := ioIn.valid && (ioIn.bits.addr === op.U)\n",
    "        }\n",
    "        io.out(op) <> arbs(op).io.out\n",
    "    }\n",
    "    for (op <- 0 until numOuts) {\n",
    "        printf(\" %d -> %d (%b)\", io.out(op).bits.data, op.U, io.out(op).valid)\n",
    "    }\n",
    "    printf(\"\\n\")\n",
    "}"
   ]
  },
  {
   "cell_type": "markdown",
   "id": "prescription-homework",
   "metadata": {
    "slideshow": {
     "slide_type": "slide"
    }
   },
   "source": [
    "## Redoing Crossbar with FP (3/4) - all loops"
   ]
  },
  {
   "cell_type": "code",
   "execution_count": 86,
   "id": "assisted-transportation",
   "metadata": {},
   "outputs": [
    {
     "data": {
      "text/plain": [
       "defined \u001b[32mclass\u001b[39m \u001b[36mXBar\u001b[39m"
      ]
     },
     "execution_count": 86,
     "metadata": {},
     "output_type": "execute_result"
    }
   ],
   "source": [
    "class XBar(numIns: Int, numOuts: Int, length: Int) extends Module {\n",
    "    val io = IO(new XBarIO(numIns, numOuts, length))\n",
    "    val arbs = Seq.fill(numOuts)(Module(new RRArbiter(new Message(numOuts, length), numIns)))\n",
    "//     for (ip <- 0 until numIns) {\n",
    "//         io.in(ip).ready := arbs.map{ _.io.in(ip).ready }.reduce{ _ || _ }\n",
    "//     }\n",
    "    io.in.zipWithIndex.foreach { case (in, ip) =>\n",
    "        in.ready := arbs.map{ _.io.in(ip).ready }.reduce{ _ || _ }\n",
    "    }\n",
    "//     for (op <- 0 until numOuts) {\n",
    "//         arbs(op).io.in.zip(io.in).foreach { case (arbIn, ioIn) =>\n",
    "//             arbIn.bits <> ioIn.bits\n",
    "//             arbIn.valid := ioIn.valid && (ioIn.bits.addr === op.U)\n",
    "//         }\n",
    "//         io.out(op) <> arbs(op).io.out\n",
    "//     }\n",
    "    io.out.zip(arbs).zipWithIndex.foreach { case ((ioOut, arbOut), op) =>\n",
    "        arbOut.io.in.zip(io.in).foreach { case (arbIn, ioIn) =>\n",
    "            arbIn.bits <> ioIn.bits\n",
    "            arbIn.valid := ioIn.valid && (ioIn.bits.addr === op.U)\n",
    "        }\n",
    "        ioOut <> arbOut.io.out\n",
    "    }\n",
    "//     for (op <- 0 until numOuts) {\n",
    "//         printf(\" %d -> %d (%b)\", io.out(op).bits.data, op.U, io.out(op).valid)\n",
    "//     }\n",
    "    io.out.zipWithIndex.foreach{\n",
    "        case (outP, op) => printf(\" %d -> %d (%b)\", outP.bits.data, op.U, outP.valid)\n",
    "    }\n",
    "    printf(\"\\n\")\n",
    "}"
   ]
  },
  {
   "cell_type": "markdown",
   "id": "directed-rough",
   "metadata": {
    "slideshow": {
     "slide_type": "slide"
    }
   },
   "source": [
    "## Redoing Crossbar with FP (4/4) - Tests"
   ]
  },
  {
   "cell_type": "code",
   "execution_count": 89,
   "id": "burning-consolidation",
   "metadata": {},
   "outputs": [
    {
     "name": "stdout",
     "output_type": "stream",
     "text": [
      "Elaborating design...\n",
      "Done elaborating.\n",
      "    2 ->  0 (1)    1 ->  1 (1)\n",
      "    0 ->  0 (1)    3 ->  1 (1)\n",
      "    2 ->  0 (1)    1 ->  1 (1)\n",
      "    0 ->  0 (1)    3 ->  1 (1)\n",
      "    0 ->  0 (0)    0 ->  1 (0)\n",
      "test XBar Success: 0 tests passed in 6 cycles in 0.011111 seconds 540.00 Hz\n"
     ]
    },
    {
     "data": {
      "text/plain": [
       "\u001b[36mnumIns\u001b[39m: \u001b[32mInt\u001b[39m = \u001b[32m4\u001b[39m\n",
       "\u001b[36mnumOuts\u001b[39m: \u001b[32mInt\u001b[39m = \u001b[32m2\u001b[39m"
      ]
     },
     "execution_count": 89,
     "metadata": {},
     "output_type": "execute_result"
    }
   ],
   "source": [
    "val numIns = 4\n",
    "val numOuts = 2\n",
    "test(new XBar(numIns,numOuts,8)) { c =>\n",
    "    for (ip <- 0 until numIns) {\n",
    "        c.io.in(ip).valid.poke(true.B)\n",
    "        c.io.in(ip).bits.data.poke(ip.U)\n",
    "        c.io.in(ip).bits.addr.poke((ip % numOuts).U)\n",
    "    }\n",
    "    for (op <- 0 until numOuts) {\n",
    "        c.io.out(op).ready.poke(true.B)\n",
    "    }\n",
    "    for (cycle <- 0 until 4) {\n",
    "        c.clock.step()\n",
    "    }\n",
    "}"
   ]
  },
  {
   "cell_type": "markdown",
   "id": "willing-vienna",
   "metadata": {
    "slideshow": {
     "slide_type": "slide"
    }
   },
   "source": [
    "## Only Use FP When it is an Improvement\n",
    "\n",
    "* FP used well...\n",
    "  * Leverages FP operation to execute commmon pattern\n",
    "  * Improves readability and simplifies code\n",
    "\n",
    "* FP used over-eagerly...\n",
    "  * Harder to read/understand\n",
    "  * Brittle\n",
    "\n",
    "* Consider...\n",
    "  * Would a simple for loop or even recursion be more clear?\n",
    "  * Limit self to 2-3 FP operations per line at most\n",
    "  * Multiple lines for the function literal?\n",
    "    * Maybe pull into a named helper function or fall back to for  "
   ]
  }
 ],
 "metadata": {
  "celltoolbar": "Slideshow",
  "kernelspec": {
   "display_name": "Scala",
   "language": "scala",
   "name": "scala"
  },
  "language_info": {
   "codemirror_mode": "text/x-scala",
   "file_extension": ".scala",
   "mimetype": "text/x-scala",
   "name": "scala",
   "nbconvert_exporter": "script",
   "version": "2.12.10"
  }
 },
 "nbformat": 4,
 "nbformat_minor": 5
}
