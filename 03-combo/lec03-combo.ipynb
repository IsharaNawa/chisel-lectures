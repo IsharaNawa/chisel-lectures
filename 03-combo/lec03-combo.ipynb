{
 "cells": [
  {
   "cell_type": "markdown",
   "id": "external-thermal",
   "metadata": {
    "slideshow": {
     "slide_type": "slide"
    }
   },
   "source": [
    "## Agile Hardware Design\n",
    "***\n",
    "# Combinational Logic\n",
    "\n",
    "<img src=\"../resource/logo.svg\" alt=\"agile hardware design logo\" style=\"float:right\"/>\n",
    "\n",
    "## Prof. Scott Beamer\n",
    "### sbeamer@ucsc.edu\n",
    "\n",
    "## [CSE 228A](https://classes.soe.ucsc.edu/cse228a/Winter24/)"
   ]
  },
  {
   "cell_type": "markdown",
   "id": "nominated-consistency",
   "metadata": {
    "slideshow": {
     "slide_type": "slide"
    }
   },
   "source": [
    "## Plan for Today\n",
    "\n",
    "* A Bit of parameterization\n",
    "* Scala/Chisel conditionals\n",
    "* _Result:_ comfortably construct combinational circuits"
   ]
  },
  {
   "cell_type": "markdown",
   "id": "regular-reducing",
   "metadata": {
    "slideshow": {
     "slide_type": "slide"
    }
   },
   "source": [
    "## Loading The Chisel Library Into a Notebook"
   ]
  },
  {
   "cell_type": "code",
   "execution_count": null,
   "id": "robust-immigration",
   "metadata": {},
   "outputs": [],
   "source": [
    "interp.load.module(os.Path(s\"${System.getProperty(\"user.dir\")}/../resource/chisel_deps.sc\"))"
   ]
  },
  {
   "cell_type": "code",
   "execution_count": null,
   "id": "extended-burning",
   "metadata": {
    "slideshow": {
     "slide_type": "-"
    }
   },
   "outputs": [],
   "source": [
    "import chisel3._\n",
    "import chisel3.util._\n",
    "import chiseltest._\n",
    "import chiseltest.RawTester.test"
   ]
  },
  {
   "cell_type": "markdown",
   "id": "faced-removal",
   "metadata": {
    "cell_style": "split",
    "slideshow": {
     "slide_type": "slide"
    }
   },
   "source": [
    "## Chisel Multiplexors (Mux)\n",
    "\n",
    "* Can explicitly instantiate a _mux_\n",
    "```scala\n",
    "Mux(select, in1, in0)\n",
    "```\n",
    "* _Note:_ input 1 (true case) is first, analogous to ternary (`?`) from Verilog/C\n",
    "* More flavors of muxes (e.g. `MuxCase`, `Mux1H`) available in [Chisel Library](https://javadoc.io/doc/edu.berkeley.cs/chisel3_2.13/latest/chisel3/util/Mux1H$.html)\n",
    "\n",
    "<p>\n",
    "<img src=\"images/mux.svg\" alt=\"mux schematic\" style=\"width:60%;margin:auto\"/>"
   ]
  },
  {
   "cell_type": "code",
   "execution_count": null,
   "id": "extraordinary-recipe",
   "metadata": {
    "cell_style": "split",
    "scrolled": true
   },
   "outputs": [],
   "source": [
    "class MyMux extends Module {\n",
    "    val io = IO(new Bundle {\n",
    "        val s   = Input(Bool())\n",
    "        val in0 = Input(Bool())\n",
    "        val in1 = Input(Bool())\n",
    "        val out = Output(Bool())\n",
    "    })\n",
    "    io.out := Mux(io.s, io.in1, io.in0)\n",
    "}\n",
    "printVerilog(new MyMux)"
   ]
  },
  {
   "cell_type": "markdown",
   "id": "precious-mainstream",
   "metadata": {
    "slideshow": {
     "slide_type": "slide"
    }
   },
   "source": [
    "## A Bit More on Scala's `class`\n",
    "\n",
    "* Arguments are constructor parameters\n",
    "* Make a class instance with `new`, and internals are evaluated on instantiation\n",
    "* Default scope for internals is public\n",
    "* Arguments need `val` to be made public\n",
    "* Will cover methods and overloading later"
   ]
  },
  {
   "cell_type": "code",
   "execution_count": null,
   "id": "falling-helena",
   "metadata": {},
   "outputs": [],
   "source": [
    "class MyClass(argS: String, argI: Int) {\n",
    "    val name = argS\n",
    "    println(\"Created \" + argS)\n",
    "}\n",
    "val mc = new MyClass(\"mc\", 4)\n",
    "// mc.name = \"foo\"\n",
    "println(mc.name)\n",
    "// println(mc.argI)"
   ]
  },
  {
   "cell_type": "markdown",
   "id": "legal-benchmark",
   "metadata": {
    "cell_style": "split",
    "slideshow": {
     "slide_type": "slide"
    }
   },
   "source": [
    "## Parameterizing the Mux Width\n",
    "\n",
    "* Can use class arguments to parameterize our module\n",
    "* Recommend using Scala types for parameters, and then casting (if necessary) inside module\n",
    "\n",
    "<p>\n",
    "<img src=\"images/muxw.svg\" alt=\"mux schematic\" style=\"width:60%;margin:auto\"/>"
   ]
  },
  {
   "cell_type": "code",
   "execution_count": null,
   "id": "hawaiian-worker",
   "metadata": {
    "cell_style": "split",
    "scrolled": true
   },
   "outputs": [],
   "source": [
    "class MyPMux(w: Int) extends Module {\n",
    "    val io = IO(new Bundle {\n",
    "        val s   = Input(Bool())\n",
    "        val in0 = Input(UInt(w.W))\n",
    "        val in1 = Input(UInt(w.W))\n",
    "        val out = Output(UInt(w.W))\n",
    "    })\n",
    "    io.out := Mux(io.s, io.in1, io.in0)\n",
    "}\n",
    "printVerilog(new MyPMux(8))"
   ]
  },
  {
   "cell_type": "markdown",
   "id": "twelve-seven",
   "metadata": {
    "cell_style": "split",
    "slideshow": {
     "slide_type": "slide"
    }
   },
   "source": [
    "## Scala `if/else`\n",
    "\n",
    "* If/else akin to other languages\n",
    "* _Note:_ due to functional nature of language, if/else returns last value of evaluated clause\n",
    "* Can omit parenthesis if only one statement for clause\n",
    "  * If short, style recommends keeping entire if one line"
   ]
  },
  {
   "cell_type": "code",
   "execution_count": null,
   "id": "russian-sociology",
   "metadata": {
    "cell_style": "split"
   },
   "outputs": [],
   "source": [
    "val condition = true\n",
    "if (condition) {\n",
    "    println(\"true case\")\n",
    "} else {\n",
    "    println(\"false case\")\n",
    "}\n",
    "val x = if (condition) 3 else 4\n",
    "println(x)"
   ]
  },
  {
   "cell_type": "markdown",
   "id": "dressed-poison",
   "metadata": {
    "slideshow": {
     "slide_type": "slide"
    }
   },
   "source": [
    "## Contrasting Conditional Execution/Selection"
   ]
  },
  {
   "cell_type": "markdown",
   "id": "after-illustration",
   "metadata": {
    "cell_style": "split",
    "slideshow": {
     "slide_type": "fragment"
    }
   },
   "source": [
    "### In Circuit (Chisel Mux)\n",
    "\n",
    "* Selects based on actual circuit inputs\n",
    "* Hardware contains both \"ways\"\n",
    "\n",
    "```scala\n",
    "val absX = Mux(x < 0.S, -x, x)\n",
    "```\n",
    "\n",
    "<img src=\"images/absMux.svg\" alt=\"mux schematic\" style=\"width:55%;margin:auto\"/>"
   ]
  },
  {
   "cell_type": "markdown",
   "id": "upset-layout",
   "metadata": {
    "cell_style": "split",
    "slideshow": {
     "slide_type": "fragment"
    }
   },
   "source": [
    "### During Generation (Scala if/else)\n",
    "\n",
    "* Executed path generates hardware\n",
    "* Depends on generator parameters, not circuit inputs\n",
    "\n",
    "```scala\n",
    "val invX = if (invert) -x else x\n",
    "```\n",
    "\n",
    "<img src=\"images/invCond.svg\" alt=\"conditional schematic\" style=\"width:55%;margin:auto\"/>"
   ]
  },
  {
   "cell_type": "markdown",
   "id": "81f61cc8",
   "metadata": {
    "slideshow": {
     "slide_type": "slide"
    }
   },
   "source": [
    "## Chisel Tool Flow Frontend (from lecture 2)\n",
    "\n",
    "<img src=\"../02-hello/images/frontend.svg\" alt=\"Chisel frontend\" style=\"width:80%;margin:auto\"/>\n",
    "\n",
    "* The generated Circuit (`.fir` file) is a specific design instance, and it can be passed off to a _backend_ for simulation or implementation"
   ]
  },
  {
   "cell_type": "markdown",
   "id": "0141f7df",
   "metadata": {
    "slideshow": {
     "slide_type": "slide"
    }
   },
   "source": [
    "## Chisel Execution\n",
    "\n",
    "### Elaborated Hardware design is a useful byproduct of your Chisel program\n",
    "* Your Chisel design is a Scala program\n",
    "* As the program executes, under-the-hood it builds up your design using the Chisel Library\n",
    "* As the program ends, it _elaborates_ (outputs) the design as a firrtl file (concrete instance)"
   ]
  },
  {
   "cell_type": "markdown",
   "id": "62aaedf0",
   "metadata": {
    "slideshow": {
     "slide_type": "fragment"
    }
   },
   "source": [
    "### Core operations in Chisel are simple, Scala combines them productively\n",
    "* Chisel _components are simple_ things like logic operators, wires, registers, and modules\n",
    "* To make a design, these components need to be _instantiated_ and _connected_\n",
    "* Is _productive_ to use Scala to programmatically instantiate and connect components (meta programming)\n",
    "* Designing with Chisel is programming _spatially_ (creating & connecting components) instead of _temporally_ (conventional software which is about order of operations)"
   ]
  },
  {
   "cell_type": "markdown",
   "id": "novel-product",
   "metadata": {
    "slideshow": {
     "slide_type": "slide"
    }
   },
   "source": [
    "## Scala Values Are References to Chisel Objects\n",
    "\n",
    "* Our generators are simply instantiating Chisel objects and connecting them together\n",
    "  * Scala program allows us to control which objects & connections\n",
    "* The connect operator (`:=`) assigns output of right hand side to input of left hand side\n",
    "* Can use Scala references to name intermediate results"
   ]
  },
  {
   "cell_type": "code",
   "execution_count": null,
   "id": "recorded-reducing",
   "metadata": {
    "cell_style": "split",
    "slideshow": {
     "slide_type": "-"
    }
   },
   "outputs": [],
   "source": [
    "class MyXOR extends Module {\n",
    "    val io = IO(new Bundle {\n",
    "        val a   = Input(Bool())\n",
    "        val b   = Input(Bool())\n",
    "        val c   = Output(Bool())\n",
    "    })\n",
    "    val myGate = io.a ^ io.b\n",
    "    io.c := myGate\n",
    "}\n",
    "printVerilog(new MyXOR)"
   ]
  },
  {
   "cell_type": "markdown",
   "id": "nervous-electricity",
   "metadata": {
    "cell_style": "split"
   },
   "source": [
    "<img src=\"images/xorRef.svg\" alt=\"XOR with Scala references\" style=\"width:55%;margin:auto\"/>"
   ]
  },
  {
   "cell_type": "markdown",
   "id": "weekly-lucas",
   "metadata": {
    "slideshow": {
     "slide_type": "slide"
    }
   },
   "source": [
    "## Chisel `Wire`\n",
    "\n",
    "* Sometimes need to connect things, but don't know both ends simultaneously\n",
    "* Commonly used with `when` construct (next slide)"
   ]
  },
  {
   "cell_type": "code",
   "execution_count": null,
   "id": "fresh-thomas",
   "metadata": {
    "cell_style": "split",
    "scrolled": true
   },
   "outputs": [],
   "source": [
    "class MyXOR2 extends Module {\n",
    "    val io = IO(new Bundle {\n",
    "        val a   = Input(Bool())\n",
    "        val b   = Input(Bool())\n",
    "        val c   = Output(Bool())\n",
    "    })\n",
    "    val myWire = Wire(Bool())\n",
    "    myWire := io.a ^ io.b\n",
    "    io.c := myWire\n",
    "}\n",
    "printVerilog(new MyXOR2)"
   ]
  },
  {
   "cell_type": "markdown",
   "id": "deadly-turkey",
   "metadata": {
    "cell_style": "split"
   },
   "source": [
    "<img src=\"images/xorWire.svg\" alt=\"XOR with Chisel Wire\" style=\"width:55%;margin:auto\"/>"
   ]
  },
  {
   "cell_type": "markdown",
   "id": "deluxe-adrian",
   "metadata": {
    "cell_style": "split",
    "slideshow": {
     "slide_type": "slide"
    }
   },
   "source": [
    "## Chisel `when`\n",
    "\n",
    "* When condition is true, performs Chisel operations contained in block\n",
    "* Generates selection in hardware\n",
    "  * Under the hood, Chisel will implement with muxes\n",
    "* Can use `.otherwise` like else\n",
    "* Can use `.elsewhen` like if else"
   ]
  },
  {
   "cell_type": "code",
   "execution_count": null,
   "id": "general-march",
   "metadata": {
    "cell_style": "split"
   },
   "outputs": [],
   "source": [
    "class MyWMux(w: Int) extends Module {\n",
    "    val io = IO(new Bundle {\n",
    "        val s   = Input(Bool())\n",
    "        val in0 = Input(UInt(w.W))\n",
    "        val in1 = Input(UInt(w.W))\n",
    "        val out = Output(UInt(w.W))\n",
    "    })\n",
    "    when (io.s) {\n",
    "        io.out := io.in1\n",
    "    } .otherwise {\n",
    "        io.out := io.in0\n",
    "    }\n",
    "}\n",
    "printVerilog(new MyWMux(8))"
   ]
  },
  {
   "cell_type": "markdown",
   "id": "subject-break",
   "metadata": {
    "cell_style": "split",
    "slideshow": {
     "slide_type": "slide"
    }
   },
   "source": [
    "## Chisel's Last Connect Semantics\n",
    "\n",
    "* Can connect a wire multiple times\n",
    "* Last connection to be evaluated in program orden \"wins\""
   ]
  },
  {
   "cell_type": "code",
   "execution_count": null,
   "id": "applied-values",
   "metadata": {
    "cell_style": "split"
   },
   "outputs": [],
   "source": [
    "class LastC extends Module {\n",
    "    val io = IO(new Bundle {\n",
    "        val x   = Input(Bool())\n",
    "        val y   = Output(UInt())\n",
    "    })\n",
    "    val w = Wire(UInt())\n",
    "    w := 1.U\n",
    "    when (io.x) {\n",
    "        w := 7.U\n",
    "    }\n",
    "    io.y := w\n",
    "}\n",
    "printVerilog(new LastC)"
   ]
  },
  {
   "cell_type": "markdown",
   "id": "c999b927",
   "metadata": {
    "cell_style": "split",
    "slideshow": {
     "slide_type": "slide"
    }
   },
   "source": [
    "## Last Connect Example\n",
    "\n",
    "* Absolute Value using `when`\n",
    "\n",
    "<img src=\"images/absMux.svg\" alt=\"mux schematic\" style=\"width:55%;margin:auto\"/>"
   ]
  },
  {
   "cell_type": "code",
   "execution_count": null,
   "id": "e16858b3",
   "metadata": {
    "cell_style": "split"
   },
   "outputs": [],
   "source": [
    "class WhenAbs(w: Int) extends Module {\n",
    "    val io = IO(new Bundle {\n",
    "        val x    = Input(SInt(w.W))\n",
    "        val absX = Output(SInt(w.W))\n",
    "    })\n",
    "    io.absX := io.x\n",
    "    when (io.x < 0.S) {\n",
    "        io.absX := -io.x\n",
    "    }\n",
    "}\n",
    "printVerilog(new WhenAbs(4))"
   ]
  },
  {
   "cell_type": "markdown",
   "id": "fitting-mailing",
   "metadata": {
    "cell_style": "split",
    "slideshow": {
     "slide_type": "slide"
    }
   },
   "source": [
    "## Bitwidth Truncation\n",
    "\n",
    "* Width inference will set widths based on rules for operator\n",
    "* Operators like add can truncate (`+`,`+%`) or grow (`+&`) to not loose data\n",
    "* If widths set, will truncate or grow\n",
    "  * UInts zero extend\n",
    "  * SInts sign extend\n",
    "* Consult [Chisel Cheat Sheet](https://github.com/freechipsproject/chisel-cheatsheet/releases/latest/download/chisel_cheatsheet.pdf)"
   ]
  },
  {
   "cell_type": "code",
   "execution_count": null,
   "id": "monetary-delhi",
   "metadata": {
    "cell_style": "split",
    "scrolled": true
   },
   "outputs": [],
   "source": [
    "class MyAdder(w: Int) extends Module {\n",
    "    val io = IO(new Bundle {\n",
    "        val a = Input(UInt(w.W))\n",
    "        val b = Input(UInt(w.W))\n",
    "        val c = Output(UInt())\n",
    "    })\n",
    "    io.c := io.a + io.b\n",
    "//     io.c := io.a +% io.b\n",
    "//     io.c := io.a +& io.b\n",
    "}\n",
    "printVerilog(new MyAdder(8))"
   ]
  },
  {
   "cell_type": "markdown",
   "id": "exceptional-medicare",
   "metadata": {
    "slideshow": {
     "slide_type": "slide"
    }
   },
   "source": [
    "## Example: Sign & Magnitude -> 2's Complement"
   ]
  },
  {
   "cell_type": "code",
   "execution_count": null,
   "id": "raised-daily",
   "metadata": {
    "cell_style": "split"
   },
   "outputs": [],
   "source": [
    "class SignMagConv(w: Int) extends Module {\n",
    "    val io = IO(new Bundle {\n",
    "        val sign = Input(Bool())\n",
    "        val mag  = Input(UInt(w.W))\n",
    "        val twos = Output(UInt((w+1).W))\n",
    "    })\n",
    "    when (io.sign) {\n",
    "        io.twos := ~io.mag +& 1.U\n",
    "    } .otherwise {\n",
    "        io.twos := io.mag\n",
    "    }\n",
    "}"
   ]
  },
  {
   "cell_type": "code",
   "execution_count": null,
   "id": "chief-cooler",
   "metadata": {
    "cell_style": "split",
    "scrolled": true
   },
   "outputs": [],
   "source": [
    "printVerilog(new SignMagConv(7))"
   ]
  },
  {
   "cell_type": "markdown",
   "id": "devoted-robinson",
   "metadata": {
    "cell_style": "split",
    "slideshow": {
     "slide_type": "slide"
    }
   },
   "source": [
    "## Working With Bits\n",
    "\n",
    "### Read-only access range `x(hi,lo)`\n",
    "* Access nth bit of x `x(n)`\n",
    "* _Note:_ can't assign extracted range\n",
    "\n",
    "### Concatenation\n",
    "* Combine signals x & y together `Cat(x,y)`\n",
    "\n",
    "### Fill\n",
    "* Repeat x, n times `Fill(n,x)`"
   ]
  },
  {
   "cell_type": "code",
   "execution_count": null,
   "id": "wireless-adoption",
   "metadata": {
    "cell_style": "split",
    "scrolled": true
   },
   "outputs": [],
   "source": [
    "class SignExtender(win: Int, wout: Int) extends Module {\n",
    "    val io = IO(new Bundle {\n",
    "        val in = Input(UInt(win.W))\n",
    "        val out = Output(UInt(wout.W))\n",
    "    })\n",
    "    assert(win > 0)\n",
    "    assert(win < wout)\n",
    "    val signBit = io.in(win-1)\n",
    "    val extension = Fill(wout-win, signBit)\n",
    "    io.out := Cat(extension, io.in)\n",
    "}\n",
    "printVerilog(new SignExtender(4,8))"
   ]
  }
 ],
 "metadata": {
  "celltoolbar": "Slideshow",
  "kernelspec": {
   "display_name": "Scala",
   "language": "scala",
   "name": "scala"
  },
  "language_info": {
   "codemirror_mode": "text/x-scala",
   "file_extension": ".sc",
   "mimetype": "text/x-scala",
   "name": "scala",
   "nbconvert_exporter": "script",
   "version": "2.13.10"
  }
 },
 "nbformat": 4,
 "nbformat_minor": 5
}
