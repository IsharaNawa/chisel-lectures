{
 "cells": [
  {
   "cell_type": "markdown",
   "id": "external-thermal",
   "metadata": {
    "slideshow": {
     "slide_type": "slide"
    }
   },
   "source": [
    "## Agile Hardware Design\n",
    "***\n",
    "# Queue Design Case Study\n",
    "\n",
    "## Prof. Scott Beamer\n",
    "### sbeamer@ucsc.edu\n",
    "\n",
    "## [CSE 293](https://classes.soe.ucsc.edu/cse293/Spring21/)"
   ]
  },
  {
   "cell_type": "markdown",
   "id": "nominated-consistency",
   "metadata": {
    "slideshow": {
     "slide_type": "slide"
    }
   },
   "source": [
    "## Plan for Today\n",
    "\n",
    "* Designing for reuse\n",
    "* Designing a Queue\n",
    "* Iteratively improving Queue design"
   ]
  },
  {
   "cell_type": "markdown",
   "id": "regular-reducing",
   "metadata": {
    "slideshow": {
     "slide_type": "slide"
    }
   },
   "source": [
    "## Loading The Chisel Library Into a Notebook"
   ]
  },
  {
   "cell_type": "code",
   "execution_count": 1,
   "id": "robust-immigration",
   "metadata": {},
   "outputs": [
    {
     "data": {
      "text/plain": [
       "\u001b[36mpath\u001b[39m: \u001b[32mString\u001b[39m = \u001b[32m\"/Users/sbeamer/Spring 2021/CSE 293/lectures/13-queue/../resource/chisel_deps.sc\"\u001b[39m"
      ]
     },
     "execution_count": 1,
     "metadata": {},
     "output_type": "execute_result"
    }
   ],
   "source": [
    "val path = System.getProperty(\"user.dir\") + \"/../resource/chisel_deps.sc\"\n",
    "interp.load.module(ammonite.ops.Path(java.nio.file.FileSystems.getDefault().getPath(path)))"
   ]
  },
  {
   "cell_type": "code",
   "execution_count": 2,
   "id": "extended-burning",
   "metadata": {
    "scrolled": true,
    "slideshow": {
     "slide_type": "-"
    }
   },
   "outputs": [
    {
     "data": {
      "text/plain": [
       "\u001b[32mimport \u001b[39m\u001b[36mchisel3._\n",
       "\u001b[39m\n",
       "\u001b[32mimport \u001b[39m\u001b[36mchisel3.util._\n",
       "\u001b[39m\n",
       "\u001b[32mimport \u001b[39m\u001b[36mchisel3.tester._\n",
       "\u001b[39m\n",
       "\u001b[32mimport \u001b[39m\u001b[36mchisel3.tester.RawTester.test\u001b[39m"
      ]
     },
     "execution_count": 2,
     "metadata": {},
     "output_type": "execute_result"
    }
   ],
   "source": [
    "import chisel3._\n",
    "import chisel3.util._\n",
    "import chisel3.tester._\n",
    "import chisel3.tester.RawTester.test"
   ]
  },
  {
   "cell_type": "markdown",
   "id": "enormous-press",
   "metadata": {
    "slideshow": {
     "slide_type": "slide"
    }
   },
   "source": [
    "## Goals for Reuse\n",
    "\n",
    "* Need to recognize _pattern_ of functionality\n",
    "\n",
    "* Include necessary parameterization and generation to support users' needs"
   ]
  },
  {
   "cell_type": "markdown",
   "id": "frank-compromise",
   "metadata": {
    "slideshow": {
     "slide_type": "slide"
    }
   },
   "source": [
    "## Planning for Progressive Design\n",
    "\n",
    "* Reduce the complexity/challenge of any one step\n",
    "* _Close the loop_ as early as possible, then augment/extend/revise\n",
    "* Look for opportunities to defer features/optimizations to later\n",
    "* While developing, re-evaluate plan and revise as needed\n",
    "* Consider\n",
    "  * What is the simplest thing I can implement?\n",
    "  * How can test it? (both at start and as it evolves)\n",
    "  * Plotting a roadmap of order to develop features/optimizations"
   ]
  },
  {
   "cell_type": "markdown",
   "id": "breeding-institute",
   "metadata": {
    "slideshow": {
     "slide_type": "slide"
    }
   },
   "source": [
    "## Case Study: Designing a Queue\n",
    "\n",
    "* A _Queue_ with `Decoupled` interfaces on both sides\n",
    "  * Would like to parameterize queue depth and data types\n",
    "  * Power/performance/area (PPA) goals\n",
    "\n",
    "* Deferred features\n",
    "  * Parameters (queue depth & data type)\n",
    "  * Performance (correct but slow ok at first)\n",
    "\n",
    "<img src=\"images/queue.svg\" alt=\"queue high-level\" style=\"width:70%;margin-left:auto;margin-right:auto\"/>"
   ]
  },
  {
   "cell_type": "markdown",
   "id": "rubber-louisiana",
   "metadata": {
    "slideshow": {
     "slide_type": "slide"
    }
   },
   "source": [
    "## First Attempt at Queue\n",
    "\n",
    "* _Simplification_: only single entry\n",
    "\n",
    "<img src=\"images/single.svg\" alt=\"single-entry queue\" style=\"width:60%;margin-left:auto;margin-right:auto\"/>"
   ]
  },
  {
   "cell_type": "markdown",
   "id": "distinct-observer",
   "metadata": {},
   "source": [
    "## V0 - First Attempt at Queue"
   ]
  },
  {
   "cell_type": "code",
   "execution_count": 130,
   "id": "expressed-constant",
   "metadata": {},
   "outputs": [
    {
     "data": {
      "text/plain": [
       "defined \u001b[32mclass\u001b[39m \u001b[36mMyQueue\u001b[39m"
      ]
     },
     "execution_count": 130,
     "metadata": {},
     "output_type": "execute_result"
    }
   ],
   "source": [
    "class MyQueue(bitWidth: Int) extends Module {\n",
    "    val io = IO(new Bundle {\n",
    "        val enq = Flipped(Decoupled(UInt(bitWidth.W)))\n",
    "        val deq = Decoupled(UInt(bitWidth.W))\n",
    "    })\n",
    "    val entry = Reg(UInt(bitWidth.W))\n",
    "    val full = RegInit(false.B)\n",
    "    io.enq.ready := !full || io.deq.fire\n",
    "    io.deq.valid := full\n",
    "    io.deq.bits := entry\n",
    "    when (io.deq.fire) {\n",
    "        full := false.B\n",
    "    }\n",
    "    when (io.enq.fire) {\n",
    "        entry := io.enq.bits\n",
    "        full := true.B\n",
    "    }\n",
    "}"
   ]
  },
  {
   "cell_type": "markdown",
   "id": "statewide-property",
   "metadata": {
    "slideshow": {
     "slide_type": "slide"
    }
   },
   "source": [
    "## Testing Our Queue - Scala Model"
   ]
  },
  {
   "cell_type": "code",
   "execution_count": 53,
   "id": "scheduled-article",
   "metadata": {},
   "outputs": [
    {
     "data": {
      "text/plain": [
       "defined \u001b[32mclass\u001b[39m \u001b[36mQueueModel\u001b[39m"
      ]
     },
     "execution_count": 53,
     "metadata": {},
     "output_type": "execute_result"
    }
   ],
   "source": [
    "class QueueModel(numEntries: Int) {\n",
    "    val mq = scala.collection.mutable.Queue[Int]()\n",
    "    var deqReady = false\n",
    "\n",
    "    def attemptEnq(elem: Int) { \n",
    "        if (enqReady()) mq += elem\n",
    "    }\n",
    "\n",
    "    // call first within a cycle\n",
    "    // improve with Option & None\n",
    "    def attemptDeq() = if (deqReady) mq.dequeue() else -1\n",
    "    \n",
    "    def enqReady() = mq.size < numEntries || (mq.size == numEntries && deqReady)\n",
    "    def deqValid() = mq.nonEmpty\n",
    "}"
   ]
  },
  {
   "cell_type": "markdown",
   "id": "nuclear-patient",
   "metadata": {
    "slideshow": {
     "slide_type": "slide"
    }
   },
   "source": [
    "## Testing Our Queue - Harness + Simulation"
   ]
  },
  {
   "cell_type": "code",
   "execution_count": 142,
   "id": "joined-stamp",
   "metadata": {},
   "outputs": [
    {
     "data": {
      "text/plain": [
       "defined \u001b[32mfunction\u001b[39m \u001b[36msimCycle\u001b[39m"
      ]
     },
     "execution_count": 142,
     "metadata": {},
     "output_type": "execute_result"
    }
   ],
   "source": [
    "def simCycle(qm: QueueModel, c: MyQueue, enqReady: Boolean, deqReady: Boolean, enqData: Int=0) {\n",
    "    qm.deqReady = deqReady\n",
    "    c.io.deq.ready.poke(qm.deqReady.B)\n",
    "    if (c.io.deq.valid.peek.litToBoolean && deqReady) {\n",
    "        assert(qm.deqValid)\n",
    "        c.io.deq.bits.expect(qm.attemptDeq().U)\n",
    "    }\n",
    "    c.io.enq.ready.expect(qm.enqReady.B)\n",
    "    c.io.enq.valid.poke(enqReady.B)\n",
    "    c.io.enq.bits.poke(enqData.U)\n",
    "    if (enqReady)\n",
    "        qm.attemptEnq(enqData)\n",
    "    c.clock.step()\n",
    "    println(qm.mq)\n",
    "}"
   ]
  },
  {
   "cell_type": "markdown",
   "id": "judicial-dance",
   "metadata": {},
   "source": [
    "## Testing Our Queue - Simulation"
   ]
  },
  {
   "cell_type": "code",
   "execution_count": 136,
   "id": "meaningful-delight",
   "metadata": {},
   "outputs": [
    {
     "name": "stdout",
     "output_type": "stream",
     "text": [
      "Elaborating design...\n",
      "Done elaborating.\n",
      "Queue()\n",
      "Queue(1)\n",
      "Queue(1)\n",
      "Queue(2)\n",
      "Queue()\n",
      "test MyQueue Success: 0 tests passed in 7 cycles in 0.003292 seconds 2126.53 Hz\n"
     ]
    }
   ],
   "source": [
    "test(new MyQueue(8)) { c =>\n",
    "    val qm = new QueueModel(1)\n",
    "    simCycle(qm, c, false, false)\n",
    "    simCycle(qm, c, true, false, 1)\n",
    "    simCycle(qm, c, true, false, 2)\n",
    "    simCycle(qm, c, true, true, 2)\n",
    "    simCycle(qm, c, false, true)\n",
    "}"
   ]
  },
  {
   "cell_type": "markdown",
   "id": "racial-manner",
   "metadata": {
    "slideshow": {
     "slide_type": "slide"
    }
   },
   "source": [
    "## Assessing `MyQueue V0`\n",
    "\n",
    "* Accomplished\n",
    "    * Implements queueing behavior\n",
    "    * Parameterized data width\n",
    "* Shortcommings\n",
    "    * Only one entry (_next goal_ to fix)"
   ]
  },
  {
   "cell_type": "markdown",
   "id": "entire-position",
   "metadata": {
    "slideshow": {
     "slide_type": "slide"
    }
   },
   "source": [
    "## Parameterizing Number of Queue Entries\n",
    "\n",
    "* First attempt at parameterizing number of entries: _shift register_\n",
    "\n",
    "<img src=\"images/shift.svg\" alt=\"queue via shift register\" style=\"width:60%;margin-left:auto;margin-right:auto\"/>"
   ]
  },
  {
   "cell_type": "markdown",
   "id": "typical-picture",
   "metadata": {
    "slideshow": {
     "slide_type": "slide"
    }
   },
   "source": [
    "## V1 - Parameterizing Number of Queue Entries"
   ]
  },
  {
   "cell_type": "code",
   "execution_count": 138,
   "id": "radio-disorder",
   "metadata": {},
   "outputs": [
    {
     "data": {
      "text/plain": [
       "defined \u001b[32mclass\u001b[39m \u001b[36mMyQueue\u001b[39m"
      ]
     },
     "execution_count": 138,
     "metadata": {},
     "output_type": "execute_result"
    }
   ],
   "source": [
    "class MyQueue(numEntries: Int, bitWidth: Int) extends Module {\n",
    "    val io = IO(new Bundle {\n",
    "        val enq = Flipped(Decoupled(UInt(bitWidth.W)))\n",
    "        val deq = Decoupled(UInt(bitWidth.W))\n",
    "    })\n",
    "    require(numEntries > 0)\n",
    "    val entries = Seq.fill(numEntries)(Reg(UInt(bitWidth.W)))\n",
    "    val fullBits = Seq.fill(numEntries)(RegInit(false.B))\n",
    "    val shiftDown = io.deq.fire || !fullBits.head\n",
    "    io.enq.ready := !fullBits.last || shiftDown\n",
    "    io.deq.valid := fullBits.head\n",
    "    io.deq.bits := entries.head\n",
    "    when (shiftDown) { // dequeue / shift\n",
    "        for (i <- 0 until numEntries - 1) {\n",
    "            entries(i) := entries(i+1)\n",
    "            fullBits(i) := fullBits(i+1)\n",
    "        }\n",
    "        fullBits.last := false.B\n",
    "    }\n",
    "    when (io.enq.fire) { // enqueue\n",
    "        entries.last := io.enq.bits\n",
    "        fullBits.last := true.B\n",
    "    }\n",
    "//     when (shiftDown || io.enq.fire) {\n",
    "//         entries.foldRight(io.enq.bits){(thisEntry, lastEntry) => thisEntry := lastEntry; thisEntry}\n",
    "//         fullBits.foldRight(io.enq.fire){(thisEntry, lastEntry) => thisEntry := lastEntry; thisEntry}\n",
    "//     }\n",
    "}"
   ]
  },
  {
   "cell_type": "markdown",
   "id": "working-blues",
   "metadata": {
    "slideshow": {
     "slide_type": "slide"
    }
   },
   "source": [
    "## Testing Our Queue"
   ]
  },
  {
   "cell_type": "code",
   "execution_count": 140,
   "id": "going-comparison",
   "metadata": {},
   "outputs": [
    {
     "name": "stdout",
     "output_type": "stream",
     "text": [
      "Elaborating design...\n",
      "Done elaborating.\n",
      "Queue()\n",
      "Queue(1)\n",
      "Queue(1)\n",
      "Queue()\n",
      "test MyQueue Success: 0 tests passed in 6 cycles in 0.004447 seconds 1349.08 Hz\n"
     ]
    }
   ],
   "source": [
    "test(new MyQueue(2,8)) { c =>\n",
    "    val qm = new QueueModel(2)\n",
    "    simCycle(qm, c, false, false)\n",
    "    simCycle(qm, c, true, false, 1)\n",
    "    simCycle(qm, c, false, true)\n",
    "    simCycle(qm, c, false, true)\n",
    "}"
   ]
  },
  {
   "cell_type": "markdown",
   "id": "smaller-imperial",
   "metadata": {
    "slideshow": {
     "slide_type": "slide"
    }
   },
   "source": [
    "## Assessing `MyQueueV1`\n",
    "\n",
    "* Accomplished\n",
    "    * Implements queueing behavior\n",
    "    * Parameterized data width & _number of entries_\n",
    "* Shortcommings\n",
    "    * Long latency when queue is empty (all elements go through all entries)\n",
    "    * Not good at handling bubbles midway (might even be buggy)"
   ]
  },
  {
   "cell_type": "markdown",
   "id": "touched-terrorist",
   "metadata": {
    "slideshow": {
     "slide_type": "slide"
    }
   },
   "source": [
    "## Squishing Bubbles in Queue\n",
    "\n",
    "* Use a _Priority Encoder_ to squeeze out bubbles\n",
    "  * Insert in first free slot\n",
    "\n",
    "<img src=\"images/shift.svg\" alt=\"queue via shift register\" style=\"width:60%;margin-left:auto;margin-right:auto\"/>"
   ]
  },
  {
   "cell_type": "markdown",
   "id": "downtown-remainder",
   "metadata": {
    "slideshow": {
     "slide_type": "slide"
    }
   },
   "source": [
    "## V2 - Using Priority Encoder for Insertion"
   ]
  },
  {
   "cell_type": "code",
   "execution_count": 141,
   "id": "spectacular-tanzania",
   "metadata": {},
   "outputs": [
    {
     "data": {
      "text/plain": [
       "defined \u001b[32mclass\u001b[39m \u001b[36mMyQueue\u001b[39m"
      ]
     },
     "execution_count": 141,
     "metadata": {},
     "output_type": "execute_result"
    }
   ],
   "source": [
    "class MyQueue(numEntries: Int, bitWidth: Int) extends Module {\n",
    "    val io = IO(new Bundle {\n",
    "        val enq = Flipped(Decoupled(UInt(bitWidth.W)))\n",
    "        val deq = Decoupled(UInt(bitWidth.W))\n",
    "    })\n",
    "    require(numEntries > 0)\n",
    "    val entries = Reg(Vec(numEntries, UInt(bitWidth.W)))\n",
    "    val fullBits = RegInit(VecInit(Seq.fill(numEntries)(false.B)))\n",
    "    val emptyBits = fullBits map { !_ }\n",
    "    io.enq.ready := emptyBits reduce { _ || _ } // any empties?\n",
    "    io.deq.valid := fullBits.head\n",
    "    io.deq.bits := entries.head\n",
    "    when (io.deq.fire) { // dequeue & shift up\n",
    "        for (i <- 0 until numEntries - 1) {\n",
    "            entries(i) := entries(i+1)\n",
    "            fullBits(i) := fullBits(i+1)\n",
    "        }\n",
    "        fullBits(numEntries - 1) := false.B\n",
    "    }\n",
    "    when (io.enq.fire) { // priority enqueue\n",
    "        val writeIndex = PriorityEncoder(emptyBits)\n",
    "        entries(writeIndex) := io.enq.bits\n",
    "        fullBits(writeIndex) := true.B\n",
    "    }\n",
    "}"
   ]
  },
  {
   "cell_type": "markdown",
   "id": "ceramic-delaware",
   "metadata": {
    "slideshow": {
     "slide_type": "slide"
    }
   },
   "source": [
    "## Testing Our Queue"
   ]
  },
  {
   "cell_type": "code",
   "execution_count": 143,
   "id": "lovely-german",
   "metadata": {},
   "outputs": [
    {
     "name": "stdout",
     "output_type": "stream",
     "text": [
      "Elaborating design...\n",
      "Done elaborating.\n",
      "Queue()\n",
      "Queue(1)\n",
      "Queue()\n",
      "test MyQueue Success: 0 tests passed in 5 cycles in 0.002772 seconds 1803.85 Hz\n"
     ]
    }
   ],
   "source": [
    "test(new MyQueue(2, 8)) { c =>\n",
    "    val qm = new QueueModel(2)\n",
    "    simCycle(qm, c, false, false)\n",
    "    simCycle(qm, c, true, false, 1)\n",
    "    simCycle(qm, c, false, true)\n",
    "}"
   ]
  },
  {
   "cell_type": "markdown",
   "id": "amber-intellectual",
   "metadata": {
    "slideshow": {
     "slide_type": "slide"
    }
   },
   "source": [
    "## Assessing `MyQueue V2`\n",
    "\n",
    "* Accomplished\n",
    "  * Implements queueing behavior\n",
    "  * Parameterized data width & number of entries\n",
    "  * Latency based on occupancy\n",
    "\n",
    "* Shortcommings\n",
    "  * _Performance:_ can't simultaneously enqueue/dequeue to a full queue\n",
    "  * _Power Efficiency:_ lots of bits shifting\n",
    "  * _Potential Critical Path:_ priority encoder logic depth"
   ]
  },
  {
   "cell_type": "markdown",
   "id": "previous-complex",
   "metadata": {
    "slideshow": {
     "slide_type": "slide"
    }
   },
   "source": [
    "## Keeping Data in Place with a Circular Buffer\n",
    "\n",
    "* _Circular buffer_ uses two pointers (indices) and fixed size storage to make a FIFO\n",
    "  * Insert new data at _in_ (and increment _in_)\n",
    "  * Pop from _out_ (and increment _out_)\n",
    "  * Wrap pointers around when they get to end\n",
    "* How to tell when empty vs full?\n",
    "  * First try: _empty_ when pointers are equal, _full_ when in+1 == out\n",
    "\n",
    "<img src=\"images/circular.svg\" alt=\"circular buffer\" style=\"width:60%;margin-left:auto;margin-right:auto\"/>"
   ]
  },
  {
   "cell_type": "markdown",
   "id": "steady-broadcast",
   "metadata": {
    "slideshow": {
     "slide_type": "slide"
    }
   },
   "source": [
    "## V3 - Keeping Data in Place with Circular Buffer"
   ]
  },
  {
   "cell_type": "code",
   "execution_count": 145,
   "id": "green-parish",
   "metadata": {},
   "outputs": [
    {
     "data": {
      "text/plain": [
       "defined \u001b[32mclass\u001b[39m \u001b[36mMyQueue\u001b[39m"
      ]
     },
     "execution_count": 145,
     "metadata": {},
     "output_type": "execute_result"
    }
   ],
   "source": [
    "class MyQueue(numEntries: Int, bitWidth: Int) extends Module {\n",
    "    val io = IO(new Bundle {\n",
    "        val enq = Flipped(Decoupled(UInt(bitWidth.W)))\n",
    "        val deq = Decoupled(UInt(bitWidth.W))\n",
    "    })\n",
    "    require(numEntries > 1)\n",
    "    require(isPow2(numEntries))\n",
    "    val entries = Reg(Vec(numEntries, UInt(bitWidth.W))) // Mem?\n",
    "    val enqIndex = RegInit(0.U(log2Ceil(numEntries).W))\n",
    "    val deqIndex = RegInit(0.U(log2Ceil(numEntries).W))\n",
    "    val empty = enqIndex === deqIndex\n",
    "    val full = (enqIndex +% 1.U) === deqIndex\n",
    "    io.enq.ready := !full\n",
    "    io.deq.valid := !empty\n",
    "    io.deq.bits := entries(deqIndex)\n",
    "    when (io.deq.fire) {\n",
    "        deqIndex := deqIndex +% 1.U\n",
    "    }\n",
    "    when (io.enq.fire) {\n",
    "        entries(enqIndex) := io.enq.bits\n",
    "        enqIndex := enqIndex +% 1.U\n",
    "    }\n",
    "}"
   ]
  },
  {
   "cell_type": "code",
   "execution_count": 151,
   "id": "abandoned-advocacy",
   "metadata": {
    "slideshow": {
     "slide_type": "slide"
    }
   },
   "outputs": [
    {
     "name": "stdout",
     "output_type": "stream",
     "text": [
      "Elaborating design...\n",
      "Done elaborating.\n",
      "Queue()\n",
      "Queue(1)\n",
      "test MyQueue Success: 0 tests passed in 3 cycles in 0.001812 seconds 1655.18 Hz\n"
     ]
    },
    {
     "ename": "",
     "evalue": "",
     "output_type": "error",
     "traceback": [
      "\u001b[31mchiseltest.internal.FailedExpectException: io_enq_ready=false (0, 0x0) did not equal expected=true (1, 0x1) (no lines in chisel_test_1619468349842)\u001b[39m\n  chiseltest.internal.TestEnvInterface.testerExpect(\u001b[32mTestEnvInterface.scala\u001b[39m:\u001b[32m107\u001b[39m)\n  chiseltest.internal.TestEnvInterface.testerExpect$(\u001b[32mTestEnvInterface.scala\u001b[39m:\u001b[32m70\u001b[39m)\n  chiseltest.RawTester.testerExpect(\u001b[32mRawTester.scala\u001b[39m:\u001b[32m15\u001b[39m)\n  chiseltest.backends.treadle.TreadleBackend.expectBits(\u001b[32mTreadleBackend.scala\u001b[39m:\u001b[32m92\u001b[39m)\n  chiseltest.package$testableData.expectWithStale(\u001b[32mpackage.scala\u001b[39m:\u001b[32m162\u001b[39m)\n  chiseltest.package$testableData.expect(\u001b[32mpackage.scala\u001b[39m:\u001b[32m193\u001b[39m)\n  ammonite.$sess.cmd150$Helper.simCycle(\u001b[32mcmd150.sc\u001b[39m:\u001b[32m7\u001b[39m)\n  ammonite.$sess.cmd150$Helper.$anonfun$res150_1$2(\u001b[32mcmd150.sc\u001b[39m:\u001b[32m20\u001b[39m)\n  ammonite.$sess.cmd150$Helper.$anonfun$res150_1$2$adapted(\u001b[32mcmd150.sc\u001b[39m:\u001b[32m16\u001b[39m)\n  chiseltest.backends.treadle.TreadleBackend.$anonfun$run$1(\u001b[32mTreadleBackend.scala\u001b[39m:\u001b[32m152\u001b[39m)\n  chiseltest.internal.ThreadedBackend$TesterThread$$anon$1.$anonfun$run$1(\u001b[32mThreadedBackend.scala\u001b[39m:\u001b[32m507\u001b[39m)\n  chiseltest.backends.treadle.TreadleBackend.doTimescope(\u001b[32mTreadleBackend.scala\u001b[39m:\u001b[32m109\u001b[39m)\n  chiseltest.internal.ThreadedBackend$TesterThread$$anon$1.run(\u001b[32mThreadedBackend.scala\u001b[39m:\u001b[32m507\u001b[39m)\n  java.lang.Thread.run(\u001b[32mThread.java\u001b[39m:\u001b[32m844\u001b[39m)"
     ]
    }
   ],
   "source": [
    "def simCycle(qm: QueueModel, c: MyQueue, enqReady: Boolean, deqReady: Boolean, enqData: Int=0) {\n",
    "    qm.deqReady = deqReady\n",
    "    c.io.deq.ready.poke(qm.deqReady.B)\n",
    "    c.io.deq.valid.expect(qm.deqValid.B)\n",
    "    if (deqReady && qm.deqValid)\n",
    "        c.io.deq.bits.expect(qm.attemptDeq().U)\n",
    "    c.io.enq.ready.expect(qm.enqReady.B)\n",
    "    c.io.enq.valid.poke(enqReady.B)\n",
    "    c.io.enq.bits.poke(enqData.U)\n",
    "    if (enqReady)\n",
    "        qm.attemptEnq(enqData)\n",
    "    c.clock.step()\n",
    "    println(qm.mq)\n",
    "}\n",
    "\n",
    "test(new MyQueue(2, 8)) { c =>\n",
    "    val qm = new QueueModel(2)\n",
    "    simCycle(qm, c, false, false)\n",
    "    simCycle(qm, c, true, false, 1)\n",
    "    simCycle(qm, c, false, true)\n",
    "}"
   ]
  },
  {
   "cell_type": "markdown",
   "id": "working-period",
   "metadata": {
    "slideshow": {
     "slide_type": "slide"
    }
   },
   "source": [
    "## Assessing MyQueueV3\n",
    "\n",
    "* Accomplished\n",
    "  * Implements queueing behavior\n",
    "  * Parameterized data width & number of entries\n",
    "  * Latency based on occupancy\n",
    "  * Efficiency? Less bits shifting and shallower logic\n",
    "\n",
    "* Shortcommings\n",
    "  * _Capacity:_ loose one entry (and must be power of 2)\n",
    "  * _Performance:_ can't simultaneously enqueue/dequeue to a full queue"
   ]
  },
  {
   "cell_type": "markdown",
   "id": "advisory-bosnia",
   "metadata": {
    "slideshow": {
     "slide_type": "slide"
    }
   },
   "source": [
    "## V4 - Adding State (`maybeFull`) Track Last Entry"
   ]
  },
  {
   "cell_type": "code",
   "execution_count": 152,
   "id": "right-orientation",
   "metadata": {},
   "outputs": [
    {
     "data": {
      "text/plain": [
       "defined \u001b[32mclass\u001b[39m \u001b[36mMyQueue\u001b[39m"
      ]
     },
     "execution_count": 152,
     "metadata": {},
     "output_type": "execute_result"
    }
   ],
   "source": [
    "class MyQueue(numEntries: Int, bitWidth: Int) extends Module {\n",
    "    val io = IO(new Bundle {\n",
    "        val enq = Flipped(Decoupled(UInt(bitWidth.W)))\n",
    "        val deq = Decoupled(UInt(bitWidth.W))\n",
    "    })\n",
    "    require(numEntries > 1)\n",
    "    require(isPow2(numEntries))\n",
    "    val entries = Reg(Vec(numEntries, UInt(bitWidth.W)))\n",
    "    val enqIndex = RegInit(0.U(log2Ceil(numEntries).W))\n",
    "    val deqIndex = RegInit(0.U(log2Ceil(numEntries).W))\n",
    "    val maybeFull = RegInit(false.B)\n",
    "    val empty = enqIndex === deqIndex && !maybeFull\n",
    "    val full = enqIndex === deqIndex && maybeFull\n",
    "    io.enq.ready := !full\n",
    "    io.deq.valid := !empty\n",
    "    io.deq.bits := entries(deqIndex)\n",
    "    when (io.deq.fire) {\n",
    "        deqIndex := deqIndex +% 1.U\n",
    "        when (enqIndex =/= deqIndex) {\n",
    "            maybeFull := false.B\n",
    "        }\n",
    "    }\n",
    "    when (io.enq.fire) {\n",
    "        entries(enqIndex) := io.enq.bits\n",
    "        enqIndex := enqIndex +% 1.U\n",
    "        when ((enqIndex +% 1.U) === deqIndex) {\n",
    "            maybeFull := true.B\n",
    "        }\n",
    "    }\n",
    "}"
   ]
  },
  {
   "cell_type": "code",
   "execution_count": 104,
   "id": "italic-shoulder",
   "metadata": {
    "scrolled": true,
    "slideshow": {
     "slide_type": "slide"
    }
   },
   "outputs": [
    {
     "name": "stdout",
     "output_type": "stream",
     "text": [
      "Elaborating design...\n",
      "Done elaborating.\n",
      "Queue()\n",
      "Queue(1)\n",
      "Queue()\n",
      "test MyQueueV4 Success: 0 tests passed in 5 cycles in 0.004057 seconds 1232.38 Hz\n"
     ]
    },
    {
     "data": {
      "text/plain": [
       "defined \u001b[32mfunction\u001b[39m \u001b[36msimCycle\u001b[39m"
      ]
     },
     "execution_count": 104,
     "metadata": {},
     "output_type": "execute_result"
    }
   ],
   "source": [
    "def simCycle(qm: QueueModel, c: MyQueueV4, enqReady: Boolean, deqReady: Boolean, enqData: Int=0) {\n",
    "    qm.deqReady = deqReady\n",
    "    c.io.deq.ready.poke(qm.deqReady.B)\n",
    "    c.io.deq.valid.expect(qm.deqValid.B)\n",
    "    if (deqReady && qm.deqValid)\n",
    "        c.io.deq.bits.expect(qm.attemptDeq().U)\n",
    "    c.io.enq.ready.expect(qm.enqReady.B)\n",
    "    c.io.enq.valid.poke(enqReady.B)\n",
    "    c.io.enq.bits.poke(enqData.U)\n",
    "    if (enqReady)\n",
    "        qm.attemptEnq(enqData)\n",
    "    c.clock.step()\n",
    "    println(qm.mq)\n",
    "}\n",
    "\n",
    "test(new MyQueueV4(2, 8)) { c =>\n",
    "    val qm = new QueueModel(2)\n",
    "    simCycle(qm, c, false, false)\n",
    "    simCycle(qm, c, true, false, 1)\n",
    "    simCycle(qm, c, false, true)\n",
    "}"
   ]
  },
  {
   "cell_type": "markdown",
   "id": "nutritional-injection",
   "metadata": {
    "slideshow": {
     "slide_type": "slide"
    }
   },
   "source": [
    "## V5 - Simultaneous Enqueue/Dequeue When Full"
   ]
  },
  {
   "cell_type": "code",
   "execution_count": 153,
   "id": "sonic-surgery",
   "metadata": {},
   "outputs": [
    {
     "data": {
      "text/plain": [
       "defined \u001b[32mclass\u001b[39m \u001b[36mMyQueue\u001b[39m"
      ]
     },
     "execution_count": 153,
     "metadata": {},
     "output_type": "execute_result"
    }
   ],
   "source": [
    "class MyQueue(numEntries: Int, bitWidth: Int) extends Module {\n",
    "    val io = IO(new Bundle {\n",
    "        val enq = Flipped(Decoupled(UInt(bitWidth.W)))\n",
    "        val deq = Decoupled(UInt(bitWidth.W))\n",
    "    })\n",
    "    require(numEntries > 1)\n",
    "    require(isPow2(numEntries))\n",
    "    val entries = Reg(Vec(numEntries, UInt(bitWidth.W)))\n",
    "    val enqIndex = RegInit(0.U(log2Ceil(numEntries).W))\n",
    "    val deqIndex = RegInit(0.U(log2Ceil(numEntries).W))\n",
    "    val maybeFull = RegInit(false.B)\n",
    "    val empty = enqIndex === deqIndex && !maybeFull\n",
    "    val full = enqIndex === deqIndex && maybeFull\n",
    "    io.enq.ready := !full || io.deq.ready  // NOTE: io.enq.ready now attached to io.deq.ready\n",
    "    io.deq.valid := !empty\n",
    "    io.deq.bits := entries(deqIndex)\n",
    "    when (io.deq.fire) {\n",
    "        deqIndex := deqIndex +% 1.U\n",
    "        when (enqIndex =/= deqIndex) {\n",
    "            maybeFull := false.B\n",
    "        }\n",
    "    }\n",
    "    when (io.enq.fire) {\n",
    "        entries(enqIndex) := io.enq.bits\n",
    "        enqIndex := enqIndex +% 1.U\n",
    "        when ((enqIndex +% 1.U) === deqIndex) {\n",
    "            maybeFull := true.B\n",
    "        }\n",
    "    }\n",
    "}"
   ]
  },
  {
   "cell_type": "code",
   "execution_count": 154,
   "id": "honey-bracket",
   "metadata": {
    "slideshow": {
     "slide_type": "slide"
    }
   },
   "outputs": [
    {
     "name": "stdout",
     "output_type": "stream",
     "text": [
      "Elaborating design...\n",
      "Done elaborating.\n",
      "Queue()\n",
      "Queue(1)\n",
      "Queue(1, 2)\n",
      "Queue(2, 3)\n",
      "Queue(3)\n",
      "test MyQueue Success: 0 tests passed in 7 cycles in 0.004083 seconds 1714.23 Hz\n"
     ]
    },
    {
     "data": {
      "text/plain": [
       "defined \u001b[32mfunction\u001b[39m \u001b[36msimCycle\u001b[39m"
      ]
     },
     "execution_count": 154,
     "metadata": {},
     "output_type": "execute_result"
    }
   ],
   "source": [
    "def simCycle(qm: QueueModel, c: MyQueue, enqReady: Boolean, deqReady: Boolean, enqData: Int=0) {\n",
    "    qm.deqReady = deqReady\n",
    "    c.io.deq.ready.poke(qm.deqReady.B)\n",
    "    c.io.deq.valid.expect(qm.deqValid.B)\n",
    "    if (deqReady && qm.deqValid)\n",
    "        c.io.deq.bits.expect(qm.attemptDeq().U)\n",
    "    c.io.enq.ready.expect(qm.enqReady.B)\n",
    "    c.io.enq.valid.poke(enqReady.B)\n",
    "    c.io.enq.bits.poke(enqData.U)\n",
    "    if (enqReady)\n",
    "        qm.attemptEnq(enqData)\n",
    "    c.clock.step()\n",
    "    println(qm.mq)\n",
    "}\n",
    "\n",
    "test(new MyQueue(2, 8)) { c =>\n",
    "    val qm = new QueueModel(2)\n",
    "    simCycle(qm, c, false, false)\n",
    "    simCycle(qm, c, true, false, 1)\n",
    "    simCycle(qm, c, true, false, 2)\n",
    "    simCycle(qm, c, true, true, 3)\n",
    "    simCycle(qm, c, false, true)\n",
    "}"
   ]
  },
  {
   "cell_type": "markdown",
   "id": "collectible-jungle",
   "metadata": {
    "slideshow": {
     "slide_type": "slide"
    }
   },
   "source": [
    "## V6 - Tidying up Code"
   ]
  },
  {
   "cell_type": "code",
   "execution_count": 155,
   "id": "descending-bidder",
   "metadata": {
    "slideshow": {
     "slide_type": "-"
    }
   },
   "outputs": [
    {
     "data": {
      "text/plain": [
       "defined \u001b[32mclass\u001b[39m \u001b[36mMyQueue\u001b[39m"
      ]
     },
     "execution_count": 155,
     "metadata": {},
     "output_type": "execute_result"
    }
   ],
   "source": [
    "class MyQueue(numEntries: Int, bitWidth: Int, pipe: Boolean=true) extends Module {\n",
    "    val io = IO(new Bundle {\n",
    "        val enq = Flipped(Decoupled(UInt(bitWidth.W)))\n",
    "        val deq = Decoupled(UInt(bitWidth.W))\n",
    "    })\n",
    "    require(numEntries > 1)\n",
    "    require(isPow2(numEntries))\n",
    "    val entries = Reg(Vec(numEntries, UInt(bitWidth.W)))\n",
    "    val enqIndex = Counter(numEntries)\n",
    "    val deqIndex = Counter(numEntries)\n",
    "    val maybeFull = RegInit(false.B)\n",
    "    val indicesEqual = enqIndex.value === deqIndex.value\n",
    "    val empty = indicesEqual && !maybeFull\n",
    "    val full = indicesEqual && maybeFull\n",
    "    if (pipe)\n",
    "        io.enq.ready := !full || io.deq.ready\n",
    "    else\n",
    "        io.enq.ready := !full\n",
    "    io.deq.valid := !empty\n",
    "    io.deq.bits := entries(deqIndex.value)\n",
    "    when (indicesEqual && io.deq.fire =/= io.enq.fire) {\n",
    "        maybeFull := !maybeFull\n",
    "    }\n",
    "    when (io.deq.fire) {\n",
    "        deqIndex.inc()\n",
    "    }\n",
    "    when (io.enq.fire) {\n",
    "        entries(enqIndex.value) := io.enq.bits\n",
    "        enqIndex.inc()\n",
    "    }\n",
    "}"
   ]
  },
  {
   "cell_type": "code",
   "execution_count": 156,
   "id": "formed-damages",
   "metadata": {
    "slideshow": {
     "slide_type": "slide"
    }
   },
   "outputs": [
    {
     "name": "stdout",
     "output_type": "stream",
     "text": [
      "Elaborating design...\n",
      "Done elaborating.\n",
      "Queue()\n",
      "Queue(1)\n",
      "Queue(1, 2)\n",
      "Queue(2, 3)\n",
      "Queue(3)\n",
      "test MyQueue Success: 0 tests passed in 7 cycles in 0.004239 seconds 1651.15 Hz\n"
     ]
    },
    {
     "data": {
      "text/plain": [
       "defined \u001b[32mfunction\u001b[39m \u001b[36msimCycle\u001b[39m"
      ]
     },
     "execution_count": 156,
     "metadata": {},
     "output_type": "execute_result"
    }
   ],
   "source": [
    "def simCycle(qm: QueueModel, c: MyQueue, enqReady: Boolean, deqReady: Boolean, enqData: Int=0) {\n",
    "    qm.deqReady = deqReady\n",
    "    c.io.deq.ready.poke(qm.deqReady.B)\n",
    "    c.io.deq.valid.expect(qm.deqValid.B)\n",
    "    if (deqReady && qm.deqValid)\n",
    "        c.io.deq.bits.expect(qm.attemptDeq().U)\n",
    "    c.io.enq.ready.expect(qm.enqReady.B)\n",
    "    c.io.enq.valid.poke(enqReady.B)\n",
    "    c.io.enq.bits.poke(enqData.U)\n",
    "    if (enqReady)\n",
    "        qm.attemptEnq(enqData)\n",
    "    c.clock.step()\n",
    "    println(qm.mq)\n",
    "}\n",
    "\n",
    "test(new MyQueue(2, 8)) { c =>\n",
    "    val qm = new QueueModel(2)\n",
    "    simCycle(qm, c, false, false)\n",
    "    simCycle(qm, c, true, false, 1)\n",
    "    simCycle(qm, c, true, false, 2)\n",
    "    simCycle(qm, c, true, true, 3)\n",
    "    simCycle(qm, c, false, true)\n",
    "}"
   ]
  }
 ],
 "metadata": {
  "celltoolbar": "Slideshow",
  "kernelspec": {
   "display_name": "Scala",
   "language": "scala",
   "name": "scala"
  },
  "language_info": {
   "codemirror_mode": "text/x-scala",
   "file_extension": ".scala",
   "mimetype": "text/x-scala",
   "name": "scala",
   "nbconvert_exporter": "script",
   "version": "2.12.10"
  }
 },
 "nbformat": 4,
 "nbformat_minor": 5
}
